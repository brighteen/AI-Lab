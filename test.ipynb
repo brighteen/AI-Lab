{
 "cells": [
  {
   "cell_type": "code",
   "execution_count": 2,
   "id": "3bdf7ada",
   "metadata": {},
   "outputs": [],
   "source": [
    "import numpy as np"
   ]
  },
  {
   "cell_type": "code",
   "execution_count": 20,
   "id": "1cfe1a9f",
   "metadata": {},
   "outputs": [],
   "source": [
    "import numpy as np\n",
    "\n",
    "def softmax_with_loop(x):\n",
    "    \"\"\"\n",
    "    for 반복문을 사용하여 소프트맥스 함수를 계산합니다. (수치적 안정성 포함)\n",
    "    \n",
    "    Args:\n",
    "        x (list or np.ndarray): 로짓 값들을 담은 1차원 리스트 또는 배열\n",
    "        \n",
    "    Returns:\n",
    "        np.ndarray: 각 클래스에 대한 확률값을 담은 배열\n",
    "    \"\"\"\n",
    "    # 입력값을 numpy 배열로 변환하여 계산 용이성을 높임\n",
    "    logits = np.array(x)\n",
    "    print(f\"입력 로짓x (logits): {logits}\")\n",
    "    \n",
    "    # 1. 오버플로우 방지를 위해 입력값에서 최댓값을 빼줌 (수치 안정성 트릭)\n",
    "    max_logit = np.max(logits)\n",
    "    print(f\"최댓값 (max(logits)): {max_logit}\")\n",
    "    stable_logits = logits - max_logit\n",
    "    print(f\"안정화된 로짓 (x - max(x)): {stable_logits}\")\n",
    "    \n",
    "    # 2. 분모 계산: 모든 안정화된 로짓에 지수를 취한 값들을 더함\n",
    "    #    (j가 1부터 C까지 훑는 과정)\n",
    "    denominator_sum = 0.0\n",
    "    for logit in stable_logits:\n",
    "        denominator_sum += np.exp(logit)\n",
    "        print(f\"\\n현재 분모 합계(e^{logit}): {denominator_sum:.4f} (현재 로짓 logit: {logit})\")\n",
    "        \n",
    "    # 3. 최종 확률 계산: 각 요소의 지수값을 분모의 합으로 나눔\n",
    "    probabilities = []\n",
    "    #    (i번째 주인공의 확률을 계산하는 과정)\n",
    "    for logit in stable_logits:\n",
    "        probability = np.exp(logit) / denominator_sum\n",
    "        print(f\"\\n현재 확률 (logit: {logit}): {probability:.4f}\")\n",
    "        probabilities.append(probability)\n",
    "        \n",
    "    return np.array(probabilities)"
   ]
  },
  {
   "cell_type": "code",
   "execution_count": 21,
   "id": "ffc56b76",
   "metadata": {},
   "outputs": [
    {
     "name": "stdout",
     "output_type": "stream",
     "text": [
      "입력 로짓x (logits): [2.  1.  0.1]\n",
      "최댓값 (max(logits)): 2.0\n",
      "안정화된 로짓 (x - max(x)): [ 0.  -1.  -1.9]\n",
      "\n",
      "현재 분모 합계(e^0.0): 1.0000 (현재 로짓 logit: 0.0)\n",
      "\n",
      "현재 분모 합계(e^-1.0): 1.3679 (현재 로짓 logit: -1.0)\n",
      "\n",
      "현재 분모 합계(e^-1.9): 1.5174 (현재 로짓 logit: -1.9)\n",
      "\n",
      "현재 확률 (logit: 0.0): 0.6590\n",
      "\n",
      "현재 확률 (logit: -1.0): 0.2424\n",
      "\n",
      "현재 확률 (logit: -1.9): 0.0986\n",
      "\n",
      "입력 로짓: [2.0, 1.0, 0.1]\n",
      "소프트맥스 확률: [0.65900114 0.24243297 0.09856589]\n",
      "확률의 총합: 1.0\n"
     ]
    }
   ],
   "source": [
    "# 모델의 출력이라고 가정한 로짓 값\n",
    "my_logits = [2.0, 1.0, 0.1]\n",
    "\n",
    "# 함수 호출\n",
    "softmax_probabilities = softmax_with_loop(my_logits)\n",
    "\n",
    "# 결과 출력\n",
    "print(f\"\\n입력 로짓: {my_logits}\")\n",
    "print(f\"소프트맥스 확률: {softmax_probabilities}\")\n",
    "print(f\"확률의 총합: {np.sum(softmax_probabilities)}\")\n",
    "\n",
    "# --- 실행 결과 ---\n",
    "# 입력 로짓: [2.0, 1.0, 0.1]\n",
    "# 소프트맥스 확률: [0.66524096 0.24472847 0.09003057]\n",
    "# 확률의 총합: 1.0"
   ]
  },
  {
   "cell_type": "code",
   "execution_count": 11,
   "id": "693180eb",
   "metadata": {},
   "outputs": [
    {
     "data": {
      "text/plain": [
       "np.float64(0.36787944117144233)"
      ]
     },
     "execution_count": 11,
     "metadata": {},
     "output_type": "execute_result"
    }
   ],
   "source": [
    "np.exp(-1)"
   ]
  },
  {
   "cell_type": "code",
   "execution_count": 13,
   "id": "f09ea5bf",
   "metadata": {},
   "outputs": [
    {
     "ename": "NameError",
     "evalue": "name 'logits' is not defined",
     "output_type": "error",
     "traceback": [
      "\u001b[31m---------------------------------------------------------------------------\u001b[39m",
      "\u001b[31mNameError\u001b[39m                                 Traceback (most recent call last)",
      "\u001b[36mCell\u001b[39m\u001b[36m \u001b[39m\u001b[32mIn[13]\u001b[39m\u001b[32m, line 1\u001b[39m\n\u001b[32m----> \u001b[39m\u001b[32m1\u001b[39m np.exp(\u001b[43mlogits\u001b[49m)\n",
      "\u001b[31mNameError\u001b[39m: name 'logits' is not defined"
     ]
    }
   ],
   "source": [
    "np.exp(logits)"
   ]
  },
  {
   "cell_type": "code",
   "execution_count": null,
   "id": "873c83ec",
   "metadata": {},
   "outputs": [],
   "source": []
  }
 ],
 "metadata": {
  "kernelspec": {
   "display_name": "venv (3.11.9)",
   "language": "python",
   "name": "python3"
  },
  "language_info": {
   "codemirror_mode": {
    "name": "ipython",
    "version": 3
   },
   "file_extension": ".py",
   "mimetype": "text/x-python",
   "name": "python",
   "nbconvert_exporter": "python",
   "pygments_lexer": "ipython3",
   "version": "3.11.9"
  }
 },
 "nbformat": 4,
 "nbformat_minor": 5
}

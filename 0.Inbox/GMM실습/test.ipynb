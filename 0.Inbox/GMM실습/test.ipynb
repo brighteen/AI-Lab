{
 "cells": [
  {
   "cell_type": "code",
   "execution_count": 2,
   "id": "383721d2",
   "metadata": {},
   "outputs": [
    {
     "ename": "ModuleNotFoundError",
     "evalue": "No module named 'cuml'",
     "output_type": "error",
     "traceback": [
      "\u001b[31m---------------------------------------------------------------------------\u001b[39m",
      "\u001b[31mModuleNotFoundError\u001b[39m                       Traceback (most recent call last)",
      "\u001b[36mCell\u001b[39m\u001b[36m \u001b[39m\u001b[32mIn[2]\u001b[39m\u001b[32m, line 1\u001b[39m\n\u001b[32m----> \u001b[39m\u001b[32m1\u001b[39m \u001b[38;5;28;01mfrom\u001b[39;00m\u001b[38;5;250m \u001b[39m\u001b[34;01mcuml\u001b[39;00m\u001b[34;01m.\u001b[39;00m\u001b[34;01mcluster\u001b[39;00m\u001b[38;5;250m \u001b[39m\u001b[38;5;28;01mimport\u001b[39;00m GMM\n\u001b[32m      3\u001b[39m \u001b[38;5;28mdir\u001b[39m(cuml.cluster)  \u001b[38;5;66;03m# noqa: E999\u001b[39;00m\n",
      "\u001b[31mModuleNotFoundError\u001b[39m: No module named 'cuml'"
     ]
    }
   ],
   "source": [
    "from cuml.cluster import GMM\n",
    "\n",
    "dir(cuml.cluster)  # noqa: E999"
   ]
  },
  {
   "cell_type": "code",
   "execution_count": 3,
   "id": "71fa359f",
   "metadata": {},
   "outputs": [
    {
     "name": "stdout",
     "output_type": "stream",
     "text": [
      "Collecting cuml\n",
      "  Downloading cuml-0.6.1.post1.tar.gz (1.1 kB)\n",
      "  Preparing metadata (setup.py): started\n",
      "  Preparing metadata (setup.py): finished with status 'done'\n",
      "Building wheels for collected packages: cuml\n",
      "  Building wheel for cuml (setup.py): started\n",
      "  Building wheel for cuml (setup.py): finished with status 'error'\n",
      "  Running setup.py clean for cuml\n",
      "Failed to build cuml\n"
     ]
    },
    {
     "name": "stderr",
     "output_type": "stream",
     "text": [
      "  DEPRECATION: Building 'cuml' using the legacy setup.py bdist_wheel mechanism, which will be removed in a future version. pip 25.3 will enforce this behaviour change. A possible replacement is to use the standardized build interface by setting the `--use-pep517` option, (possibly combined with `--no-build-isolation`), or adding a `pyproject.toml` file to the source tree of 'cuml'. Discussion can be found at https://github.com/pypa/pip/issues/6334\n",
      "  error: subprocess-exited-with-error\n",
      "  \n",
      "  × python setup.py bdist_wheel did not run successfully.\n",
      "  │ exit code: 1\n",
      "  ╰─> [36 lines of output]\n",
      "      running bdist_wheel\n",
      "      running build\n",
      "      C:\\Users\\brigh\\Documents\\GitHub\\AI-Lab\\venv\\Lib\\site-packages\\setuptools\\command\\install.py:34: SetuptoolsDeprecationWarning: setup.py install is deprecated. Use build and pip and other standards-based tools.\n",
      "        warnings.warn(\n",
      "      installing to build\\bdist.win-amd64\\wheel\n",
      "      running install\n",
      "      Traceback (most recent call last):\n",
      "        File \"<string>\", line 2, in <module>\n",
      "        File \"<pip-setuptools-caller>\", line 35, in <module>\n",
      "        File \"C:\\Users\\brigh\\AppData\\Local\\Temp\\pip-install-sqlepdr1\\cuml_036fb0989d6048859275ffaa13afd5c5\\setup.py\", line 18, in <module>\n",
      "          setup(name=pkg,\n",
      "        File \"C:\\Users\\brigh\\Documents\\GitHub\\AI-Lab\\venv\\Lib\\site-packages\\setuptools\\__init__.py\", line 87, in setup\n",
      "          return distutils.core.setup(**attrs)\n",
      "                 ^^^^^^^^^^^^^^^^^^^^^^^^^^^^^\n",
      "        File \"C:\\Users\\brigh\\Documents\\GitHub\\AI-Lab\\venv\\Lib\\site-packages\\setuptools\\_distutils\\core.py\", line 185, in setup\n",
      "          return run_commands(dist)\n",
      "                 ^^^^^^^^^^^^^^^^^^\n",
      "        File \"C:\\Users\\brigh\\Documents\\GitHub\\AI-Lab\\venv\\Lib\\site-packages\\setuptools\\_distutils\\core.py\", line 201, in run_commands\n",
      "          dist.run_commands()\n",
      "        File \"C:\\Users\\brigh\\Documents\\GitHub\\AI-Lab\\venv\\Lib\\site-packages\\setuptools\\_distutils\\dist.py\", line 968, in run_commands\n",
      "          self.run_command(cmd)\n",
      "        File \"C:\\Users\\brigh\\Documents\\GitHub\\AI-Lab\\venv\\Lib\\site-packages\\setuptools\\dist.py\", line 1217, in run_command\n",
      "          super().run_command(command)\n",
      "        File \"C:\\Users\\brigh\\Documents\\GitHub\\AI-Lab\\venv\\Lib\\site-packages\\setuptools\\_distutils\\dist.py\", line 987, in run_command\n",
      "          cmd_obj.run()\n",
      "        File \"C:\\Users\\brigh\\Documents\\GitHub\\AI-Lab\\venv\\Lib\\site-packages\\wheel\\_bdist_wheel.py\", line 422, in run\n",
      "          self.run_command(\"install\")\n",
      "        File \"C:\\Users\\brigh\\Documents\\GitHub\\AI-Lab\\venv\\Lib\\site-packages\\setuptools\\_distutils\\cmd.py\", line 319, in run_command\n",
      "          self.distribution.run_command(command)\n",
      "        File \"C:\\Users\\brigh\\Documents\\GitHub\\AI-Lab\\venv\\Lib\\site-packages\\setuptools\\dist.py\", line 1217, in run_command\n",
      "          super().run_command(command)\n",
      "        File \"C:\\Users\\brigh\\Documents\\GitHub\\AI-Lab\\venv\\Lib\\site-packages\\setuptools\\_distutils\\dist.py\", line 987, in run_command\n",
      "          cmd_obj.run()\n",
      "        File \"C:\\Users\\brigh\\AppData\\Local\\Temp\\pip-install-sqlepdr1\\cuml_036fb0989d6048859275ffaa13afd5c5\\setup.py\", line 15, in run\n",
      "          raise Exception(long_description)\n",
      "      Exception: Please install cuml via the rapidsai conda channel. See https://rapids.ai/start.html for instructions.\n",
      "      [end of output]\n",
      "  \n",
      "  note: This error originates from a subprocess, and is likely not a problem with pip.\n",
      "  ERROR: Failed building wheel for cuml\n",
      "error: failed-wheel-build-for-install\n",
      "\n",
      "× Failed to build installable wheels for some pyproject.toml based projects\n",
      "╰─> cuml\n"
     ]
    }
   ],
   "source": [
    "! pip install cuml"
   ]
  },
  {
   "cell_type": "code",
   "execution_count": null,
   "id": "23bcbdbf",
   "metadata": {},
   "outputs": [],
   "source": []
  }
 ],
 "metadata": {
  "kernelspec": {
   "display_name": "venv (3.11.9)",
   "language": "python",
   "name": "python3"
  },
  "language_info": {
   "codemirror_mode": {
    "name": "ipython",
    "version": 3
   },
   "file_extension": ".py",
   "mimetype": "text/x-python",
   "name": "python",
   "nbconvert_exporter": "python",
   "pygments_lexer": "ipython3",
   "version": "3.11.9"
  }
 },
 "nbformat": 4,
 "nbformat_minor": 5
}

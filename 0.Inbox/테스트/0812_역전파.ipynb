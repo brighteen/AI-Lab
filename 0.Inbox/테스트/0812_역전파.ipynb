{
 "cells": [
  {
   "cell_type": "code",
   "execution_count": 1,
   "id": "0c092643",
   "metadata": {},
   "outputs": [],
   "source": [
    "z_1 = 5\n",
    "w_1 = 1\n",
    "w_0 = 0\n",
    "t = 1\n",
    "\n",
    "import numpy as np\n",
    "\n",
    "\n",
    "\n",
    "def sigmoid(x):\n",
    "    return 1 / (1 + np.exp(-x))\n",
    "\n",
    "def sigmoid_derivative(x):\n",
    "    return x * (1 - x)\n"
   ]
  },
  {
   "cell_type": "code",
   "execution_count": 2,
   "id": "0689fb72",
   "metadata": {},
   "outputs": [
    {
     "name": "stdout",
     "output_type": "stream",
     "text": [
      "y_1: 5\n"
     ]
    }
   ],
   "source": [
    "y_1 = w_0 + w_1 * z_1\n",
    "print(f\"y_1: {y_1}\")"
   ]
  },
  {
   "cell_type": "code",
   "execution_count": 3,
   "id": "307b6491",
   "metadata": {},
   "outputs": [
    {
     "name": "stdout",
     "output_type": "stream",
     "text": [
      "z_2: 0.9933071490757153\n"
     ]
    }
   ],
   "source": [
    "z_2 = sigmoid(y_1)\n",
    "print(f\"z_2: {z_2}\")"
   ]
  },
  {
   "cell_type": "code",
   "execution_count": 4,
   "id": "ee095884",
   "metadata": {},
   "outputs": [
    {
     "name": "stdout",
     "output_type": "stream",
     "text": [
      "Loss: 4.479425349469899e-05\n"
     ]
    }
   ],
   "source": [
    "Loss = (t - z_2) ** 2\n",
    "print(f\"Loss: {Loss}\")"
   ]
  },
  {
   "cell_type": "code",
   "execution_count": 5,
   "id": "d70860dc",
   "metadata": {},
   "outputs": [
    {
     "name": "stdout",
     "output_type": "stream",
     "text": [
      "dLdz2: 0.013385701848569465\n"
     ]
    }
   ],
   "source": [
    "dLdz2 = 2 * (t - z_2)\n",
    "print(f\"dLdz2: {dLdz2}\")"
   ]
  },
  {
   "cell_type": "code",
   "execution_count": 6,
   "id": "db340886",
   "metadata": {},
   "outputs": [
    {
     "name": "stdout",
     "output_type": "stream",
     "text": [
      "dz2dy1: 0.006648056670790033\n"
     ]
    }
   ],
   "source": [
    "dz2dy1 = sigmoid_derivative(z_2)\n",
    "print(f\"dz2dy1: {dz2dy1}\")"
   ]
  },
  {
   "cell_type": "code",
   "execution_count": 7,
   "id": "62f65b65",
   "metadata": {},
   "outputs": [
    {
     "name": "stdout",
     "output_type": "stream",
     "text": [
      "dy1dw1: 5\n"
     ]
    }
   ],
   "source": [
    "dy1dw1 = z_1\n",
    "print(f\"dy1dw1: {dy1dw1}\")"
   ]
  },
  {
   "cell_type": "code",
   "execution_count": 8,
   "id": "e4651233",
   "metadata": {},
   "outputs": [
    {
     "name": "stdout",
     "output_type": "stream",
     "text": [
      "dLdw1: 0.0004449445223379436\n"
     ]
    }
   ],
   "source": [
    "dLdw1 = dLdz2 * dz2dy1 * dy1dw1\n",
    "print(f\"dLdw1: {dLdw1}\")"
   ]
  },
  {
   "cell_type": "code",
   "execution_count": 9,
   "id": "134dfa77",
   "metadata": {},
   "outputs": [
    {
     "name": "stdout",
     "output_type": "stream",
     "text": [
      "Updated w_1: 0.9995550554776621\n"
     ]
    }
   ],
   "source": [
    "w_1 = w_1 - dLdw1\n",
    "print(f\"Updated w_1: {w_1}\")"
   ]
  },
  {
   "cell_type": "code",
   "execution_count": 10,
   "id": "7a4d5b36",
   "metadata": {},
   "outputs": [
    {
     "name": "stdout",
     "output_type": "stream",
     "text": [
      "dLdw0: 8.898890446758871e-05\n"
     ]
    }
   ],
   "source": [
    "dydw0 = 1\n",
    "dLdw0 = dLdz2 * dz2dy1 * dydw0\n",
    "print(f\"dLdw0: {dLdw0}\")"
   ]
  },
  {
   "cell_type": "code",
   "execution_count": 11,
   "id": "8772d425",
   "metadata": {},
   "outputs": [
    {
     "name": "stdout",
     "output_type": "stream",
     "text": [
      "Updated w_0: -8.898890446758871e-05\n"
     ]
    }
   ],
   "source": [
    "w_0 = w_0 - dLdw0\n",
    "print(f\"Updated w_0: {w_0}\")"
   ]
  },
  {
   "cell_type": "code",
   "execution_count": null,
   "id": "5056594b",
   "metadata": {},
   "outputs": [],
   "source": []
  }
 ],
 "metadata": {
  "kernelspec": {
   "display_name": "venv (3.11.9)",
   "language": "python",
   "name": "python3"
  },
  "language_info": {
   "codemirror_mode": {
    "name": "ipython",
    "version": 3
   },
   "file_extension": ".py",
   "mimetype": "text/x-python",
   "name": "python",
   "nbconvert_exporter": "python",
   "pygments_lexer": "ipython3",
   "version": "3.11.9"
  }
 },
 "nbformat": 4,
 "nbformat_minor": 5
}

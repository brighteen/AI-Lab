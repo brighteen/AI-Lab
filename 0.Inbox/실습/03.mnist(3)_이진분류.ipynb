{
 "cells": [
  {
   "cell_type": "markdown",
   "metadata": {},
   "source": [
    "# [실험 재설계 2] '3' vs 'Not 3' 이진 분류 모델 분석\n",
    "\n",
    "## 가설\n",
    "1. **모델 A (가중치=1 초기화):** 은닉층의 대칭성 문제로 인해 '3'과 '3이 아닌 숫자'의 특징을 제대로 구분하지 못해 학습에 실패하고 정확도가 약 50% (찍기 수준) 근처에 머무를 것이다. (데이터 비율에 따라 다름)\n",
    "2. **모델 B (표준 초기화):** '3'의 특징을 정상적으로 학습하여 높은 정확도로 이미지를 분류해낼 것이다."
   ]
  },
  {
   "cell_type": "code",
   "execution_count": 1,
   "metadata": {},
   "outputs": [],
   "source": [
    "import tensorflow as tf\n",
    "import numpy as np\n",
    "import matplotlib.pyplot as plt\n",
    "from tensorflow.keras.initializers import Initializer\n",
    "\n",
    "try:\n",
    "    import koreanize_matplotlib\n",
    "except ImportError:\n",
    "    !pip install koreanize_matplotlib\n",
    "    import koreanize_matplotlib"
   ]
  },
  {
   "cell_type": "markdown",
   "metadata": {},
   "source": [
    "### 1. 데이터 준비 (이진 분류를 위한 레이블 수정)"
   ]
  },
  {
   "cell_type": "code",
   "execution_count": 2,
   "metadata": {},
   "outputs": [
    {
     "name": "stdout",
     "output_type": "stream",
     "text": [
      "훈련 데이터셋 레이블 예시: [5 0 4 1 9]\n",
      "이진 분류 훈련 레이블 예시: [0 0 0 0 0]\n",
      "\n",
      "훈련 데이터 중 '3'의 비율: 10.22%\n"
     ]
    }
   ],
   "source": [
    "mnist = tf.keras.datasets.mnist\n",
    "(x_train, y_train), (x_test, y_test) = mnist.load_data()\n",
    "\n",
    "# 데이터 정규화\n",
    "x_train, x_test = x_train / 255.0, x_test / 255.0\n",
    "\n",
    "# '3'은 1 (True), 나머지는 0 (False)으로 이진 레이블 생성\n",
    "y_train_binary = (y_train == 3).astype(int)\n",
    "y_test_binary = (y_test == 3).astype(int)\n",
    "\n",
    "print(\"훈련 데이터셋 레이블 예시:\", y_train[:5])\n",
    "print(\"이진 분류 훈련 레이블 예시:\", y_train_binary[:5])\n",
    "print(f\"\\n훈련 데이터 중 '3'의 비율: {np.mean(y_train_binary):.2%}\")"
   ]
  },
  {
   "cell_type": "code",
   "execution_count": null,
   "metadata": {},
   "outputs": [],
   "source": [
    "y_tra"
   ]
  },
  {
   "cell_type": "markdown",
   "metadata": {},
   "source": [
    "### 2. 이진 분류 모델 생성\n",
    "기존 784-128-64 구조는 유지하되, 출력층만 1개의 뉴런으로 변경합니다."
   ]
  },
  {
   "cell_type": "code",
   "execution_count": null,
   "metadata": {},
   "outputs": [],
   "source": [
    "# 모든 가중치를 1로 설정하는 커스텀 초기화 클래스\n",
    "class OnesInitializer(Initializer):\n",
    "    def __call__(self, shape, dtype=None):\n",
    "        return tf.ones(shape, dtype=dtype)\n",
    "\n",
    "def create_binary_classifier(initializer):\n",
    "    model = tf.keras.models.Sequential([\n",
    "        tf.keras.layers.Flatten(input_shape=(28, 28)),\n",
    "        tf.keras.layers.Dense(128, activation='relu', kernel_initializer=initializer, bias_initializer='zeros'),\n",
    "        tf.keras.layers.Dense(64, activation='relu', kernel_initializer=initializer, bias_initializer='zeros'),\n",
    "        # 출력층: '3일 확률' 하나만 출력하므로 뉴런 1개, 활성화 함수는 sigmoid\n",
    "        tf.keras.layers.Dense(1, activation='sigmoid')\n",
    "    ])\n",
    "    return model\n",
    "\n",
    "# 모델 A: 은닉층 가중치를 1로 초기화\n",
    "model_A = create_binary_classifier(OnesInitializer())\n",
    "\n",
    "# 모델 B: 표준 무작위 초기화\n",
    "model_B = create_binary_classifier('glorot_uniform')\n",
    "\n",
    "# 두 모델을 동일한 조건으로 컴파일 (손실 함수로 binary_crossentropy 사용)\n",
    "model_A.compile(optimizer='adam', loss='binary_crossentropy', metrics=['accuracy'])\n",
    "model_B.compile(optimizer='adam', loss='binary_crossentropy', metrics=['accuracy'])\n",
    "\n",
    "model_A.summary()"
   ]
  },
  {
   "cell_type": "markdown",
   "metadata": {},
   "source": [
    "### 3. 모델 학습"
   ]
  },
  {
   "cell_type": "code",
   "execution_count": null,
   "metadata": {},
   "outputs": [],
   "source": [
    "epochs = 15\n",
    "batch_size = 128\n",
    "\n",
    "print(\"모델 A 학습 시작...\")\n",
    "history_A = model_A.fit(x_train, y_train_binary,\n",
    "                        epochs=epochs,\n",
    "                        batch_size=batch_size,\n",
    "                        validation_data=(x_test, y_test_binary),\n",
    "                        verbose=1)\n",
    "\n",
    "print(\"\\n모델 B 학습 시작...\")\n",
    "history_B = model_B.fit(x_train, y_train_binary,\n",
    "                        epochs=epochs,\n",
    "                        batch_size=batch_size,\n",
    "                        validation_data=(x_test, y_test_binary),\n",
    "                        verbose=1)"
   ]
  },
  {
   "cell_type": "markdown",
   "metadata": {},
   "source": [
    "### 4. 결과 시각화 및 분석"
   ]
  },
  {
   "cell_type": "code",
   "execution_count": null,
   "metadata": {},
   "outputs": [],
   "source": [
    "plt.figure(figsize=(18, 6))\n",
    "\n",
    "# 정확도 그래프\n",
    "plt.subplot(1, 2, 1)\n",
    "plt.plot(history_A.history['val_accuracy'], 'r-s', label='모델 A (가중치=1) 검증 정확도')\n",
    "plt.plot(history_B.history['val_accuracy'], 'b-o', label='모델 B (표준 초기화) 검증 정확도')\n",
    "plt.title('모델별 검증 정확도 비교')\n",
    "plt.xlabel('에포크 (Epochs)')\n",
    "plt.ylabel('정확도 (Accuracy)')\n",
    "plt.ylim(0, 1.0) # Y축 범위를 0에서 1로 고정\n",
    "plt.legend()\n",
    "plt.grid(True)\n",
    "\n",
    "# 손실 그래프\n",
    "plt.subplot(1, 2, 2)\n",
    "plt.plot(history_A.history['val_loss'], 'r-s', label='모델 A (가중치=1) 검증 손실')\n",
    "plt.plot(history_B.history['val_loss'], 'b-o', label='모델 B (표준 초기화) 검증 손실')\n",
    "plt.title('모델별 검증 손실 비교')\n",
    "plt.xlabel('에포크 (Epochs)')\n",
    "plt.ylabel('손실 (Loss)')\n",
    "plt.legend()\n",
    "plt.grid(True)\n",
    "\n",
    "plt.show()"
   ]
  }
 ],
 "metadata": {
  "kernelspec": {
   "display_name": "venv (3.11.9)",
   "language": "python",
   "name": "python3"
  },
  "language_info": {
   "codemirror_mode": {
    "name": "ipython",
    "version": 3
   },
   "file_extension": ".py",
   "mimetype": "text/x-python",
   "name": "python",
   "nbconvert_exporter": "python",
   "pygments_lexer": "ipython3",
   "version": "3.11.9"
  }
 },
 "nbformat": 4,
 "nbformat_minor": 4
}

{
 "cells": [
  {
   "cell_type": "markdown",
   "metadata": {},
   "source": [
    "# [실험 재설계] 숫자 '3' 데이터만 사용한 오토인코더 분석\n",
    "\n",
    "## 가설\n",
    "1. **모델 A (가중치=1 초기화):** 은닉층의 대칭성 문제로 인해 입력 데이터('3')의 특징을 제대로 학습하지 못하고, 원본 이미지를 제대로 재구성하지 못할 것이다.\n",
    "2. **모델 B (표준 초기화):** 데이터의 특징을 정상적으로 학습하여 원본과 유사한 이미지를 재구성해낼 것이다."
   ]
  },
  {
   "cell_type": "code",
   "execution_count": 1,
   "metadata": {},
   "outputs": [],
   "source": [
    "import tensorflow as tf\n",
    "import numpy as np\n",
    "import matplotlib.pyplot as plt\n",
    "from tensorflow.keras.initializers import Initializer\n",
    "\n",
    "try:\n",
    "    import koreanize_matplotlib\n",
    "except ImportError:\n",
    "    !pip install koreanize_matplotlib\n",
    "    import koreanize_matplotlib"
   ]
  },
  {
   "cell_type": "markdown",
   "metadata": {},
   "source": [
    "### 1. 데이터 준비 (숫자 '3' 데이터만 필터링)"
   ]
  },
  {
   "cell_type": "code",
   "execution_count": null,
   "metadata": {},
   "outputs": [
    {
     "name": "stdout",
     "output_type": "stream",
     "text": [
      "훈련용 '3' 데이터 개수: 6131\n",
      "테스트용 '3' 데이터 개수: 1010\n"
     ]
    }
   ],
   "source": [
    "mnist = tf.keras.datasets.mnist\n",
    "(x_train, y_train), (x_test, y_test) = mnist.load_data()\n",
    "\n",
    "# 데이터 정규화\n",
    "x_train, x_test = x_train / 255.0, x_test / 255.0\n",
    "\n",
    "# 레이블이 3인 데이터만 필터링\n",
    "x_train_3 = x_train[y_train == 3]\n",
    "x_test_3 = x_test[y_test == 3]"
   ]
  },
  {
   "cell_type": "code",
   "execution_count": 5,
   "metadata": {},
   "outputs": [
    {
     "name": "stdout",
     "output_type": "stream",
     "text": [
      "훈련용 '3' 데이터 개수: (6131, 28, 28)\n",
      "테스트용 '3' 데이터 개수: (1010, 28, 28)\n"
     ]
    }
   ],
   "source": [
    "print(f\"훈련용 '3' 데이터 개수: {np.shape(x_train_3)}\")\n",
    "print(f\"테스트용 '3' 데이터 개수: {np.shape(x_test_3)}\")"
   ]
  },
  {
   "cell_type": "code",
   "execution_count": 6,
   "metadata": {},
   "outputs": [
    {
     "data": {
      "text/plain": [
       "np.float64(0.1306604762738429)"
      ]
     },
     "execution_count": 6,
     "metadata": {},
     "output_type": "execute_result"
    }
   ],
   "source": [
    "np.mean(x_train)"
   ]
  },
  {
   "cell_type": "markdown",
   "metadata": {},
   "source": [
    "### 2. 오토인코더 모델 생성"
   ]
  },
  {
   "cell_type": "code",
   "execution_count": 7,
   "metadata": {},
   "outputs": [
    {
     "name": "stderr",
     "output_type": "stream",
     "text": [
      "c:\\Users\\brigh\\Documents\\GitHub\\AI-Lab\\venv\\Lib\\site-packages\\keras\\src\\layers\\reshaping\\flatten.py:37: UserWarning: Do not pass an `input_shape`/`input_dim` argument to a layer. When using Sequential models, prefer using an `Input(shape)` object as the first layer in the model instead.\n",
      "  super().__init__(**kwargs)\n",
      "c:\\Users\\brigh\\Documents\\GitHub\\AI-Lab\\venv\\Lib\\site-packages\\keras\\src\\layers\\core\\dense.py:92: UserWarning: Do not pass an `input_shape`/`input_dim` argument to a layer. When using Sequential models, prefer using an `Input(shape)` object as the first layer in the model instead.\n",
      "  super().__init__(activity_regularizer=activity_regularizer, **kwargs)\n"
     ]
    },
    {
     "data": {
      "text/html": [
       "<pre style=\"white-space:pre;overflow-x:auto;line-height:normal;font-family:Menlo,'DejaVu Sans Mono',consolas,'Courier New',monospace\"><span style=\"font-weight: bold\">Model: \"sequential_2\"</span>\n",
       "</pre>\n"
      ],
      "text/plain": [
       "\u001b[1mModel: \"sequential_2\"\u001b[0m\n"
      ]
     },
     "metadata": {},
     "output_type": "display_data"
    },
    {
     "data": {
      "text/html": [
       "<pre style=\"white-space:pre;overflow-x:auto;line-height:normal;font-family:Menlo,'DejaVu Sans Mono',consolas,'Courier New',monospace\">┏━━━━━━━━━━━━━━━━━━━━━━━━━━━━━━━━━┳━━━━━━━━━━━━━━━━━━━━━━━━┳━━━━━━━━━━━━━━━┓\n",
       "┃<span style=\"font-weight: bold\"> Layer (type)                    </span>┃<span style=\"font-weight: bold\"> Output Shape           </span>┃<span style=\"font-weight: bold\">       Param # </span>┃\n",
       "┡━━━━━━━━━━━━━━━━━━━━━━━━━━━━━━━━━╇━━━━━━━━━━━━━━━━━━━━━━━━╇━━━━━━━━━━━━━━━┩\n",
       "│ sequential (<span style=\"color: #0087ff; text-decoration-color: #0087ff\">Sequential</span>)         │ (<span style=\"color: #00d7ff; text-decoration-color: #00d7ff\">None</span>, <span style=\"color: #00af00; text-decoration-color: #00af00\">32</span>)             │       <span style=\"color: #00af00; text-decoration-color: #00af00\">110,816</span> │\n",
       "├─────────────────────────────────┼────────────────────────┼───────────────┤\n",
       "│ sequential_1 (<span style=\"color: #0087ff; text-decoration-color: #0087ff\">Sequential</span>)       │ (<span style=\"color: #00d7ff; text-decoration-color: #00d7ff\">None</span>, <span style=\"color: #00af00; text-decoration-color: #00af00\">28</span>, <span style=\"color: #00af00; text-decoration-color: #00af00\">28</span>)         │       <span style=\"color: #00af00; text-decoration-color: #00af00\">111,568</span> │\n",
       "└─────────────────────────────────┴────────────────────────┴───────────────┘\n",
       "</pre>\n"
      ],
      "text/plain": [
       "┏━━━━━━━━━━━━━━━━━━━━━━━━━━━━━━━━━┳━━━━━━━━━━━━━━━━━━━━━━━━┳━━━━━━━━━━━━━━━┓\n",
       "┃\u001b[1m \u001b[0m\u001b[1mLayer (type)                   \u001b[0m\u001b[1m \u001b[0m┃\u001b[1m \u001b[0m\u001b[1mOutput Shape          \u001b[0m\u001b[1m \u001b[0m┃\u001b[1m \u001b[0m\u001b[1m      Param #\u001b[0m\u001b[1m \u001b[0m┃\n",
       "┡━━━━━━━━━━━━━━━━━━━━━━━━━━━━━━━━━╇━━━━━━━━━━━━━━━━━━━━━━━━╇━━━━━━━━━━━━━━━┩\n",
       "│ sequential (\u001b[38;5;33mSequential\u001b[0m)         │ (\u001b[38;5;45mNone\u001b[0m, \u001b[38;5;34m32\u001b[0m)             │       \u001b[38;5;34m110,816\u001b[0m │\n",
       "├─────────────────────────────────┼────────────────────────┼───────────────┤\n",
       "│ sequential_1 (\u001b[38;5;33mSequential\u001b[0m)       │ (\u001b[38;5;45mNone\u001b[0m, \u001b[38;5;34m28\u001b[0m, \u001b[38;5;34m28\u001b[0m)         │       \u001b[38;5;34m111,568\u001b[0m │\n",
       "└─────────────────────────────────┴────────────────────────┴───────────────┘\n"
      ]
     },
     "metadata": {},
     "output_type": "display_data"
    },
    {
     "data": {
      "text/html": [
       "<pre style=\"white-space:pre;overflow-x:auto;line-height:normal;font-family:Menlo,'DejaVu Sans Mono',consolas,'Courier New',monospace\"><span style=\"font-weight: bold\"> Total params: </span><span style=\"color: #00af00; text-decoration-color: #00af00\">222,384</span> (868.69 KB)\n",
       "</pre>\n"
      ],
      "text/plain": [
       "\u001b[1m Total params: \u001b[0m\u001b[38;5;34m222,384\u001b[0m (868.69 KB)\n"
      ]
     },
     "metadata": {},
     "output_type": "display_data"
    },
    {
     "data": {
      "text/html": [
       "<pre style=\"white-space:pre;overflow-x:auto;line-height:normal;font-family:Menlo,'DejaVu Sans Mono',consolas,'Courier New',monospace\"><span style=\"font-weight: bold\"> Trainable params: </span><span style=\"color: #00af00; text-decoration-color: #00af00\">222,384</span> (868.69 KB)\n",
       "</pre>\n"
      ],
      "text/plain": [
       "\u001b[1m Trainable params: \u001b[0m\u001b[38;5;34m222,384\u001b[0m (868.69 KB)\n"
      ]
     },
     "metadata": {},
     "output_type": "display_data"
    },
    {
     "data": {
      "text/html": [
       "<pre style=\"white-space:pre;overflow-x:auto;line-height:normal;font-family:Menlo,'DejaVu Sans Mono',consolas,'Courier New',monospace\"><span style=\"font-weight: bold\"> Non-trainable params: </span><span style=\"color: #00af00; text-decoration-color: #00af00\">0</span> (0.00 B)\n",
       "</pre>\n"
      ],
      "text/plain": [
       "\u001b[1m Non-trainable params: \u001b[0m\u001b[38;5;34m0\u001b[0m (0.00 B)\n"
      ]
     },
     "metadata": {},
     "output_type": "display_data"
    }
   ],
   "source": [
    "# 모든 가중치를 1로 설정하는 커스텀 초기화 클래스\n",
    "class OnesInitializer(Initializer):\n",
    "    def __call__(self, shape, dtype=None):\n",
    "        return tf.ones(shape, dtype=dtype)\n",
    "\n",
    "def create_autoencoder(initializer):\n",
    "    # 인코더: 입력 이미지를 32차원으로 압축\n",
    "    encoder = tf.keras.models.Sequential([\n",
    "        tf.keras.layers.Flatten(input_shape=(28, 28)),\n",
    "        tf.keras.layers.Dense(128, activation='relu', kernel_initializer=initializer, bias_initializer='zeros'),\n",
    "        tf.keras.layers.Dense(64, activation='relu', kernel_initializer=initializer, bias_initializer='zeros'),\n",
    "        tf.keras.layers.Dense(32, activation='relu', kernel_initializer=initializer, bias_initializer='zeros') # 잠재 공간(Latent Space)\n",
    "    ])\n",
    "\n",
    "    # 디코더: 압축된 특징을 다시 784차원(28x28) 이미지로 복원\n",
    "    decoder = tf.keras.models.Sequential([\n",
    "        tf.keras.layers.Dense(64, activation='relu', input_shape=(32,)),\n",
    "        tf.keras.layers.Dense(128, activation='relu'),\n",
    "        tf.keras.layers.Dense(784, activation='sigmoid'), # 픽셀 값(0~1)으로 복원하기 위해 sigmoid 사용\n",
    "        tf.keras.layers.Reshape((28, 28))\n",
    "    ])\n",
    "\n",
    "    autoencoder = tf.keras.models.Sequential([encoder, decoder])\n",
    "    return autoencoder\n",
    "\n",
    "# 모델 A: 인코더 가중치를 1로 초기화\n",
    "autoencoder_A = create_autoencoder(OnesInitializer())\n",
    "\n",
    "# 모델 B: 표준 무작위 초기화\n",
    "autoencoder_B = create_autoencoder('glorot_uniform')\n",
    "\n",
    "# 두 모델을 동일한 조건으로 컴파일 (손실 함수로 mse 사용)\n",
    "autoencoder_A.compile(optimizer='adam', loss='mean_squared_error')\n",
    "autoencoder_B.compile(optimizer='adam', loss='mean_squared_error')\n",
    "\n",
    "autoencoder_A.summary()"
   ]
  },
  {
   "cell_type": "markdown",
   "metadata": {},
   "source": [
    "### 3. 모델 학습\n",
    "오토인코더는 입력(x)과 정답(y)이 모두 원본 이미지로 동일합니다."
   ]
  },
  {
   "cell_type": "code",
   "execution_count": 8,
   "metadata": {},
   "outputs": [
    {
     "name": "stdout",
     "output_type": "stream",
     "text": [
      "모델 A 학습 시작...\n",
      "Epoch 1/20\n",
      "\u001b[1m48/48\u001b[0m \u001b[32m━━━━━━━━━━━━━━━━━━━━\u001b[0m\u001b[37m\u001b[0m \u001b[1m2s\u001b[0m 10ms/step - loss: 0.4603 - val_loss: 0.4602\n",
      "Epoch 2/20\n",
      "\u001b[1m48/48\u001b[0m \u001b[32m━━━━━━━━━━━━━━━━━━━━\u001b[0m\u001b[37m\u001b[0m \u001b[1m0s\u001b[0m 5ms/step - loss: 0.4603 - val_loss: 0.4602\n",
      "Epoch 3/20\n",
      "\u001b[1m48/48\u001b[0m \u001b[32m━━━━━━━━━━━━━━━━━━━━\u001b[0m\u001b[37m\u001b[0m \u001b[1m0s\u001b[0m 5ms/step - loss: 0.4603 - val_loss: 0.4602\n",
      "Epoch 4/20\n",
      "\u001b[1m48/48\u001b[0m \u001b[32m━━━━━━━━━━━━━━━━━━━━\u001b[0m\u001b[37m\u001b[0m \u001b[1m0s\u001b[0m 6ms/step - loss: 0.4603 - val_loss: 0.4602\n",
      "Epoch 5/20\n",
      "\u001b[1m48/48\u001b[0m \u001b[32m━━━━━━━━━━━━━━━━━━━━\u001b[0m\u001b[37m\u001b[0m \u001b[1m0s\u001b[0m 6ms/step - loss: 0.4603 - val_loss: 0.4602\n",
      "Epoch 6/20\n",
      "\u001b[1m48/48\u001b[0m \u001b[32m━━━━━━━━━━━━━━━━━━━━\u001b[0m\u001b[37m\u001b[0m \u001b[1m0s\u001b[0m 7ms/step - loss: 0.4603 - val_loss: 0.4602\n",
      "Epoch 7/20\n",
      "\u001b[1m48/48\u001b[0m \u001b[32m━━━━━━━━━━━━━━━━━━━━\u001b[0m\u001b[37m\u001b[0m \u001b[1m0s\u001b[0m 8ms/step - loss: 0.4603 - val_loss: 0.4602\n",
      "Epoch 8/20\n",
      "\u001b[1m48/48\u001b[0m \u001b[32m━━━━━━━━━━━━━━━━━━━━\u001b[0m\u001b[37m\u001b[0m \u001b[1m0s\u001b[0m 5ms/step - loss: 0.4603 - val_loss: 0.4602\n",
      "Epoch 9/20\n",
      "\u001b[1m48/48\u001b[0m \u001b[32m━━━━━━━━━━━━━━━━━━━━\u001b[0m\u001b[37m\u001b[0m \u001b[1m0s\u001b[0m 5ms/step - loss: 0.4603 - val_loss: 0.4602\n",
      "Epoch 10/20\n",
      "\u001b[1m48/48\u001b[0m \u001b[32m━━━━━━━━━━━━━━━━━━━━\u001b[0m\u001b[37m\u001b[0m \u001b[1m0s\u001b[0m 7ms/step - loss: 0.4603 - val_loss: 0.4602\n",
      "Epoch 11/20\n",
      "\u001b[1m48/48\u001b[0m \u001b[32m━━━━━━━━━━━━━━━━━━━━\u001b[0m\u001b[37m\u001b[0m \u001b[1m0s\u001b[0m 6ms/step - loss: 0.4603 - val_loss: 0.4602\n",
      "Epoch 12/20\n",
      "\u001b[1m48/48\u001b[0m \u001b[32m━━━━━━━━━━━━━━━━━━━━\u001b[0m\u001b[37m\u001b[0m \u001b[1m0s\u001b[0m 6ms/step - loss: 0.4603 - val_loss: 0.4602\n",
      "Epoch 13/20\n",
      "\u001b[1m48/48\u001b[0m \u001b[32m━━━━━━━━━━━━━━━━━━━━\u001b[0m\u001b[37m\u001b[0m \u001b[1m0s\u001b[0m 6ms/step - loss: 0.4603 - val_loss: 0.4602\n",
      "Epoch 14/20\n",
      "\u001b[1m48/48\u001b[0m \u001b[32m━━━━━━━━━━━━━━━━━━━━\u001b[0m\u001b[37m\u001b[0m \u001b[1m0s\u001b[0m 9ms/step - loss: 0.4603 - val_loss: 0.4602\n",
      "Epoch 15/20\n",
      "\u001b[1m48/48\u001b[0m \u001b[32m━━━━━━━━━━━━━━━━━━━━\u001b[0m\u001b[37m\u001b[0m \u001b[1m0s\u001b[0m 8ms/step - loss: 0.4603 - val_loss: 0.4602\n",
      "Epoch 16/20\n",
      "\u001b[1m48/48\u001b[0m \u001b[32m━━━━━━━━━━━━━━━━━━━━\u001b[0m\u001b[37m\u001b[0m \u001b[1m1s\u001b[0m 12ms/step - loss: 0.4603 - val_loss: 0.4602\n",
      "Epoch 17/20\n",
      "\u001b[1m48/48\u001b[0m \u001b[32m━━━━━━━━━━━━━━━━━━━━\u001b[0m\u001b[37m\u001b[0m \u001b[1m0s\u001b[0m 9ms/step - loss: 0.4603 - val_loss: 0.4602\n",
      "Epoch 18/20\n",
      "\u001b[1m48/48\u001b[0m \u001b[32m━━━━━━━━━━━━━━━━━━━━\u001b[0m\u001b[37m\u001b[0m \u001b[1m1s\u001b[0m 10ms/step - loss: 0.4603 - val_loss: 0.4602\n",
      "Epoch 19/20\n",
      "\u001b[1m48/48\u001b[0m \u001b[32m━━━━━━━━━━━━━━━━━━━━\u001b[0m\u001b[37m\u001b[0m \u001b[1m0s\u001b[0m 10ms/step - loss: 0.4603 - val_loss: 0.4602\n",
      "Epoch 20/20\n",
      "\u001b[1m48/48\u001b[0m \u001b[32m━━━━━━━━━━━━━━━━━━━━\u001b[0m\u001b[37m\u001b[0m \u001b[1m0s\u001b[0m 9ms/step - loss: 0.4603 - val_loss: 0.4602\n",
      "\n",
      "모델 B 학습 시작...\n",
      "Epoch 1/20\n",
      "\u001b[1m48/48\u001b[0m \u001b[32m━━━━━━━━━━━━━━━━━━━━\u001b[0m\u001b[37m\u001b[0m \u001b[1m2s\u001b[0m 8ms/step - loss: 0.1043 - val_loss: 0.0566\n",
      "Epoch 2/20\n",
      "\u001b[1m48/48\u001b[0m \u001b[32m━━━━━━━━━━━━━━━━━━━━\u001b[0m\u001b[37m\u001b[0m \u001b[1m0s\u001b[0m 7ms/step - loss: 0.0531 - val_loss: 0.0468\n",
      "Epoch 3/20\n",
      "\u001b[1m48/48\u001b[0m \u001b[32m━━━━━━━━━━━━━━━━━━━━\u001b[0m\u001b[37m\u001b[0m \u001b[1m0s\u001b[0m 6ms/step - loss: 0.0447 - val_loss: 0.0397\n",
      "Epoch 4/20\n",
      "\u001b[1m48/48\u001b[0m \u001b[32m━━━━━━━━━━━━━━━━━━━━\u001b[0m\u001b[37m\u001b[0m \u001b[1m0s\u001b[0m 5ms/step - loss: 0.0366 - val_loss: 0.0330\n",
      "Epoch 5/20\n",
      "\u001b[1m48/48\u001b[0m \u001b[32m━━━━━━━━━━━━━━━━━━━━\u001b[0m\u001b[37m\u001b[0m \u001b[1m0s\u001b[0m 6ms/step - loss: 0.0323 - val_loss: 0.0299\n",
      "Epoch 6/20\n",
      "\u001b[1m48/48\u001b[0m \u001b[32m━━━━━━━━━━━━━━━━━━━━\u001b[0m\u001b[37m\u001b[0m \u001b[1m0s\u001b[0m 8ms/step - loss: 0.0294 - val_loss: 0.0277\n",
      "Epoch 7/20\n",
      "\u001b[1m48/48\u001b[0m \u001b[32m━━━━━━━━━━━━━━━━━━━━\u001b[0m\u001b[37m\u001b[0m \u001b[1m0s\u001b[0m 6ms/step - loss: 0.0272 - val_loss: 0.0257\n",
      "Epoch 8/20\n",
      "\u001b[1m48/48\u001b[0m \u001b[32m━━━━━━━━━━━━━━━━━━━━\u001b[0m\u001b[37m\u001b[0m \u001b[1m0s\u001b[0m 6ms/step - loss: 0.0251 - val_loss: 0.0239\n",
      "Epoch 9/20\n",
      "\u001b[1m48/48\u001b[0m \u001b[32m━━━━━━━━━━━━━━━━━━━━\u001b[0m\u001b[37m\u001b[0m \u001b[1m0s\u001b[0m 6ms/step - loss: 0.0236 - val_loss: 0.0227\n",
      "Epoch 10/20\n",
      "\u001b[1m48/48\u001b[0m \u001b[32m━━━━━━━━━━━━━━━━━━━━\u001b[0m\u001b[37m\u001b[0m \u001b[1m0s\u001b[0m 10ms/step - loss: 0.0221 - val_loss: 0.0211\n",
      "Epoch 11/20\n",
      "\u001b[1m48/48\u001b[0m \u001b[32m━━━━━━━━━━━━━━━━━━━━\u001b[0m\u001b[37m\u001b[0m \u001b[1m0s\u001b[0m 8ms/step - loss: 0.0206 - val_loss: 0.0197\n",
      "Epoch 12/20\n",
      "\u001b[1m48/48\u001b[0m \u001b[32m━━━━━━━━━━━━━━━━━━━━\u001b[0m\u001b[37m\u001b[0m \u001b[1m0s\u001b[0m 9ms/step - loss: 0.0195 - val_loss: 0.0188\n",
      "Epoch 13/20\n",
      "\u001b[1m48/48\u001b[0m \u001b[32m━━━━━━━━━━━━━━━━━━━━\u001b[0m\u001b[37m\u001b[0m \u001b[1m1s\u001b[0m 11ms/step - loss: 0.0188 - val_loss: 0.0182\n",
      "Epoch 14/20\n",
      "\u001b[1m48/48\u001b[0m \u001b[32m━━━━━━━━━━━━━━━━━━━━\u001b[0m\u001b[37m\u001b[0m \u001b[1m0s\u001b[0m 8ms/step - loss: 0.0181 - val_loss: 0.0175\n",
      "Epoch 15/20\n",
      "\u001b[1m48/48\u001b[0m \u001b[32m━━━━━━━━━━━━━━━━━━━━\u001b[0m\u001b[37m\u001b[0m \u001b[1m0s\u001b[0m 9ms/step - loss: 0.0174 - val_loss: 0.0169\n",
      "Epoch 16/20\n",
      "\u001b[1m48/48\u001b[0m \u001b[32m━━━━━━━━━━━━━━━━━━━━\u001b[0m\u001b[37m\u001b[0m \u001b[1m0s\u001b[0m 10ms/step - loss: 0.0167 - val_loss: 0.0163\n",
      "Epoch 17/20\n",
      "\u001b[1m48/48\u001b[0m \u001b[32m━━━━━━━━━━━━━━━━━━━━\u001b[0m\u001b[37m\u001b[0m \u001b[1m1s\u001b[0m 11ms/step - loss: 0.0161 - val_loss: 0.0158\n",
      "Epoch 18/20\n",
      "\u001b[1m48/48\u001b[0m \u001b[32m━━━━━━━━━━━━━━━━━━━━\u001b[0m\u001b[37m\u001b[0m \u001b[1m0s\u001b[0m 8ms/step - loss: 0.0156 - val_loss: 0.0155\n",
      "Epoch 19/20\n",
      "\u001b[1m48/48\u001b[0m \u001b[32m━━━━━━━━━━━━━━━━━━━━\u001b[0m\u001b[37m\u001b[0m \u001b[1m0s\u001b[0m 6ms/step - loss: 0.0151 - val_loss: 0.0147\n",
      "Epoch 20/20\n",
      "\u001b[1m48/48\u001b[0m \u001b[32m━━━━━━━━━━━━━━━━━━━━\u001b[0m\u001b[37m\u001b[0m \u001b[1m0s\u001b[0m 6ms/step - loss: 0.0146 - val_loss: 0.0143\n"
     ]
    }
   ],
   "source": [
    "epochs = 20\n",
    "batch_size = 128\n",
    "\n",
    "print(\"모델 A 학습 시작...\")\n",
    "# 입력(x)과 타겟(y)에 모두 x_train_3를 넣어줌\n",
    "history_A = autoencoder_A.fit(x_train_3, x_train_3,\n",
    "                            epochs=epochs,\n",
    "                            batch_size=batch_size,\n",
    "                            validation_data=(x_test_3, x_test_3),\n",
    "                            verbose=1)\n",
    "\n",
    "print(\"\\n모델 B 학습 시작...\")\n",
    "history_B = autoencoder_B.fit(x_train_3, x_train_3,\n",
    "                            epochs=epochs,\n",
    "                            batch_size=batch_size,\n",
    "                            validation_data=(x_test_3, x_test_3),\n",
    "                            verbose=1)"
   ]
  },
  {
   "cell_type": "markdown",
   "metadata": {},
   "source": [
    "### 4. 결과 시각화 및 분석\n",
    "테스트 데이터셋의 원본 이미지와 각 모델이 재구성한 이미지를 비교합니다."
   ]
  },
  {
   "cell_type": "code",
   "execution_count": 9,
   "metadata": {},
   "outputs": [
    {
     "name": "stdout",
     "output_type": "stream",
     "text": [
      "\u001b[1m32/32\u001b[0m \u001b[32m━━━━━━━━━━━━━━━━━━━━\u001b[0m\u001b[37m\u001b[0m \u001b[1m0s\u001b[0m 4ms/step\n",
      "\u001b[1m32/32\u001b[0m \u001b[32m━━━━━━━━━━━━━━━━━━━━\u001b[0m\u001b[37m\u001b[0m \u001b[1m0s\u001b[0m 4ms/step\n"
     ]
    },
    {
     "data": {
      "image/png": "[encoded data removed]",
      "text/plain": [
       "<Figure size 2000x600 with 30 Axes>"
      ]
     },
     "metadata": {},
     "output_type": "display_data"
    }
   ],
   "source": [
    "# 테스트 이미지로 예측 생성\n",
    "decoded_imgs_A = autoencoder_A.predict(x_test_3)\n",
    "decoded_imgs_B = autoencoder_B.predict(x_test_3)\n",
    "\n",
    "# 시각화\n",
    "n = 10  # 보여줄 이미지 개수\n",
    "plt.figure(figsize=(20, 6))\n",
    "\n",
    "for i in range(n):\n",
    "    # 원본 이미지\n",
    "    ax = plt.subplot(3, n, i + 1)\n",
    "    plt.imshow(x_test_3[i], cmap='gray')\n",
    "    ax.set_title(\"Original\")\n",
    "    ax.get_xaxis().set_visible(False)\n",
    "    ax.get_yaxis().set_visible(False)\n",
    "\n",
    "    # 모델 A 재구성 이미지\n",
    "    ax = plt.subplot(3, n, i + 1 + n)\n",
    "    plt.imshow(decoded_imgs_A[i], cmap='gray')\n",
    "    ax.set_title(\"Model A (Ones)\")\n",
    "    ax.get_xaxis().set_visible(False)\n",
    "    ax.get_yaxis().set_visible(False)\n",
    "\n",
    "    # 모델 B 재구성 이미지\n",
    "    ax = plt.subplot(3, n, i + 1 + n * 2)\n",
    "    plt.imshow(decoded_imgs_B[i], cmap='gray')\n",
    "    ax.set_title(\"Model B (Standard)\")\n",
    "    ax.get_xaxis().set_visible(False)\n",
    "    ax.get_yaxis().set_visible(False)\n",
    "\n",
    "plt.show()"
   ]
  },
  {
   "cell_type": "code",
   "execution_count": 10,
   "metadata": {},
   "outputs": [
    {
     "data": {
      "text/plain": [
       "[<Variable path=sequential/dense/kernel, shape=(784, 128), dtype=float32, value=[[1. 1. 1. ... 1. 1. 1.]\n",
       "  [1. 1. 1. ... 1. 1. 1.]\n",
       "  [1. 1. 1. ... 1. 1. 1.]\n",
       "  ...\n",
       "  [1. 1. 1. ... 1. 1. 1.]\n",
       "  [1. 1. 1. ... 1. 1. 1.]\n",
       "  [1. 1. 1. ... 1. 1. 1.]]>,\n",
       " <Variable path=sequential/dense/bias, shape=(128,), dtype=float32, value=[-2.841566e-24 -2.841566e-24 -2.841566e-24 -2.841566e-24 -2.841566e-24\n",
       "  -2.841566e-24 -2.841566e-24 -2.841566e-24 -2.841566e-24 -2.841566e-24\n",
       "  -2.841566e-24 -2.841566e-24 -2.841566e-24 -2.841566e-24 -2.841566e-24\n",
       "  -2.841566e-24 -2.841566e-24 -2.841566e-24 -2.841566e-24 -2.841566e-24\n",
       "  -2.841566e-24 -2.841566e-24 -2.841566e-24 -2.841566e-24 -2.841566e-24\n",
       "  -2.841566e-24 -2.841566e-24 -2.841566e-24 -2.841566e-24 -2.841566e-24\n",
       "  -2.841566e-24 -2.841566e-24 -2.841566e-24 -2.841566e-24 -2.841566e-24\n",
       "  -2.841566e-24 -2.841566e-24 -2.841566e-24 -2.841566e-24 -2.841566e-24\n",
       "  -2.841566e-24 -2.841566e-24 -2.841566e-24 -2.841566e-24 -2.841566e-24\n",
       "  -2.841566e-24 -2.841566e-24 -2.841566e-24 -2.841566e-24 -2.841566e-24\n",
       "  -2.841566e-24 -2.841566e-24 -2.841566e-24 -2.841566e-24 -2.841566e-24\n",
       "  -2.841566e-24 -2.841566e-24 -2.841566e-24 -2.841566e-24 -2.841566e-24\n",
       "  -2.841566e-24 -2.841566e-24 -2.841566e-24 -2.841566e-24 -2.841566e-24\n",
       "  -2.841566e-24 -2.841566e-24 -2.841566e-24 -2.841566e-24 -2.841566e-24\n",
       "  -2.841566e-24 -2.841566e-24 -2.841566e-24 -2.841566e-24 -2.841566e-24\n",
       "  -2.841566e-24 -2.841566e-24 -2.841566e-24 -2.841566e-24 -2.841566e-24\n",
       "  -2.841566e-24 -2.841566e-24 -2.841566e-24 -2.841566e-24 -2.841566e-24\n",
       "  -2.841566e-24 -2.841566e-24 -2.841566e-24 -2.841566e-24 -2.841566e-24\n",
       "  -2.841566e-24 -2.841566e-24 -2.841566e-24 -2.841566e-24 -2.841566e-24\n",
       "  -2.841566e-24 -2.841566e-24 -2.841566e-24 -2.841566e-24 -2.841566e-24\n",
       "  -2.841566e-24 -2.841566e-24 -2.841566e-24 -2.841566e-24 -2.841566e-24\n",
       "  -2.841566e-24 -2.841566e-24 -2.841566e-24 -2.841566e-24 -2.841566e-24\n",
       "  -2.841566e-24 -2.841566e-24 -2.841566e-24 -2.841566e-24 -2.841566e-24\n",
       "  -2.841566e-24 -2.841566e-24 -2.841566e-24 -2.841566e-24 -2.841566e-24\n",
       "  -2.841566e-24 -2.841566e-24 -2.841566e-24 -2.841566e-24 -2.841566e-24\n",
       "  -2.841566e-24 -2.841566e-24 -2.841566e-24]>,\n",
       " <Variable path=sequential/dense_1/kernel, shape=(128, 64), dtype=float32, value=[[1. 1. 1. ... 1. 1. 1.]\n",
       "  [1. 1. 1. ... 1. 1. 1.]\n",
       "  [1. 1. 1. ... 1. 1. 1.]\n",
       "  ...\n",
       "  [1. 1. 1. ... 1. 1. 1.]\n",
       "  [1. 1. 1. ... 1. 1. 1.]\n",
       "  [1. 1. 1. ... 1. 1. 1.]]>,\n",
       " <Variable path=sequential/dense_1/bias, shape=(64,), dtype=float32, value=[-4.4398962e-26 -4.4398962e-26 -4.4398962e-26 -4.4398962e-26\n",
       "  -4.4398962e-26 -4.4398962e-26 -4.4398962e-26 -4.4398962e-26\n",
       "  -4.4398962e-26 -4.4398962e-26 -4.4398962e-26 -4.4398962e-26\n",
       "  -4.4398962e-26 -4.4398962e-26 -4.4398962e-26 -4.4398962e-26\n",
       "  -4.4398962e-26 -4.4398962e-26 -4.4398962e-26 -4.4398962e-26\n",
       "  -4.4398962e-26 -4.4398962e-26 -4.4398962e-26 -4.4398962e-26\n",
       "  -4.4398962e-26 -4.4398962e-26 -4.4398962e-26 -4.4398962e-26\n",
       "  -4.4398962e-26 -4.4398962e-26 -4.4398962e-26 -4.4398962e-26\n",
       "  -4.4398962e-26 -4.4398962e-26 -4.4398962e-26 -4.4398962e-26\n",
       "  -4.4398962e-26 -4.4398962e-26 -4.4398962e-26 -4.4398962e-26\n",
       "  -4.4398962e-26 -4.4398962e-26 -4.4398962e-26 -4.4398962e-26\n",
       "  -4.4398962e-26 -4.4398962e-26 -4.4398962e-26 -4.4398962e-26\n",
       "  -4.4398962e-26 -4.4398962e-26 -4.4398962e-26 -4.4398962e-26\n",
       "  -4.4398962e-26 -4.4398962e-26 -4.4398962e-26 -4.4398962e-26\n",
       "  -4.4398962e-26 -4.4398962e-26 -4.4398962e-26 -4.4398962e-26\n",
       "  -4.4398962e-26 -4.4398962e-26 -4.4398962e-26 -4.4398962e-26]>,\n",
       " <Variable path=sequential/dense_2/kernel, shape=(64, 32), dtype=float32, value=[[1. 1. 1. ... 1. 1. 1.]\n",
       "  [1. 1. 1. ... 1. 1. 1.]\n",
       "  [1. 1. 1. ... 1. 1. 1.]\n",
       "  ...\n",
       "  [1. 1. 1. ... 1. 1. 1.]\n",
       "  [1. 1. 1. ... 1. 1. 1.]\n",
       "  [1. 1. 1. ... 1. 1. 1.]]>,\n",
       " <Variable path=sequential/dense_2/bias, shape=(32,), dtype=float32, value=[ 5.13939409e-24  2.18076353e-23  3.06978693e-24 -4.83118810e-24\n",
       "   2.46689940e-24 -1.29834546e-23  3.05083711e-24 -8.25561130e-25\n",
       "   8.22710582e-25 -6.26583973e-24  9.74834390e-24 -8.08266647e-24\n",
       "   5.16168010e-25 -8.23128826e-25  9.81011940e-25  4.71334678e-25\n",
       "   7.98139961e-24  1.15708698e-24 -1.78265730e-23  3.11810782e-24\n",
       "  -1.21676762e-23  1.20007074e-23 -1.17857920e-24  7.57933140e-24\n",
       "  -6.48903767e-24  1.53709263e-23  8.14570227e-25 -6.54573074e-24\n",
       "   2.99157631e-24 -1.32496573e-23 -8.64486160e-24  7.81795423e-25]>,\n",
       " <Variable path=sequential_1/dense_3/kernel, shape=(32, 64), dtype=float32, value=[[-0.17138994  0.03153169 -0.12960619 ... -0.01878375 -0.0539313\n",
       "   -0.11903226]\n",
       "  [-0.04061806 -0.08861905 -0.04665339 ... -0.11900586  0.12489253\n",
       "    0.03484249]\n",
       "  [-0.0592398  -0.15137798 -0.19431633 ...  0.18197018  0.09861696\n",
       "    0.13809961]\n",
       "  ...\n",
       "  [-0.22137558 -0.07545054 -0.16905487 ...  0.19190025  0.02306181\n",
       "   -0.12715358]\n",
       "  [-0.18480736  0.03900307  0.06869352 ... -0.13894957  0.20501018\n",
       "    0.18756688]\n",
       "  [ 0.12479514 -0.09493899 -0.11223924 ...  0.093292    0.01805711\n",
       "    0.11257428]]>,\n",
       " <Variable path=sequential_1/dense_3/bias, shape=(64,), dtype=float32, value=[ 0.00000000e+00  0.00000000e+00  0.00000000e+00  0.00000000e+00\n",
       "   0.00000000e+00  2.37836830e-24 -2.59322088e-23  0.00000000e+00\n",
       "  -5.55551595e-25  0.00000000e+00  0.00000000e+00  0.00000000e+00\n",
       "   1.84744298e-23  1.43819014e-23  5.91128265e-24  5.03038574e-24\n",
       "   0.00000000e+00  5.01364256e-24  0.00000000e+00  0.00000000e+00\n",
       "   0.00000000e+00 -4.83360478e-24  0.00000000e+00 -9.37437019e-24\n",
       "   0.00000000e+00  0.00000000e+00 -3.03267201e-24 -1.42258348e-23\n",
       "  -1.49490072e-23  1.92344941e-23  3.20812178e-24  7.25430227e-25\n",
       "   0.00000000e+00 -1.21932834e-23  1.47681214e-23 -6.53331693e-25\n",
       "   0.00000000e+00  1.20313176e-23  0.00000000e+00  0.00000000e+00\n",
       "   0.00000000e+00  0.00000000e+00 -9.34309107e-24  0.00000000e+00\n",
       "  -6.55656170e-25  3.05493564e-24  1.05524401e-23  0.00000000e+00\n",
       "   0.00000000e+00  9.56924566e-25  0.00000000e+00  0.00000000e+00\n",
       "   1.07677683e-23  0.00000000e+00  1.01988616e-23  0.00000000e+00\n",
       "  -6.57316624e-25 -2.10434342e-23  0.00000000e+00  0.00000000e+00\n",
       "   0.00000000e+00 -5.23691702e-24 -1.83792876e-24 -1.97884733e-24]>,\n",
       " <Variable path=sequential_1/dense_4/kernel, shape=(64, 128), dtype=float32, value=[[-0.1210154  -0.13798617 -0.08104468 ... -0.12544529 -0.17268103\n",
       "    0.12052102]\n",
       "  [-0.12280567 -0.08570524  0.07647179 ... -0.07454757 -0.06944178\n",
       "   -0.16926478]\n",
       "  [-0.00830723  0.09947865 -0.12219391 ...  0.12425096  0.01653497\n",
       "   -0.10073514]\n",
       "  ...\n",
       "  [-0.06594671  0.07184322  0.15437447 ... -0.14676157 -0.07735321\n",
       "    0.06972218]\n",
       "  [-0.10461716 -0.06602143  0.10085122 ... -0.10647613 -0.0435122\n",
       "    0.17020334]\n",
       "  [-0.09901276  0.15433781  0.02621146 ... -0.12784146  0.08209558\n",
       "    0.10653864]]>,\n",
       " <Variable path=sequential_1/dense_4/bias, shape=(128,), dtype=float32, value=[-9.48990518e-24  1.54952272e-23 -2.34038133e-23  0.00000000e+00\n",
       "   0.00000000e+00  1.09099574e-23  0.00000000e+00  0.00000000e+00\n",
       "   1.68660323e-23 -9.96468112e-24 -1.93252778e-23  7.78167343e-24\n",
       "   4.20604611e-26 -1.79063395e-23  0.00000000e+00  1.53615436e-23\n",
       "   1.30790890e-23  1.36774400e-24 -1.02386052e-23  0.00000000e+00\n",
       "   0.00000000e+00  0.00000000e+00 -7.15740993e-24 -7.82859804e-24\n",
       "   0.00000000e+00  0.00000000e+00  0.00000000e+00 -5.20956169e-24\n",
       "   0.00000000e+00  5.00612856e-25  0.00000000e+00  0.00000000e+00\n",
       "   0.00000000e+00  0.00000000e+00  2.14617987e-23  0.00000000e+00\n",
       "   1.69404704e-24  0.00000000e+00 -2.14168115e-23  0.00000000e+00\n",
       "  -6.05434770e-25  0.00000000e+00  2.23614318e-24  0.00000000e+00\n",
       "   0.00000000e+00  0.00000000e+00 -1.31115861e-23  0.00000000e+00\n",
       "   1.24032529e-23  0.00000000e+00 -1.96955139e-23  0.00000000e+00\n",
       "   6.50411044e-24  1.08654546e-23 -1.83936646e-24  0.00000000e+00\n",
       "   0.00000000e+00  1.49864570e-24  0.00000000e+00  0.00000000e+00\n",
       "   2.01741284e-23  0.00000000e+00  0.00000000e+00  2.10733825e-23\n",
       "   0.00000000e+00  0.00000000e+00 -1.87776900e-23  5.10156308e-24\n",
       "   0.00000000e+00  9.76277138e-24  4.28604854e-24  0.00000000e+00\n",
       "   0.00000000e+00  0.00000000e+00  0.00000000e+00  0.00000000e+00\n",
       "   2.00508346e-24  0.00000000e+00  0.00000000e+00  0.00000000e+00\n",
       "  -1.80638356e-23  0.00000000e+00 -1.30282445e-23  0.00000000e+00\n",
       "   0.00000000e+00  3.74946062e-24  8.86682576e-24 -1.61713409e-23\n",
       "  -9.91750250e-24  0.00000000e+00  6.28119886e-24  0.00000000e+00\n",
       "   0.00000000e+00  0.00000000e+00  0.00000000e+00  0.00000000e+00\n",
       "  -2.81863374e-24 -1.33216866e-23  0.00000000e+00  1.82754317e-23\n",
       "   0.00000000e+00  9.04379251e-24  8.21851857e-24 -1.80402754e-23\n",
       "   0.00000000e+00  8.86394800e-24  1.45982071e-23  0.00000000e+00\n",
       "   0.00000000e+00  1.76127223e-23  0.00000000e+00 -8.39763654e-24\n",
       "   0.00000000e+00 -3.85235712e-25 -1.36885156e-24  2.89160120e-24\n",
       "  -2.01228990e-24  1.61001793e-23  2.07629531e-23  0.00000000e+00\n",
       "   1.99875959e-23  0.00000000e+00 -9.41894241e-24  0.00000000e+00\n",
       "  -1.82230640e-23  2.19551223e-23  0.00000000e+00  0.00000000e+00]>,\n",
       " <Variable path=sequential_1/dense_5/kernel, shape=(128, 784), dtype=float32, value=[[-0.01286978 -0.01889578  0.06144708 ...  0.07303534 -0.04464409\n",
       "    0.00114767]\n",
       "  [-0.01538329  0.00945693  0.0522436  ...  0.0069988   0.01482575\n",
       "   -0.0295537 ]\n",
       "  [-0.0700972   0.07469629 -0.02752428 ... -0.07997135  0.01738403\n",
       "   -0.02984942]\n",
       "  ...\n",
       "  [ 0.06540019 -0.01212987 -0.06830297 ... -0.02378425  0.05315097\n",
       "    0.02106626]\n",
       "  [-0.04421623  0.04768925  0.0683816  ... -0.01851733 -0.01201477\n",
       "    0.04930011]\n",
       "  [ 0.05645213  0.01536741  0.00393687 ... -0.06104326 -0.01971544\n",
       "   -0.01369239]]>,\n",
       " <Variable path=sequential_1/dense_5/bias, shape=(784,), dtype=float32, value=[0.00000e+00 0.00000e+00 0.00000e+00 0.00000e+00 0.00000e+00 0.00000e+00\n",
       "  0.00000e+00 0.00000e+00 0.00000e+00 0.00000e+00 0.00000e+00 0.00000e+00\n",
       "  0.00000e+00 0.00000e+00 0.00000e+00 0.00000e+00 0.00000e+00 0.00000e+00\n",
       "  0.00000e+00 0.00000e+00 0.00000e+00 0.00000e+00 0.00000e+00 0.00000e+00\n",
       "  0.00000e+00 0.00000e+00 0.00000e+00 0.00000e+00 0.00000e+00 0.00000e+00\n",
       "  0.00000e+00 0.00000e+00 0.00000e+00 0.00000e+00 0.00000e+00 0.00000e+00\n",
       "  0.00000e+00 0.00000e+00 0.00000e+00 0.00000e+00 0.00000e+00 0.00000e+00\n",
       "  0.00000e+00 0.00000e+00 0.00000e+00 0.00000e+00 0.00000e+00 0.00000e+00\n",
       "  0.00000e+00 0.00000e+00 0.00000e+00 0.00000e+00 0.00000e+00 0.00000e+00\n",
       "  0.00000e+00 0.00000e+00 0.00000e+00 0.00000e+00 0.00000e+00 0.00000e+00\n",
       "  0.00000e+00 0.00000e+00 0.00000e+00 0.00000e+00 0.00000e+00 0.00000e+00\n",
       "  0.00000e+00 0.00000e+00 0.00000e+00 0.00000e+00 0.00000e+00 0.00000e+00\n",
       "  0.00000e+00 0.00000e+00 0.00000e+00 0.00000e+00 0.00000e+00 0.00000e+00\n",
       "  0.00000e+00 0.00000e+00 0.00000e+00 0.00000e+00 0.00000e+00 0.00000e+00\n",
       "  0.00000e+00 0.00000e+00 0.00000e+00 0.00000e+00 0.00000e+00 0.00000e+00\n",
       "  0.00000e+00 0.00000e+00 0.00000e+00 0.00000e+00 0.00000e+00 0.00000e+00\n",
       "  0.00000e+00 0.00000e+00 0.00000e+00 0.00000e+00 0.00000e+00 0.00000e+00\n",
       "  0.00000e+00 0.00000e+00 0.00000e+00 0.00000e+00 0.00000e+00 0.00000e+00\n",
       "  0.00000e+00 0.00000e+00 0.00000e+00 0.00000e+00 0.00000e+00 0.00000e+00\n",
       "  0.00000e+00 0.00000e+00 0.00000e+00 0.00000e+00 0.00000e+00 0.00000e+00\n",
       "  0.00000e+00 0.00000e+00 0.00000e+00 0.00000e+00 0.00000e+00 0.00000e+00\n",
       "  0.00000e+00 0.00000e+00 0.00000e+00 0.00000e+00 0.00000e+00 0.00000e+00\n",
       "  0.00000e+00 0.00000e+00 0.00000e+00 0.00000e+00 0.00000e+00 0.00000e+00\n",
       "  0.00000e+00 0.00000e+00 0.00000e+00 0.00000e+00 0.00000e+00 0.00000e+00\n",
       "  0.00000e+00 0.00000e+00 0.00000e+00 0.00000e+00 0.00000e+00 0.00000e+00\n",
       "  0.00000e+00 0.00000e+00 0.00000e+00 0.00000e+00 0.00000e+00 0.00000e+00\n",
       "  0.00000e+00 0.00000e+00 0.00000e+00 0.00000e+00 0.00000e+00 0.00000e+00\n",
       "  0.00000e+00 0.00000e+00 0.00000e+00 0.00000e+00 0.00000e+00 0.00000e+00\n",
       "  0.00000e+00 0.00000e+00 0.00000e+00 0.00000e+00 0.00000e+00 0.00000e+00\n",
       "  0.00000e+00 0.00000e+00 0.00000e+00 0.00000e+00 0.00000e+00 0.00000e+00\n",
       "  0.00000e+00 0.00000e+00 0.00000e+00 0.00000e+00 0.00000e+00 0.00000e+00\n",
       "  0.00000e+00 0.00000e+00 0.00000e+00 0.00000e+00 0.00000e+00 0.00000e+00\n",
       "  0.00000e+00 0.00000e+00 0.00000e+00 0.00000e+00 0.00000e+00 0.00000e+00\n",
       "  0.00000e+00 0.00000e+00 0.00000e+00 0.00000e+00 0.00000e+00 0.00000e+00\n",
       "  0.00000e+00 0.00000e+00 0.00000e+00 0.00000e+00 0.00000e+00 0.00000e+00\n",
       "  0.00000e+00 0.00000e+00 0.00000e+00 0.00000e+00 0.00000e+00 0.00000e+00\n",
       "  0.00000e+00 0.00000e+00 0.00000e+00 0.00000e+00 0.00000e+00 0.00000e+00\n",
       "  0.00000e+00 0.00000e+00 0.00000e+00 0.00000e+00 0.00000e+00 0.00000e+00\n",
       "  0.00000e+00 0.00000e+00 0.00000e+00 0.00000e+00 0.00000e+00 0.00000e+00\n",
       "  0.00000e+00 0.00000e+00 0.00000e+00 0.00000e+00 0.00000e+00 0.00000e+00\n",
       "  0.00000e+00 0.00000e+00 0.00000e+00 0.00000e+00 0.00000e+00 0.00000e+00\n",
       "  0.00000e+00 0.00000e+00 0.00000e+00 0.00000e+00 0.00000e+00 0.00000e+00\n",
       "  0.00000e+00 0.00000e+00 0.00000e+00 0.00000e+00 0.00000e+00 0.00000e+00\n",
       "  0.00000e+00 0.00000e+00 0.00000e+00 0.00000e+00 0.00000e+00 0.00000e+00\n",
       "  0.00000e+00 0.00000e+00 0.00000e+00 0.00000e+00 0.00000e+00 0.00000e+00\n",
       "  0.00000e+00 0.00000e+00 0.00000e+00 0.00000e+00 0.00000e+00 0.00000e+00\n",
       "  0.00000e+00 0.00000e+00 0.00000e+00 0.00000e+00 0.00000e+00 0.00000e+00\n",
       "  0.00000e+00 0.00000e+00 0.00000e+00 0.00000e+00 0.00000e+00 0.00000e+00\n",
       "  0.00000e+00 0.00000e+00 0.00000e+00 0.00000e+00 0.00000e+00 0.00000e+00\n",
       "  0.00000e+00 0.00000e+00 0.00000e+00 0.00000e+00 0.00000e+00 0.00000e+00\n",
       "  0.00000e+00 0.00000e+00 0.00000e+00 0.00000e+00 0.00000e+00 0.00000e+00\n",
       "  0.00000e+00 0.00000e+00 0.00000e+00 0.00000e+00 0.00000e+00 0.00000e+00\n",
       "  0.00000e+00 0.00000e+00 0.00000e+00 0.00000e+00 0.00000e+00 0.00000e+00\n",
       "  0.00000e+00 0.00000e+00 0.00000e+00 0.00000e+00 0.00000e+00 0.00000e+00\n",
       "  0.00000e+00 0.00000e+00 0.00000e+00 0.00000e+00 0.00000e+00 0.00000e+00\n",
       "  0.00000e+00 0.00000e+00 0.00000e+00 0.00000e+00 0.00000e+00 0.00000e+00\n",
       "  0.00000e+00 0.00000e+00 0.00000e+00 0.00000e+00 0.00000e+00 0.00000e+00\n",
       "  0.00000e+00 0.00000e+00 0.00000e+00 0.00000e+00 0.00000e+00 0.00000e+00\n",
       "  0.00000e+00 0.00000e+00 0.00000e+00 0.00000e+00 0.00000e+00 0.00000e+00\n",
       "  0.00000e+00 0.00000e+00 0.00000e+00 0.00000e+00 0.00000e+00 0.00000e+00\n",
       "  0.00000e+00 0.00000e+00 0.00000e+00 0.00000e+00 0.00000e+00 0.00000e+00\n",
       "  0.00000e+00 0.00000e+00 0.00000e+00 0.00000e+00 0.00000e+00 0.00000e+00\n",
       "  0.00000e+00 0.00000e+00 0.00000e+00 0.00000e+00 0.00000e+00 0.00000e+00\n",
       "  0.00000e+00 0.00000e+00 0.00000e+00 0.00000e+00 0.00000e+00 0.00000e+00\n",
       "  0.00000e+00 0.00000e+00 0.00000e+00 0.00000e+00 0.00000e+00 0.00000e+00\n",
       "  0.00000e+00 0.00000e+00 0.00000e+00 0.00000e+00 0.00000e+00 0.00000e+00\n",
       "  0.00000e+00 0.00000e+00 0.00000e+00 0.00000e+00 0.00000e+00 0.00000e+00\n",
       "  0.00000e+00 0.00000e+00 0.00000e+00 0.00000e+00 0.00000e+00 0.00000e+00\n",
       "  0.00000e+00 0.00000e+00 0.00000e+00 0.00000e+00 0.00000e+00 0.00000e+00\n",
       "  0.00000e+00 0.00000e+00 0.00000e+00 0.00000e+00 0.00000e+00 0.00000e+00\n",
       "  0.00000e+00 0.00000e+00 0.00000e+00 0.00000e+00 0.00000e+00 0.00000e+00\n",
       "  0.00000e+00 0.00000e+00 0.00000e+00 0.00000e+00 0.00000e+00 0.00000e+00\n",
       "  0.00000e+00 0.00000e+00 0.00000e+00 0.00000e+00 0.00000e+00 0.00000e+00\n",
       "  0.00000e+00 0.00000e+00 0.00000e+00 0.00000e+00 0.00000e+00 0.00000e+00\n",
       "  0.00000e+00 0.00000e+00 0.00000e+00 0.00000e+00 0.00000e+00 0.00000e+00\n",
       "  0.00000e+00 0.00000e+00 0.00000e+00 0.00000e+00 0.00000e+00 0.00000e+00\n",
       "  0.00000e+00 0.00000e+00 0.00000e+00 0.00000e+00 0.00000e+00 0.00000e+00\n",
       "  0.00000e+00 0.00000e+00 0.00000e+00 0.00000e+00 0.00000e+00 0.00000e+00\n",
       "  0.00000e+00 0.00000e+00 0.00000e+00 0.00000e+00 0.00000e+00 0.00000e+00\n",
       "  0.00000e+00 0.00000e+00 0.00000e+00 0.00000e+00 0.00000e+00 0.00000e+00\n",
       "  0.00000e+00 0.00000e+00 0.00000e+00 0.00000e+00 0.00000e+00 0.00000e+00\n",
       "  0.00000e+00 0.00000e+00 0.00000e+00 0.00000e+00 0.00000e+00 0.00000e+00\n",
       "  0.00000e+00 0.00000e+00 0.00000e+00 0.00000e+00 0.00000e+00 0.00000e+00\n",
       "  0.00000e+00 0.00000e+00 0.00000e+00 0.00000e+00 0.00000e+00 0.00000e+00\n",
       "  0.00000e+00 0.00000e+00 0.00000e+00 0.00000e+00 0.00000e+00 0.00000e+00\n",
       "  0.00000e+00 0.00000e+00 0.00000e+00 0.00000e+00 0.00000e+00 0.00000e+00\n",
       "  0.00000e+00 0.00000e+00 0.00000e+00 0.00000e+00 0.00000e+00 0.00000e+00\n",
       "  0.00000e+00 0.00000e+00 0.00000e+00 0.00000e+00 0.00000e+00 0.00000e+00\n",
       "  0.00000e+00 0.00000e+00 0.00000e+00 0.00000e+00 0.00000e+00 0.00000e+00\n",
       "  0.00000e+00 0.00000e+00 0.00000e+00 0.00000e+00 0.00000e+00 0.00000e+00\n",
       "  0.00000e+00 0.00000e+00 0.00000e+00 0.00000e+00 0.00000e+00 0.00000e+00\n",
       "  0.00000e+00 0.00000e+00 0.00000e+00 0.00000e+00 0.00000e+00 0.00000e+00\n",
       "  0.00000e+00 0.00000e+00 0.00000e+00 0.00000e+00 0.00000e+00 0.00000e+00\n",
       "  0.00000e+00 0.00000e+00 0.00000e+00 0.00000e+00 0.00000e+00 0.00000e+00\n",
       "  0.00000e+00 0.00000e+00 0.00000e+00 0.00000e+00 0.00000e+00 0.00000e+00\n",
       "  0.00000e+00 2.90892e-22 0.00000e+00 0.00000e+00 0.00000e+00 0.00000e+00\n",
       "  0.00000e+00 0.00000e+00 0.00000e+00 0.00000e+00 0.00000e+00 0.00000e+00\n",
       "  0.00000e+00 0.00000e+00 0.00000e+00 0.00000e+00 0.00000e+00 0.00000e+00\n",
       "  0.00000e+00 0.00000e+00 0.00000e+00 0.00000e+00 0.00000e+00 0.00000e+00\n",
       "  0.00000e+00 0.00000e+00 0.00000e+00 0.00000e+00 0.00000e+00 0.00000e+00\n",
       "  0.00000e+00 0.00000e+00 0.00000e+00 0.00000e+00 0.00000e+00 0.00000e+00\n",
       "  0.00000e+00 0.00000e+00 0.00000e+00 0.00000e+00 0.00000e+00 0.00000e+00\n",
       "  0.00000e+00 0.00000e+00 0.00000e+00 0.00000e+00 0.00000e+00 0.00000e+00\n",
       "  0.00000e+00 0.00000e+00 0.00000e+00 0.00000e+00 0.00000e+00 0.00000e+00\n",
       "  0.00000e+00 0.00000e+00 0.00000e+00 0.00000e+00 0.00000e+00 0.00000e+00\n",
       "  0.00000e+00 0.00000e+00 0.00000e+00 0.00000e+00 0.00000e+00 0.00000e+00\n",
       "  0.00000e+00 0.00000e+00 0.00000e+00 0.00000e+00 0.00000e+00 0.00000e+00\n",
       "  0.00000e+00 0.00000e+00 0.00000e+00 0.00000e+00 0.00000e+00 0.00000e+00\n",
       "  0.00000e+00 0.00000e+00 0.00000e+00 0.00000e+00 0.00000e+00 0.00000e+00\n",
       "  0.00000e+00 0.00000e+00 0.00000e+00 0.00000e+00 0.00000e+00 0.00000e+00\n",
       "  0.00000e+00 0.00000e+00 0.00000e+00 0.00000e+00 0.00000e+00 0.00000e+00\n",
       "  0.00000e+00 0.00000e+00 0.00000e+00 0.00000e+00 0.00000e+00 0.00000e+00\n",
       "  0.00000e+00 0.00000e+00 0.00000e+00 0.00000e+00 0.00000e+00 0.00000e+00\n",
       "  0.00000e+00 0.00000e+00 0.00000e+00 0.00000e+00 0.00000e+00 0.00000e+00\n",
       "  0.00000e+00 0.00000e+00 0.00000e+00 0.00000e+00 0.00000e+00 0.00000e+00\n",
       "  0.00000e+00 0.00000e+00 0.00000e+00 0.00000e+00 0.00000e+00 0.00000e+00\n",
       "  0.00000e+00 0.00000e+00 0.00000e+00 0.00000e+00 0.00000e+00 0.00000e+00\n",
       "  0.00000e+00 0.00000e+00 0.00000e+00 0.00000e+00 0.00000e+00 0.00000e+00\n",
       "  0.00000e+00 0.00000e+00 0.00000e+00 0.00000e+00 0.00000e+00 0.00000e+00\n",
       "  0.00000e+00 0.00000e+00 0.00000e+00 0.00000e+00 0.00000e+00 0.00000e+00\n",
       "  0.00000e+00 0.00000e+00 0.00000e+00 0.00000e+00 0.00000e+00 0.00000e+00\n",
       "  0.00000e+00 0.00000e+00 0.00000e+00 0.00000e+00 0.00000e+00 0.00000e+00\n",
       "  0.00000e+00 0.00000e+00 0.00000e+00 0.00000e+00 0.00000e+00 0.00000e+00\n",
       "  0.00000e+00 0.00000e+00 0.00000e+00 0.00000e+00 0.00000e+00 0.00000e+00\n",
       "  0.00000e+00 0.00000e+00 0.00000e+00 0.00000e+00 0.00000e+00 0.00000e+00\n",
       "  0.00000e+00 0.00000e+00 0.00000e+00 0.00000e+00 0.00000e+00 0.00000e+00\n",
       "  0.00000e+00 0.00000e+00 0.00000e+00 0.00000e+00 0.00000e+00 0.00000e+00\n",
       "  0.00000e+00 0.00000e+00 0.00000e+00 0.00000e+00 0.00000e+00 0.00000e+00\n",
       "  0.00000e+00 0.00000e+00 0.00000e+00 0.00000e+00 0.00000e+00 0.00000e+00\n",
       "  0.00000e+00 0.00000e+00 0.00000e+00 0.00000e+00 0.00000e+00 0.00000e+00\n",
       "  0.00000e+00 0.00000e+00 0.00000e+00 0.00000e+00]>]"
      ]
     },
     "execution_count": 10,
     "metadata": {},
     "output_type": "execute_result"
    }
   ],
   "source": [
    "autoencoder_A.weights"
   ]
  },
  {
   "cell_type": "code",
   "execution_count": null,
   "metadata": {},
   "outputs": [],
   "source": []
  }
 ],
 "metadata": {
  "kernelspec": {
   "display_name": "venv (3.11.9)",
   "language": "python",
   "name": "python3"
  },
  "language_info": {
   "codemirror_mode": {
    "name": "ipython",
    "version": 3
   },
   "file_extension": ".py",
   "mimetype": "text/x-python",
   "name": "python",
   "nbconvert_exporter": "python",
   "pygments_lexer": "ipython3",
   "version": "3.11.9"
  }
 },
 "nbformat": 4,
 "nbformat_minor": 4
}

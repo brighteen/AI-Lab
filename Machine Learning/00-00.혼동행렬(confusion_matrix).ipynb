{
  "cells": [
    {
      "cell_type": "markdown",
      "metadata": {},
      "source": [
        "# 혼동 행렬 (Confusion Matrix)"
      ]
    },
    {
      "cell_type": "markdown",
      "metadata": {},
      "source": [
        "### 개념 요약\n",
        "**혼동 행렬(Confusion Matrix)**은 분류(Classification) 모델의 성능을 평가하기 위한 표임. 모델의 예측이 실제 값과 비교하여 얼마나 정확한지, 그리고 어떤 유형의 오류를 범하는지를 한눈에 보여줌.\n",
        "\n",
        "단순히 '정확도(Accuracy)'만으로는 알 수 없는 모델의 세부적인 성능을 파악하는 데 필수적임. 특히 데이터가 불균형할 때 모델의 진짜 성능을 평가하는 데 유용하며, 정밀도(Precision), 재현율(Recall) 등 다양한 평가 지표를 계산하는 기반이 됨."
      ]
    },
    {
      "cell_type": "markdown",
      "metadata": {},
      "source": [
        "### 행렬의 구성 요소 📊\n",
        "혼동 행렬은 4가지 핵심 요소로 구성됨. (Positive: 1, Negative: 0)\n",
        "\n",
        "* **True Positive (TP, 진양성):** 모델이 **Positive**를 **Positive**로 올바르게 예측. (정답)\n",
        "* **True Negative (TN, 진음성):** 모델이 **Negative**를 **Negative**로 올바르게 예측. (정답)\n",
        "* **False Positive (FP, 위양성):** 모델이 **Negative**를 **Positive**로 잘못 예측. (1종 오류, Type I Error)\n",
        "* **False Negative (FN, 위음성):** 모델이 **Positive**를 **Negative**로 잘못 예측. (2종 오류, Type II Error)\n",
        "\n",
        "| | 예측: Positive (1) | 예측: Negative (0) |\n",
        "| :--- | :---: | :---: |\n",
        "| **실제: Positive (1)** | **TP** | **FN** |\n",
        "| **실제: Negative (0)** | **FP** | **TN** |\n",
        "\n",
        "#### 주요 평가 지표\n",
        "* **정확도 (Accuracy):** 전체 예측 중 올바른 예측의 비율. $$ \\frac{TP + TN}{TP + TN + FP + FN} $$\n",
        "* **정밀도 (Precision):** Positive로 예측한 것 중 실제 Positive의 비율. $$ \\frac{TP}{TP + FP} $$\n",
        "* **재현율 (Recall / Sensitivity):** 실제 Positive 중 모델이 Positive로 예측한 비율. $$ \\frac{TP}{TP + FN} $$\n",
        "* **F1 점수 (F1 Score):** 정밀도와 재현율의 조화 평균. $$ 2 \\times \\frac{Precision \\times Recall}{Precision + Recall} $$"
      ]
    },
    {
      "cell_type": "markdown",
      "metadata": {},
      "source": [
        "### 라이브러리 임포트 (Setup)"
      ]
    },
    {
      "cell_type": "code",
      "execution_count": 1,
      "metadata": {},
      "outputs": [],
      "source": [
        "# !pip install numpy scikit-learn matplotlib seaborn\n",
        "import numpy as np\n",
        "import matplotlib.pyplot as plt\n",
        "import seaborn as sns\n",
        "from sklearn.metrics import confusion_matrix, accuracy_score, precision_score, recall_score, f1_score"
      ]
    },
    {
      "cell_type": "markdown",
      "metadata": {},
      "source": [
        "### 예제 데이터 준비 (Data Preparation)\n",
        "이진 분류 문제에 대한 실제 정답과 모델의 예측 결과를 생성함."
      ]
    },
    {
      "cell_type": "code",
      "execution_count": 2,
      "metadata": {},
      "outputs": [
        {
          "name": "stdout",
          "output_type": "stream",
          "text": [
            "실제 정답 (y_true): [1 0 1 1 0 1 0 0 1 1]\n",
            "모델 예측 (y_pred): [1 1 1 0 0 1 0 0 1 0]\n"
          ]
        }
      ],
      "source": [
        "# 실제 정답 (10개)\n",
        "y_true = np.array([1, 0, 1, 1, 0, 1, 0, 0, 1, 1])\n",
        "\n",
        "# 모델 예측\n",
        "y_pred = np.array([1, 1, 1, 0, 0, 1, 0, 0, 1, 0])\n",
        "\n",
        "print(f\"실제 정답 (y_true): {y_true}\")\n",
        "print(f\"모델 예측 (y_pred): {y_pred}\")"
      ]
    },
    {
      "cell_type": "markdown",
      "metadata": {},
      "source": [
        "### 핵심 로직 구현 (Code Implementation)\n",
        "NumPy를 사용하여 혼동 행렬의 각 구성 요소(TP, TN, FP, FN)를 직접 계산하는 함수를 구현함."
      ]
    },
    {
      "cell_type": "code",
      "execution_count": 3,
      "metadata": {},
      "outputs": [
        {
          "name": "stdout",
          "output_type": "stream",
          "text": [
            "[계산 과정]\n",
            "  True Positive (TP) : 실제 1, 예측 1 => 4개\n",
            "  True Negative (TN) : 실제 0, 예측 0 => 3개\n",
            "  False Positive (FP): 실제 0, 예측 1 => 1개\n",
            "  False Negative (FN): 실제 1, 예측 0 => 2개\n",
            "\n"
          ]
        }
      ],
      "source": [
        "def compute_confusion_matrix_elements(y_true, y_pred):\n",
        "    \"\"\"NumPy를 이용해 혼동 행렬의 구성 요소를 계산\"\"\"\n",
        "    # (y_true == 1) & (y_pred == 1)과 같이 논리 연산을 통해 각 요소를 찾음\n",
        "    TP = np.sum((y_true == 1) & (y_pred == 1))\n",
        "    TN = np.sum((y_true == 0) & (y_pred == 0))\n",
        "    FP = np.sum((y_true == 0) & (y_pred == 1))\n",
        "    FN = np.sum((y_true == 1) & (y_pred == 0))\n",
        "    \n",
        "    # 핵심 변수 확인\n",
        "    print(f\"[계산 과정]\")\n",
        "    print(f\"  True Positive (TP) : 실제 1, 예측 1 => {TP}개\")\n",
        "    print(f\"  True Negative (TN) : 실제 0, 예측 0 => {TN}개\")\n",
        "    print(f\"  False Positive (FP): 실제 0, 예측 1 => {FP}개\")\n",
        "    print(f\"  False Negative (FN): 실제 1, 예측 0 => {FN}개\\n\")\n",
        "    \n",
        "    return TP, TN, FP, FN\n",
        "\n",
        "# 직접 구현한 함수로 결과 계산\n",
        "TP, TN, FP, FN = compute_confusion_matrix_elements(y_true, y_pred)\n",
        "custom_cm = np.array([[TN, FP], [FN, TP]]) # Scikit-learn 순서와 맞춤: TN, FP, FN, TP"
      ]
    },
    {
      "cell_type": "markdown",
      "metadata": {},
      "source": [
        "### 결과 확인 및 시각화 (Results & Visualization) 📊\n",
        "계산된 혼동 행렬을 시각화하고, 이를 바탕으로 주요 평가 지표들을 계산함. `scikit-learn` 라이브러리의 결과와 비교하여 구현을 검증함."
      ]
    },
    {
      "cell_type": "code",
      "execution_count": 4,
      "metadata": {},
      "outputs": [
        {
          "name": "stdout",
          "output_type": "stream",
          "text": [
            "직접 계산한 혼동 행렬:\n",
            "[[3 1]\n",
            " [2 4]]\n",
            "\n",
            "Scikit-learn의 혼동 행렬:\n",
            "[[3 1]\n",
            " [2 4]]\n"
          ]
        },
        {
          "data": {
            "image/png": "[encoded data removed]",
            "text/plain": [
              "<Figure size 800x600 with 2 Axes>"
            ]
          },
          "metadata": {},
          "output_type": "display_data"
        }
      ],
      "source": [
        "# Scikit-learn을 이용한 혼동 행렬 계산\n",
        "sklearn_cm = confusion_matrix(y_true, y_pred)\n",
        "\n",
        "print(\"직접 계산한 혼동 행렬:\")\n",
        "print(custom_cm)\n",
        "\n",
        "print(\"\\nScikit-learn의 혼동 행렬:\")\n",
        "print(sklearn_cm)\n",
        "\n",
        "# Seaborn을 이용한 시각화\n",
        "plt.figure(figsize=(8, 6))\n",
        "sns.heatmap(sklearn_cm, annot=True, fmt='d', cmap='Blues',\n",
        "            xticklabels=['Negative (0)', 'Positive (1)'], \n",
        "            yticklabels=['Negative (0)', 'Positive (1)'],\n",
        "            annot_kws={\"size\": 16})\n",
        "plt.xlabel('Predicted Label', fontsize=14)\n",
        "plt.ylabel('Actual Label', fontsize=14)\n",
        "plt.title('Confusion Matrix', fontsize=16)\n",
        "plt.show()"
      ]
    },
    {
      "cell_type": "code",
      "execution_count": 5,
      "metadata": {},
      "outputs": [
        {
          "name": "stdout",
          "output_type": "stream",
          "text": [
            "--- Scikit-learn을 이용한 평가 지표 ---\n",
            "정확도 (Accuracy): 0.7000\n",
            "정밀도 (Precision): 0.8000\n",
            "재현율 (Recall): 0.6667\n",
            "F1 점수 (F1 Score): 0.7273\n"
          ]
        }
      ],
      "source": [
        "# Scikit-learn을 이용한 평가 지표 계산\n",
        "accuracy = accuracy_score(y_true, y_pred)\n",
        "precision = precision_score(y_true, y_pred)\n",
        "recall = recall_score(y_true, y_pred)\n",
        "f1 = f1_score(y_true, y_pred)\n",
        "\n",
        "print(\"--- Scikit-learn을 이용한 평가 지표 ---\")\n",
        "print(f\"정확도 (Accuracy): {accuracy:.4f}\")\n",
        "print(f\"정밀도 (Precision): {precision:.4f}\")\n",
        "print(f\"재현율 (Recall): {recall:.4f}\")\n",
        "print(f\"F1 점수 (F1 Score): {f1:.4f}\")"
      ]
    },
    {
      "cell_type": "markdown",
      "metadata": {},
      "source": [
        "### 고려사항 (Considerations)\n",
        "* <b>정밀도-재현율 트레이드오프 (Precision-Recall Trade-off):</b> 일반적으로 하나의 지표를 높이면 다른 지표가 낮아지는 경향이 있음. 예를 들어, 암 진단 모델에서는 실제 암 환자를 놓치지 않는 것이 중요하므로 재현율(FN을 낮추는 것)이 더 중요할 수 있음. 반면, 스팸 메일 필터에서는 일반 메일을 스팸으로 분류하지 않는 것이 중요하므로 정밀도(FP를 낮추는 것)가 더 중요할 수 있음.\n",
        "* **다중 클래스 분류:** 클래스가 3개 이상인 경우 혼동 행렬은 N x N 크기로 확장됨. 각 클래스에 대해 One-vs-Rest 방식으로 정밀도와 재현율을 계산하고, 이들의 평균(Macro, Micro, Weighted)을 내어 모델 성능을 평가함."
      ]
    },
    {
      "cell_type": "markdown",
      "metadata": {},
      "source": [
        "### 최종 요약 (Conclusion)\n",
        "혼동 행렬은 분류 모델의 예측 결과를 네 가지(TP, TN, FP, FN)로 분해하여 성능을 심층적으로 분석하는 강력한 도구임. 단순 정확도를 넘어서 모델이 어떤 종류의 실수를 저지르는지 명확히 보여줌.\n",
        "\n",
        "이를 통해 계산되는 정밀도, 재현율, F1 점수 등의 지표는 문제의 특성과 목적에 맞게 모델을 평가하고 개선 방향을 설정하는 데 핵심적인 역할을 함. 따라서 분류 모델을 다룰 때 혼동 행렬을 이해하고 활용하는 것은 매우 중요함."
      ]
    }
  ],
  "metadata": {
    "kernelspec": {
      "display_name": "venv (3.11.9)",
      "language": "python",
      "name": "python3"
    },
    "language_info": {
      "codemirror_mode": {
        "name": "ipython",
        "version": 3
      },
      "file_extension": ".py",
      "mimetype": "text/x-python",
      "name": "python",
      "nbconvert_exporter": "python",
      "pygments_lexer": "ipython3",
      "version": "3.11.9"
    }
  },
  "nbformat": 4,
  "nbformat_minor": 4
}

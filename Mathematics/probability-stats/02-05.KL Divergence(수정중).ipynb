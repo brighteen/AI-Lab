{
 "cells": [
  {
   "cell_type": "markdown",
   "metadata": {},
   "source": [
    "# 쿨백-라이블러 발산 (Kullback-Leibler Divergence)"
   ]
  },
  {
   "cell_type": "markdown",
   "metadata": {},
   "source": [
    "### 개념 요약\n",
    "쿨백-라이블러 발산(KL Divergence)은 두 확률분포의 차이를 측정하는 방법임. 정보 이론에 기반하여 한 확률분포가 다른 확률분포를 얼마나 잘 근사하는지를 정량적으로 나타냄. \n",
    "\n",
    "이 값은 두 분포가 얼마나 '유사하지 않은지(dissimilar)'에 대한 척도로, 머신러닝에서는 모델이 예측한 확률분포와 실제 데이터의 확률분포 간의 차이를 줄이는 손실 함수(Loss Function) 등으로 널리 사용됨. KL Divergence는 항상 0 이상의 값을 가지며, 두 분포가 완전히 동일할 때 0이 됨."
   ]
  },
  {
   "cell_type": "markdown",
   "metadata": {},
   "source": [
    "### 수학적 배경 📐\n",
    "실제 확률분포를 $P$, 모델이 근사한 확률분포를 $Q$라고 할 때, 이산 확률 변수에 대한 KL Divergence는 다음과 같이 정의됨.\n",
    "\n",
    "$$D_{KL}(P \\| Q) = \\sum_{x \\in \\mathcal{X}} P(x) \\log\\left(\\frac{P(x)}{Q(x)}\\right)$$\n",
    "\n",
    "여기서 $D_{KL}(P \\| Q)$는 $Q$에 대한 $P$의 KL 발산을 의미하며, 두 분포의 순서가 바뀌면 값이 달라지는 **비대칭(asymmetric)** 특징을 가짐. 즉, $D_{KL}(P \\| Q) \\neq D_{KL}(Q \\| P)$ 임."
   ]
  },
  {
   "cell_type": "markdown",
   "metadata": {},
   "source": [
    "### 라이브러리 임포트 (Setup)"
   ]
  },
  {
   "cell_type": "code",
   "execution_count": 1,
   "metadata": {},
   "outputs": [],
   "source": [
    "# !pip install numpy matplotlib\n",
    "import numpy as np\n",
    "import matplotlib.pyplot as plt"
   ]
  },
  {
   "cell_type": "markdown",
   "metadata": {},
   "source": [
    "### 예제 데이터 준비 (Data Preparation)"
   ]
  },
  {
   "cell_type": "code",
   "execution_count": 2,
   "metadata": {},
   "outputs": [
    {
     "name": "stdout",
     "output_type": "stream",
     "text": [
      "P 분포: [0.1 0.2 0.7], 합계: 1.0\n",
      "Q 분포: [0.2 0.2 0.6], 합계: 1.0\n"
     ]
    }
   ],
   "source": [
    "# P: 실제 확률분포 (True Distribution)\n",
    "p = np.array([0.1, 0.2, 0.7])\n",
    "\n",
    "# Q: P를 근사하는 모델의 확률분포 (Approximating Distribution)\n",
    "q = np.array([0.2, 0.2, 0.6])\n",
    "\n",
    "# 데이터 확인\n",
    "print(f\"P 분포: {p}, 합계: {np.sum(p):.1f}\")\n",
    "print(f\"Q 분포: {q}, 합계: {np.sum(q):.1f}\")"
   ]
  },
  {
   "cell_type": "markdown",
   "metadata": {},
   "source": [
    "### 핵심 로직 구현 (Code Implementation)"
   ]
  },
  {
   "cell_type": "code",
   "execution_count": 3,
   "metadata": {},
   "outputs": [],
   "source": [
    "def kl_divergence(p, q):\n",
    "    \"\"\" KL-Divergence를 계산하는 함수 \"\"\"\n",
    "    \n",
    "    # P(x) / Q(x) 계산 (요소별 나눗셈)\n",
    "    # 이 과정은 두 분포의 각 이벤트에서 확률의 비율을 나타냄\n",
    "    ratio = p / q\n",
    "    print(f\"P/Q 비율: {ratio}\")\n",
    "    \n",
    "    # log(P(x) / Q(x)) 계산\n",
    "    # 비율에 로그를 취해 정보량의 차원으로 변환\n",
    "    log_ratio = np.log(ratio)\n",
    "    print(f\"log(P/Q) 값: {log_ratio}\")\n",
    "    \n",
    "    # P(x) * log(P(x) / Q(x)) 계산\n",
    "    # 실제 분포 P의 관점에서 정보량 차이의 기댓값을 구하기 위해 P(x)를 곱함\n",
    "    product = p * log_ratio\n",
    "    print(f\"P * log(P/Q) 값: {product}\")\n",
    "    \n",
    "    # 최종 합산\n",
    "    # 모든 이벤트에 대한 기댓값을 더하여 최종 KL 발산 값을 구함\n",
    "    divergence = np.sum(product)\n",
    "    \n",
    "    return divergence"
   ]
  },
  {
   "cell_type": "markdown",
   "metadata": {},
   "source": [
    "### 결과 확인 및 시각화 📊"
   ]
  },
  {
   "cell_type": "code",
   "execution_count": 4,
   "metadata": {},
   "outputs": [
    {
     "name": "stdout",
     "output_type": "stream",
     "text": [
      "--- D_KL(P || Q) 계산 과정 ---\n",
      "P/Q 비율: [0.5        1.         1.16666667]\n",
      "log(P/Q) 값: [-0.69314718  0.          0.15415068]\n",
      "P * log(P/Q) 값: [-0.06931472  0.          0.10790548]\n",
      "\n",
      "D_KL(P || Q) 최종 결과: 0.0386\n",
      "\n",
      "--- D_KL(Q || P) 계산 과정 ---\n",
      "P/Q 비율: [2.         1.         0.85714286]\n",
      "log(P/Q) 값: [ 0.69314718  0.         -0.15415068]\n",
      "P * log(P/Q) 값: [ 0.13862944  0.         -0.09249041]\n",
      "\n",
      "D_KL(Q || P) 최종 결과: 0.0461\n"
     ]
    },
    {
     "data": {
      "image/png": "[encoded data removed]",
      "text/plain": [
       "<Figure size 640x480 with 1 Axes>"
      ]
     },
     "metadata": {},
     "output_type": "display_data"
    }
   ],
   "source": [
    "print(\"--- D_KL(P || Q) 계산 과정 ---\")\n",
    "kl_pq = kl_divergence(p, q)\n",
    "print(f\"\\nD_KL(P || Q) 최종 결과: {kl_pq:.4f}\\n\")\n",
    "\n",
    "print(\"--- D_KL(Q || P) 계산 과정 ---\")\n",
    "kl_qp = kl_divergence(q, p)\n",
    "print(f\"\\nD_KL(Q || P) 최종 결과: {kl_qp:.4f}\")\n",
    "\n",
    "# 시각화\n",
    "x = np.arange(p.shape[0])\n",
    "width = 0.35\n",
    "\n",
    "fig, ax = plt.subplots()\n",
    "rects1 = ax.bar(x - width/2, p, width, label='P (True)')\n",
    "rects2 = ax.bar(x + width/2, q, width, label='Q (Approx.)')\n",
    "\n",
    "ax.set_ylabel('Probability')\n",
    "ax.set_title('Comparison of Probability Distributions P and Q')\n",
    "ax.set_xticks(x)\n",
    "ax.set_xticklabels([f'Event {i+1}' for i in x])\n",
    "ax.legend()\n",
    "\n",
    "fig.tight_layout()\n",
    "plt.show()"
   ]
  },
  {
   "cell_type": "markdown",
   "metadata": {},
   "source": [
    "### 고려사항 (Considerations)\n",
    "* **비대칭성**: 위 결과에서 볼 수 있듯이 $D_{KL}(P \\| Q)$와 $D_{KL}(Q \\| P)$는 다른 값을 가짐. 이는 KL Divergence가 '거리'의 수학적 정의(예: 대칭성, 삼각 부등식)를 만족하지 않음을 의미함.\n",
    "* **정의역 문제**: 만약 어떤 이벤트 $x$에 대해 $P(x) > 0$ 이지만 $Q(x) = 0$ 이라면, $\\log$ 항이 무한대로 발산하게 됨. 이는 실제로는 일어날 수 있는 이벤트를 모델이 절대 일어나지 않는다고 예측하는 상황으로, 모델에 매우 큰 페널티를 부여하는 것과 같음. 이를 방지하기 위해 보통 예측값에 아주 작은 값(epsilon)을 더하는 스무딩(smoothing) 기법을 사용함."
   ]
  },
  {
   "cell_type": "markdown",
   "metadata": {},
   "source": [
    "### 최종 요약 (Conclusion)\n",
    "KL Divergence는 두 확률분포 간의 정보 엔트로피 차이를 측정하는 비대칭적 척도임. 예제를 통해 실제 분포 $P$와 이를 근사하는 분포 $Q$가 주어졌을 때, KL Divergence 값을 계산하는 과정과 그 비대칭적 특성을 확인함.\n",
    "\n",
    "이 개념은 변분 오토인코더(VAE)와 같은 생성 모델의 학습이나, 강화학습에서 정책(policy)을 업데이트하는 등 머신러닝 분야에서 두 분포의 유사도를 측정하고 최적화하는 데 핵심적인 역할을 수행함."
   ]
  }
 ],
 "metadata": {
  "kernelspec": {
   "display_name": "venv (3.11.9)",
   "language": "python",
   "name": "python3"
  },
  "language_info": {
   "codemirror_mode": {
    "name": "ipython",
    "version": 3
   },
   "file_extension": ".py",
   "mimetype": "text/x-python",
   "name": "python",
   "nbconvert_exporter": "python",
   "pygments_lexer": "ipython3",
   "version": "3.11.9"
  }
 },
 "nbformat": 4,
 "nbformat_minor": 2
}

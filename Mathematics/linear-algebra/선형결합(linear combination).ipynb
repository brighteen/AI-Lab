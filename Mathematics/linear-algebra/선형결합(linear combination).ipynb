{
 "cells": [
  {
   "cell_type": "markdown",
   "metadata": {},
   "source": [
    "# 선형대수학에서의 선형 결합(Linear Combination)\n",
    "\n",
    "선형 결합은 여러 개의 벡터에 각각 스칼라(숫자)를 곱한 뒤, 그 결과들을 모두 더하는 연산입니다. 이 간단한 연산을 통해 기존 벡터들을 조합하여 새로운 벡터를 만들어낼 수 있으며, 벡터 공간을 이해하는 가장 기본적인 방법입니다."
   ]
  },
  {
   "cell_type": "code",
   "execution_count": null,
   "metadata": {},
   "outputs": [],
   "source": [
    "import numpy as np\n",
    "\n",
    "# --- 기본 선형 결합 예시 ---\n",
    "\n",
    "# 2차원 벡터 2개 정의\n",
    "vector1 = np.array([1, 2])\n",
    "vector2 = np.array([3, -1])\n",
    "\n",
    "# 각 벡터에 곱해줄 스칼라(가중치) 정의\n",
    "scalar1 = 2\n",
    "scalar2 = 3\n",
    "\n",
    "# 선형 결합 계산\n",
    "# (2 * vector1) + (3 * vector2)\n",
    "linear_combination_result = (scalar1 * vector1) + (scalar2 * vector2)\n",
    "\n",
    "print(f\"벡터1: {vector1}\")\n",
    "print(f\"벡터2: {vector2}\")\n",
    "print(f\"스칼라1: {scalar1}, 스칼라2: {scalar2}\")\n",
    "print(f\"--- 계산 과정 ---\")\n",
    "print(f\"{scalar1} * {vector1} = {scalar1 * vector1}\")\n",
    "print(f\"{scalar2} * {vector2} = {scalar2 * vector2}\")\n",
    "print(f\"선형 결합 결과: {scalar1 * vector1} + {scalar2 * vector2} = {linear_combination_result}\")"
   ]
  },
  {
   "cell_type": "markdown",
   "metadata": {},
   "source": [
    "---"
   ]
  },
  {
   "cell_type": "code",
   "execution_count": null,
   "metadata": {},
   "outputs": [],
   "source": [
    "# --- 다른 스칼라 값을 사용한 예시 ---\n",
    "# 스칼라 값이 달라지면 선형 결합의 결과도 달라짐\n",
    "\n",
    "# 음수 스칼라를 사용한 경우\n",
    "scalar3 = -1.5\n",
    "scalar4 = 0.5\n",
    "\n",
    "# 선형 결합 계산\n",
    "result2 = (scalar3 * vector1) + (scalar4 * vector2)\n",
    "\n",
    "print(f\"\\n스칼라 값이 음수일 경우 예시\")\n",
    "print(f\"스칼라3: {scalar3}, 스칼라4: {scalar4}\")\n",
    "print(f\"선형 결합 결과: {result2}\")\n",
    "\n",
    "# 흔히 발생하는 실수: 벡터의 차원이 다르면 덧셈을 할 수 없어 선형 결합이 정의되지 않음.\n",
    "# 예를 들어, [1, 2]와 [1, 2, 3]은 서로 더할 수 없음."
   ]
  },
  {
   "cell_type": "markdown",
   "metadata": {},
   "source": [
    "---"
   ]
  },
  {
   "cell_type": "code",
   "execution_count": null,
   "metadata": {},
   "outputs": [],
   "source": [
    "# --- 3차원 벡터와 3개 이상의 벡터로 확장 ---\n",
    "# 선형 결합은 벡터의 차원이나 개수에 제한이 없음\n",
    "\n",
    "# 3차원 벡터 3개 정의\n",
    "v1_3d = np.array([1, 0, 0])\n",
    "v2_3d = np.array([0, 1, 0])\n",
    "v3_3d = np.array([0, 0, 1])\n",
    "\n",
    "# 스칼라 3개 정의\n",
    "c1 = 5\n",
    "c2 = -2\n",
    "c3 = 3\n",
    "\n",
    "# 3개 벡터의 선형 결합 계산\n",
    "result3d = (c1 * v1_3d) + (c2 * v2_3d) + (c3 * v3_3d)\n",
    "\n",
    "print(f\"\\n3차원 벡터들의 선형 결합 예시\")\n",
    "print(f\"결과: {c1}*{v1_3d} + {c2}*{v2_3d} + {c3}*{v3_3d} = {result3d}\")\n",
    "print(\"-> 이 경우, 3차원 공간의 모든 벡터는 이 세 벡터의 선형 결합으로 표현 가능함\")"
   ]
  },
  {
   "cell_type": "markdown",
   "metadata": {},
   "source": [
    "---"
   ]
  },
  {
   "cell_type": "code",
   "execution_count": null,
   "metadata": {},
   "outputs": [],
   "source": [
    "# 최종 요약\n",
    "print(\"\\n요약: 선형 결합은 주어진 벡터들에 각각 숫자를 곱해서 더하는 기본적인 벡터 연산임.\")"
   ]
  }
 ],
 "metadata": {
  "kernelspec": {
   "display_name": "Python 3",
   "language": "python",
   "name": "python3"
  },
  "language_info": {
   "codemirror_mode": {
    "name": "ipython",
    "version": 3
   },
   "file_extension": ".py",
   "mimetype": "text/x-python",
   "name": "python",
   "nbconvert_exporter": "python",
   "pygments_lexer": "ipython3",
   "version": "3.9.7"
  }
 },
 "nbformat": 4,
 "nbformat_minor": 4
}
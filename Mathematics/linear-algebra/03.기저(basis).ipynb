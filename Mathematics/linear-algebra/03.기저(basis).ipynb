{
 "cells": [
  {
   "cell_type": "markdown",
   "metadata": {},
   "source": [
    "## 벡터 공간의 좌표계: 기저(Basis)"
   ]
  },
  {
   "cell_type": "markdown",
   "metadata": {},
   "source": [
    "벡터 공간의 **기저**는 공간 전체를 **생성**하는 **선형 독립**인 벡터의 집합이다."
   ]
  },
  {
   "cell_type": "markdown",
   "metadata": {},
   "source": [
    "기저(Basis)는 특정 벡터 공간을 생성(Span)하는, 선형적으로 독립인(Linearly Independent) 벡터들의 집합이다. 쉽게 말해, 기저는 그 공간의 모든 벡터를 유일한 방법으로 표현할 수 있는 '최소한의 재료 벡터'들이며, 공간을 설명하는 가장 효율적인 '좌표계' 역할을 한다."
   ]
  },
  {
   "cell_type": "markdown",
   "metadata": {},
   "source": [
    "### 기저의 두 가지 조건\n",
    "\n",
    "어떤 벡터들의 집합이 기저가 되려면 다음 두 가지 조건을 반드시 만족해야 한다.\n",
    "\n",
    "1.  **선형 독립(Linear Independence)**: 기저를 구성하는 어떤 벡터도 다른 벡터들의 선형 결합으로 표현될 수 없다. 즉, 중복되거나 불필요한 벡터가 없어야 한다.\n",
    "2.  **생성(Span)**: 기저 벡터들의 모든 가능한 선형 결합이 공간 전체를 채워야 한다. 즉, 이 벡터들만으로 공간 내의 어떤 벡터든 만들어낼 수 있어야 한다."
   ]
  },
  {
   "cell_type": "markdown",
   "metadata": {},
   "source": [
    "### 파이썬으로 기저 개념 확인하기\n",
    "\n",
    "가장 대표적인 2차원 평면의 **표준 기저(Standard Basis)**를 통해 기저의 역할을 확인해본다."
   ]
  },
  {
   "cell_type": "markdown",
   "metadata": {},
   "source": [
    "#### 예시 1: 2차원 표준 기저\n",
    "2차원 공간의 표준 기저는 $\\hat{i} = [1, 0]$ 와 $\\hat{j} = [0, 1]$ 이다. 이 두 벡터는 서로 수직이며 크기가 1이다.\n",
    "- **선형 독립**: $\\hat{i}$ 와 $\\hat{j}$ 는 서로를 만들 수 없다. (예: `c * [1, 0]` 은 절대 `[0, 1]`이 될 수 없음)\n",
    "- **생성**: 이 두 벡터의 선형 결합 `a * [1, 0] + b * [0, 1] = [a, b]` 로 2차원 평면의 모든 벡터 `[a, b]`를 만들 수 있다."
   ]
  },
  {
   "cell_type": "code",
   "execution_count": 8,
   "metadata": {},
   "outputs": [
    {
     "name": "stdout",
     "output_type": "stream",
     "text": [
      "표준 기저 벡터 i_hat: [1 0]\n",
      "표준 기저 벡터 j_hat: [0 1]\n",
      "목표 벡터 v: [3 4]\n",
      "------------------------------\n",
      "기저를 이용한 v의 표현: 3*i_hat + 4*j_hat = [3 4]\n",
      "재구성된 벡터는 원래 벡터와 동일한가? True\n"
     ]
    }
   ],
   "source": [
    "import numpy as np\n",
    "\n",
    "# 2차원 표준 기저 벡터\n",
    "i_hat = np.array([1, 0])\n",
    "j_hat = np.array([0, 1])\n",
    "\n",
    "# 표현하고 싶은 임의의 벡터 v\n",
    "v = np.array([3, 4])\n",
    "\n",
    "# 벡터 v를 표준 기저의 선형 결합으로 표현하기 위한 계수(좌표)\n",
    "# 이 경우, 계수는 벡터의 성분과 동일하다.\n",
    "c1 = 3\n",
    "c2 = 4\n",
    "\n",
    "v_reconstructed = c1 * i_hat + c2 * j_hat\n",
    "\n",
    "print(f\"표준 기저 벡터 i_hat: {i_hat}\")\n",
    "print(f\"표준 기저 벡터 j_hat: {j_hat}\")\n",
    "print(f\"목표 벡터 v: {v}\")\n",
    "print(\"-\" * 30)\n",
    "print(f\"기저를 이용한 v의 표현: {c1}*i_hat + {c2}*j_hat = {v_reconstructed}\")\n",
    "print(f\"재구성된 벡터는 원래 벡터와 동일한가? {np.array_equal(v, v_reconstructed)}\")"
   ]
  },
  {
   "cell_type": "markdown",
   "metadata": {},
   "source": [
    "여기서 스칼라 `[3, 4]`는 표준 기저 좌표계에서 벡터 `v`의 **좌표(Coordinates)**가 된다."
   ]
  },
  {
   "cell_type": "markdown",
   "metadata": {},
   "source": [
    "#### 예시 2: 표준 기저가 아닌 다른 기저\n",
    "기저는 유일하지 않다. 2차원 공간을 생성하는, 선형 독립인 어떤 두 벡터도 기저가 될 수 있다."
   ]
  },
  {
   "cell_type": "code",
   "execution_count": 9,
   "metadata": {},
   "outputs": [
    {
     "name": "stdout",
     "output_type": "stream",
     "text": [
      "새로운 기저 벡터 b1: [2 1]\n",
      "새로운 기저 벡터 b2: [1 1]\n",
      "목표 벡터 v: [3 4]\n",
      "------------------------------\n",
      "새로운 기저를 이용한 v의 표현: -1*b1 + 5*b2 = [3 4]\n",
      "재구성된 벡터는 원래 벡터와 동일한가? True\n"
     ]
    }
   ],
   "source": [
    "# 새로운 기저 벡터 b1, b2\n",
    "b1 = np.array([2, 1])\n",
    "b2 = np.array([1, 1])\n",
    "\n",
    "# 동일한 목표 벡터 v\n",
    "v = np.array([3, 4])\n",
    "\n",
    "# 새로운 기저 {b1, b2}로 벡터 v를 표현하기 위한 계수 찾기\n",
    "# c1*b1 + c2*b2 = v\n",
    "# c1*[2, 1] + c2*[1, 1] = [3, 4]\n",
    "# -> 2*c1 + 1*c2 = 3\n",
    "# -> 1*c1 + 1*c2 = 4\n",
    "# 위 연립방정식을 풀면 c1 = -1, c2 = 5 가 나온다.\n",
    "c1_new = -1\n",
    "c2_new = 5\n",
    "\n",
    "v_reconstructed_new = c1_new * b1 + c2_new * b2\n",
    "\n",
    "print(f\"새로운 기저 벡터 b1: {b1}\")\n",
    "print(f\"새로운 기저 벡터 b2: {b2}\")\n",
    "print(f\"목표 벡터 v: {v}\")\n",
    "print(\"-\" * 30)\n",
    "print(f\"새로운 기저를 이용한 v의 표현: {c1_new}*b1 + {c2_new}*b2 = {v_reconstructed_new}\")\n",
    "print(f\"재구성된 벡터는 원래 벡터와 동일한가? {np.array_equal(v, v_reconstructed_new)}\")"
   ]
  },
  {
   "cell_type": "markdown",
   "metadata": {},
   "source": [
    "벡터 `v`는 `[3, 4]`로 동일하지만, 어떤 기저를 사용하느냐에 따라 좌표가 달라진다.\n",
    "- 표준 기저 `{i_hat, j_hat}` 에서 `v`의 좌표: `(3, 4)`\n",
    "- 새로운 기저 `{b1, b2}` 에서 `v`의 좌표: `(-1, 5)`"
   ]
  },
  {
   "cell_type": "markdown",
   "metadata": {},
   "source": [
    "#### 요약"
   ]
  },
  {
   "cell_type": "markdown",
   "metadata": {},
   "source": [
    "기저는 벡터 공간을 구성하는 최소한의 선형 독립 벡터 집합으로, 모든 벡터를 표현하는 기준 좌표계 역할을 한다."
   ]
  }
 ],
 "metadata": {
  "kernelspec": {
   "display_name": "Python 3",
   "language": "python",
   "name": "python3"
  },
  "language_info": {
   "codemirror_mode": {
    "name": "ipython",
    "version": 3
   },
   "file_extension": ".py",
   "mimetype": "text/x-python",
   "name": "python",
   "nbconvert_exporter": "python",
   "pygments_lexer": "ipython3",
   "version": "3.9.7"
  }
 },
 "nbformat": 4,
 "nbformat_minor": 4
}

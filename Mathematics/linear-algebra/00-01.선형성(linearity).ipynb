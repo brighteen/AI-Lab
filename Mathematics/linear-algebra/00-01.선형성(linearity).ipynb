{
  "cells": [
    {
      "cell_type": "markdown",
      "id": "2459ce69",
      "metadata": {},
      "source": [
        "# 선형성 (Linearity)"
      ]
    },
    {
      "cell_type": "markdown",
      "id": "f88f30e7",
      "metadata": {},
      "source": [
        "선형대수학에서 **선형성(Linearity)**은 함수(또는 변환)가 가지는 매우 중요한 성질로, '중첩의 원리(Superposition Principle)'를 만족하는 특성을 의미함. 이 원리는 **가산성(Additivity)** 과 **동차성(Homogeneity)** 이라는 두 가지 개별 조건으로 나뉨.\n",
        "\n",
        "어떤 변환이 선형이라는 것은 예측 가능하고 일관된 방식으로 작동함을 의미하며, 복잡한 입력을 개별적으로 분석한 후 결과를 다시 합치는 것을 가능하게 하므로 수많은 공학 및 과학 분야의 근간이 됨."
      ]
    },
    {
      "cell_type": "markdown",
      "id": "186878a2",
      "metadata": {},
      "source": [
        "### 📐 수학적 배경 (Mathematical Background)\n",
        "\n",
        "함수 $f$가 벡터 공간에서 정의될 때, 다음 두 조건을 만족하면 선형(linear)이라고 함:\n",
        "\n",
        "1.  **가산성 (Additivity)**: 모든 벡터 $x, y$에 대해\n",
        "    $$f(x + y) = f(x) + f(y)$$\n",
        "\n",
        "2.  **동차성 (Homogeneity)**: 모든 벡터 $x$와 스칼라 $c$에 대해\n",
        "    $$f(cx) = cf(x)$$\n",
        "\n",
        "이 두 가지 조건은 변환을 적용한 후 더하거나 스케일링하는 것과, 먼저 더하거나 스케일링한 후 변환을 적용하는 것의 결과가 같다는 것을 의미함. 기하학적으로, 1차원에서의 선형 함수는 원점을 지나는 직선으로 표현됨."
      ]
    },
    {
      "cell_type": "code",
      "execution_count": 1,
      "id": "592773c6",
      "metadata": {},
      "outputs": [],
      "source": [
        "# 라이브러리 임포트 (Setup)\n",
        "# !pip install numpy matplotlib\n",
        "import numpy as np\n",
        "import matplotlib.pyplot as plt\n",
        "\n",
        "# 그래프 스타일 설정\n",
        "plt.style.use('seaborn-v0_8-whitegrid')"
      ]
    },
    {
      "cell_type": "markdown",
      "id": "64228521",
      "metadata": {},
      "source": [
        "### 예제 데이터 준비 (Data Preparation)\n",
        "선형성의 두 가지 속성을 확인할 간단한 벡터와 스칼라를 정의함."
      ]
    },
    {
      "cell_type": "code",
      "execution_count": 2,
      "id": "ba714093",
      "metadata": {},
      "outputs": [
        {
          "name": "stdout",
          "output_type": "stream",
          "text": [
            "벡터 x: [2]\n",
            "벡터 y: [3]\n",
            "스칼라 c: 3\n"
          ]
        }
      ],
      "source": [
        "# 테스트를 위한 벡터와 스칼라 정의\n",
        "x = np.array([2])\n",
        "y = np.array([3])\n",
        "c = 3 # 스칼라\n",
        "\n",
        "print(f\"벡터 x: {x}\")\n",
        "print(f\"벡터 y: {y}\")\n",
        "print(f\"스칼라 c: {c}\")"
      ]
    },
    {
      "cell_type": "markdown",
      "id": "1adca091",
      "metadata": {},
      "source": [
        "### 핵심 로직 구현 (Code Implementation)\n",
        "선형성의 정의를 만족하는 선형 함수 `linear_function`과 만족하지 못하는 비선형 함수 `nonlinear_function`을 정의하고, 각 함수에 대해 가산성과 동차성 충족 여부를 확인함."
      ]
    },
    {
      "cell_type": "code",
      "execution_count": 3,
      "id": "694796c0",
      "metadata": {},
      "outputs": [],
      "source": [
        "# 선형 함수 정의: f(x) = 2x (원점을 지나는 직선)\n",
        "def linear_function(vec):\n",
        "    return 2 * vec\n",
        "\n",
        "# 비선형 함수 정의: g(x) = 2x + 1 (원점을 지나지 않는 직선, 아핀 변환)\n",
        "def affine_function(vec):\n",
        "    return 2 * vec + 1"
      ]
    },
    {
      "cell_type": "markdown",
      "id": "22915569",
      "metadata": {},
      "source": [
        "#### 1. 가산성(Additivity) 테스트: $f(x+y) = f(x) + f(y)$"
      ]
    },
    {
      "cell_type": "code",
      "execution_count": 4,
      "id": "015394c1",
      "metadata": {},
      "outputs": [
        {
          "name": "stdout",
          "output_type": "stream",
          "text": [
            "--- 선형 함수 f(x) = 2x의 가산성 테스트 ---\n",
            "f(x+y) 계산: f(2+3) = f(5) = 10\n",
            "f(x)+f(y) 계산: f(2) + f(3) = 4 + 6 = 10\n",
            "결과 동일 여부: True\n",
            "\n",
            "--- 비선형 함수 g(x) = 2x + 1의 가산성 테스트 ---\n",
            "g(x+y) 계산: g(2+3) = g(5) = 11\n",
            "g(x)+g(y) 계산: g(2) + g(3) = 5 + 7 = 12\n",
            "결과 동일 여부: False\n"
          ]
        }
      ],
      "source": [
        "print(\"--- 선형 함수 f(x) = 2x의 가산성 테스트 ---\")\n",
        "f_x_plus_y = linear_function(x + y)\n",
        "f_x_plus_f_y = linear_function(x) + linear_function(y)\n",
        "\n",
        "print(f\"f(x+y) 계산: f({x[0]}+{y[0]}) = f({(x+y)[0]}) = {f_x_plus_y[0]}\")\n",
        "print(f\"f(x)+f(y) 계산: f({x[0]}) + f({y[0]}) = {linear_function(x)[0]} + {linear_function(y)[0]} = {f_x_plus_f_y[0]}\")\n",
        "print(f\"결과 동일 여부: {np.array_equal(f_x_plus_y, f_x_plus_f_y)}\\n\")\n",
        "\n",
        "print(\"--- 비선형 함수 g(x) = 2x + 1의 가산성 테스트 ---\")\n",
        "g_x_plus_y = affine_function(x + y)\n",
        "g_x_plus_g_y = affine_function(x) + affine_function(y)\n",
        "\n",
        "print(f\"g(x+y) 계산: g({x[0]}+{y[0]}) = g({(x+y)[0]}) = {g_x_plus_y[0]}\")\n",
        "print(f\"g(x)+g(y) 계산: g({x[0]}) + g({y[0]}) = {affine_function(x)[0]} + {affine_function(y)[0]} = {g_x_plus_g_y[0]}\")\n",
        "print(f\"결과 동일 여부: {np.array_equal(g_x_plus_y, g_x_plus_g_y)}\")"
      ]
    },
    {
      "cell_type": "markdown",
      "id": "1fe96ab0",
      "metadata": {},
      "source": [
        "#### 2. 동차성(Homogeneity) 테스트: $f(cx) = cf(x)$"
      ]
    },
    {
      "cell_type": "code",
      "execution_count": 5,
      "id": "8e33637b",
      "metadata": {},
      "outputs": [
        {
          "name": "stdout",
          "output_type": "stream",
          "text": [
            "--- 선형 함수 f(x) = 2x의 동차성 테스트 ---\n",
            "f(c*x) 계산: f(3*2) = f(6) = 12\n",
            "c*f(x) 계산: 3*f(2) = 3*4 = 12\n",
            "결과 동일 여부: True\n",
            "\n",
            "--- 비선형 함수 g(x) = 2x + 1의 동차성 테스트 ---\n",
            "g(c*x) 계산: g(3*2) = g(6) = 13\n",
            "c*g(x) 계산: 3*g(2) = 3*5 = 15\n",
            "결과 동일 여부: False\n"
          ]
        }
      ],
      "source": [
        "print(\"--- 선형 함수 f(x) = 2x의 동차성 테스트 ---\")\n",
        "f_cx = linear_function(c * x)\n",
        "c_fx = c * linear_function(x)\n",
        "\n",
        "print(f\"f(c*x) 계산: f({c}*{x[0]}) = f({(c*x)[0]}) = {f_cx[0]}\")\n",
        "print(f\"c*f(x) 계산: {c}*f({x[0]}) = {c}*{linear_function(x)[0]} = {c_fx[0]}\")\n",
        "print(f\"결과 동일 여부: {np.array_equal(f_cx, c_fx)}\\n\")\n",
        "\n",
        "print(\"--- 비선형 함수 g(x) = 2x + 1의 동차성 테스트 ---\")\n",
        "g_cx = affine_function(c * x)\n",
        "c_gx = c * affine_function(x)\n",
        "\n",
        "print(f\"g(c*x) 계산: g({c}*{x[0]}) = g({(c*x)[0]}) = {g_cx[0]}\")\n",
        "print(f\"c*g(x) 계산: {c}*g({x[0]}) = {c}*{affine_function(x)[0]} = {c_gx[0]}\")\n",
        "print(f\"결과 동일 여부: {np.array_equal(g_cx, c_gx)}\")"
      ]
    },
    {
      "cell_type": "markdown",
      "id": "1c552bff",
      "metadata": {},
      "source": [
        "### 📊 결과 확인 및 시각화 (Results & Visualization)\n",
        "테스트 결과를 시각화하여 선형 함수와 비선형(아핀) 함수의 차이를 직관적으로 비교함. 선형 함수는 반드시 원점(0,0)을 통과하는 직선 형태를 가짐."
      ]
    },
    {
      "cell_type": "code",
      "execution_count": 6,
      "id": "ff4eb7cc",
      "metadata": {},
      "outputs": [
        {
          "data": {
            "image/png": "[encoded data removed]",
            "text/plain": [
              "<Figure size 1000x600 with 1 Axes>"
            ]
          },
          "metadata": {},
          "output_type": "display_data"
        }
      ],
      "source": [
        "x_range = np.linspace(-5, 5, 100)\n",
        "y_linear = linear_function(x_range)\n",
        "y_affine = affine_function(x_range)\n",
        "\n",
        "plt.figure(figsize=(10, 6))\n",
        "\n",
        "plt.plot(x_range, y_linear, label='f(x) = 2x (Linear)', color='blue')\n",
        "plt.plot(x_range, y_affine, label='g(x) = 2x + 1 (Affine, Non-linear)', color='red', linestyle='--')\n",
        "\n",
        "# 원점 표시\n",
        "plt.plot(0, 0, 'ko', markersize=8, label='Origin (0,0)') \n",
        "\n",
        "plt.title('Linear vs. Affine(Non-linear) Function')\n",
        "plt.xlabel('Input (x)')\n",
        "plt.ylabel('Output (f(x))')\n",
        "plt.axhline(0, color='grey', lw=0.5)\n",
        "plt.axvline(0, color='grey', lw=0.5)\n",
        "plt.legend()\n",
        "plt.grid(True)\n",
        "plt.show()"
      ]
    },
    {
      "cell_type": "markdown",
      "id": "e572556f",
      "metadata": {},
      "source": [
        "### 고려사항 (Considerations)\n",
        "\n",
        "* **아핀 변환(Affine Transformation)과의 구분:** $f(x) = ax + b$ 형태의 함수는 $b=0$일 때만 선형임. $b \\neq 0$인 경우, 이 함수는 선형이 아닌 '아핀' 변환이라고 불림. 그래프가 원점을 지나지 않으므로 동차성($f(cx) \\neq cf(x)$)과 가산성($f(x+y) \\neq f(x)+f(y)$)을 만족하지 않음.\n",
        "* **중요성:** 선형성은 시스템을 분해하고 재조합하여 분석할 수 있게 해줌. 예를 들어, 복잡한 신호(입력)를 간단한 신호들의 합으로 분해하고, 각 간단한 신호에 대한 시스템의 반응(출력)을 계산한 뒤, 이들을 다시 합쳐 전체 반응을 예측할 수 있음."
      ]
    },
    {
      "cell_type": "markdown",
      "id": "9cc5a936",
      "metadata": {},
      "source": [
        "### 최종 요약 (Conclusion)\n",
        "\n",
        "선형성은 함수가 가산성과 동차성을 모두 만족하는 성질을 의미함. 코드 예제를 통해 선형 함수 $f(x)=2x$는 두 조건을 모두 만족하지만, 원점을 지나지 않는 $g(x)=2x+1$은 그렇지 않음을 확인하였음.\n",
        "\n",
        "시각화 결과는 선형 변환이 기하학적으로 원점을 지나는 직선(또는 평면, 초평면)으로 표현되는 반면, 아핀 변환은 그렇지 않다는 점을 명확히 보여줌. 이처럼 선형성은 복잡한 문제를 단순한 요소들의 합으로 다룰 수 있게 하는 강력하고 기본적인 도구임."
      ]
    }
  ],
  "metadata": {
    "kernelspec": {
      "display_name": "venv (3.11.9)",
      "language": "python",
      "name": "python3"
    },
    "language_info": {
      "codemirror_mode": {
        "name": "ipython",
        "version": 3
      },
      "file_extension": ".py",
      "mimetype": "text/x-python",
      "name": "python",
      "nbconvert_exporter": "python",
      "pygments_lexer": "ipython3",
      "version": "3.11.9"
    }
  },
  "nbformat": 4,
  "nbformat_minor": 5
}

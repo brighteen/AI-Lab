{
 "cells": [
  {
   "cell_type": "markdown",
   "metadata": {},
   "source": [
    "# 선형대수학에서의 기저(Basis)\n",
    "\n",
    "기저는 특정 벡터 공간을 구성하는 기본 단위 블록과 같습니다. 그 공간 안의 모든 벡터는 이 기저 벡터들의 유일한 조합으로 표현될 수 있으며, 기저 벡터들은 서로 독립적이어야 합니다. 즉, 기저는 해당 공간을 '생성(span)'하는 '선형 독립(linearly independent)'인 벡터들의 집합입니다."
   ]
  },
  {
   "cell_type": "code",
   "execution_count": 4,
   "metadata": {},
   "outputs": [
    {
     "name": "stdout",
     "output_type": "stream",
     "text": [
      "벡터 [[1,0], [0,1]]의 선형 독립성: True\n",
      "벡터 [[1,2], [2,4]]의 선형 독립성: False\n"
     ]
    }
   ],
   "source": [
    "import numpy as np\n",
    "\n",
    "# --- 개념 1: 선형 독립 (Linear Independence) ---\n",
    "# 벡터들이 서로를 조합하여 다른 벡터를 만들 수 없는 상태를 의미함\n",
    "# 행렬식이 0이 아니면 선형 독립임 (벡터 개수와 차원이 같을 때)\n",
    "\n",
    "# 예시 벡터 세트 정의\n",
    "vectors_independent = np.array([\n",
    "    [1, 0],  # 벡터 v1\n",
    "    [0, 1]   # 벡터 v2\n",
    "])\n",
    "\n",
    "vectors_dependent = np.array([\n",
    "    [1, 2],  # 벡터 v3\n",
    "    [2, 4]   # 벡터 v4 = 2 * v3\n",
    "])\n",
    "\n",
    "# 선형 독립성 확인 함수 정의\n",
    "def check_linear_independence(vectors):\n",
    "    # 벡터들을 행렬로 변환\n",
    "    matrix = np.array(vectors).T # 벡터를 열로 배치하기 위해 전치\n",
    "    \n",
    "    # 행렬의 행과 열 개수 확인\n",
    "    rows, cols = matrix.shape\n",
    "    if rows != cols:\n",
    "        # 행과 열의 수가 다르면 행렬식이 정의되지 않으므로 rank로 확인\n",
    "        # rank는 행렬이 나타내는 벡터 공간의 차원을 의미함\n",
    "        rank = np.linalg.matrix_rank(matrix)\n",
    "        # rank와 벡터(열)의 수가 같으면 선형 독립\n",
    "        return rank == cols\n",
    "    \n",
    "    # 행렬식 계산\n",
    "    determinant = np.linalg.det(matrix)\n",
    "    \n",
    "    # 행렬식이 0에 매우 가까운지 확인 (부동소수점 오차 감안)\n",
    "    return not np.isclose(determinant, 0)\n",
    "\n",
    "# 선형 독립성 검사 실행\n",
    "is_independent1 = check_linear_independence(vectors_independent)\n",
    "is_independent2 = check_linear_independence(vectors_dependent)\n",
    "\n",
    "print(f\"벡터 [[1,0], [0,1]]의 선형 독립성: {is_independent1}\")\n",
    "print(f\"벡터 [[1,2], [2,4]]의 선형 독립성: {is_independent2}\")"
   ]
  },
  {
   "cell_type": "markdown",
   "metadata": {},
   "source": [
    "---"
   ]
  },
  {
   "cell_type": "code",
   "execution_count": null,
   "metadata": {},
   "outputs": [],
   "source": [
    "# --- 개념 2: 생성 (Span) ---\n",
    "# 주어진 벡터들의 조합(선형 결합)으로 특정 벡터 공간의 모든 벡터를 만들 수 있음을 의미함\n",
    "\n",
    "# 기저 후보 벡터들 정의 (R^2 공간의 표준 기저)\n",
    "basis_vectors = np.array([\n",
    "    [1, 0],\n",
    "    [0, 1]\n",
    "])\n",
    "\n",
    "# 표현하려는 목표 벡터 정의\n",
    "target_vector = np.array([3, 5])\n",
    "\n",
    "# 기저 벡터들로 목표 벡터를 표현할 수 있는지 확인\n",
    "# Ax = b 형태의 선형 방정식을 푸는 것과 동일함\n",
    "# 여기서 A는 기저 벡터 행렬, x는 계수, b는 목표 벡터임\n",
    "try:\n",
    "    # np.linalg.solve 함수로 선형 방정식의 해(계수)를 구함\n",
    "    coefficients = np.linalg.solve(basis_vectors.T, target_vector)\n",
    "    print(f\"목표 벡터 {target_vector}는 기저 벡터들로 표현 가능함\")\n",
    "    print(f\"계수(coefficients): {coefficients}\")\n",
    "    print(f\"{coefficients[0]} * {basis_vectors[0]} + {coefficients[1]} * {basis_vectors[1]} = {target_vector}\")\n",
    "except np.linalg.LinAlgError:\n",
    "    # 해가 없거나 무수히 많으면(선형 종속) 예외 발생\n",
    "    print(f\"목표 벡터 {target_vector}는 주어진 벡터들로 표현 불가능함\")"
   ]
  },
  {
   "cell_type": "markdown",
   "metadata": {},
   "source": [
    "---"
   ]
  },
  {
   "cell_type": "code",
   "execution_count": null,
   "metadata": {},
   "outputs": [],
   "source": [
    "# --- 종합: 기저(Basis)인지 확인하기 ---\n",
    "# 기저가 되려면 두 가지 조건을 모두 만족해야 함\n",
    "# 1. 벡터들이 서로 선형 독립이어야 함\n",
    "# 2. 벡터들이 해당 공간을 완전히 생성(span)해야 함\n",
    "#   -> n차원 공간에 대해 n개의 선형 독립인 벡터가 있으면, 그 벡터들은 항상 해당 공간을 생성함\n",
    "\n",
    "# 기저 확인 함수 정의\n",
    "def is_basis(vectors, dimension):\n",
    "    # 조건 1: 벡터의 개수가 공간의 차원과 같은지 확인\n",
    "    if len(vectors) != dimension:\n",
    "        return False, \"벡터의 개수가 공간의 차원과 다름\"\n",
    "    \n",
    "    # 조건 2: 벡터들이 선형 독립인지 확인\n",
    "    if not check_linear_independence(vectors):\n",
    "        return False, \"벡터들이 선형 종속 관계임\"\n",
    "    \n",
    "    return True, \"주어진 벡터들은 기저가 맞음\"\n",
    "\n",
    "# R^2 공간(2차원)의 기저 후보들 테스트\n",
    "basis_candidate_1 = np.array([[1, 0], [0, 1]]) # 표준 기저\n",
    "basis_candidate_2 = np.array([[1, 1], [1, -1]]) # 또 다른 기저\n",
    "basis_candidate_3 = np.array([[1, 2], [2, 4]]) # 선형 종속이라 기저가 아님\n",
    "basis_candidate_4 = np.array([[1, 0]]) # 벡터 개수가 부족하여 기저가 아님\n",
    "\n",
    "dimension = 2\n",
    "result1, reason1 = is_basis(basis_candidate_1, dimension)\n",
    "result2, reason2 = is_basis(basis_candidate_2, dimension)\n",
    "result3, reason3 = is_basis(basis_candidate_3, dimension)\n",
    "result4, reason4 = is_basis(basis_candidate_4, dimension)\n",
    "\n",
    "print(f\"후보 1 {basis_candidate_1.tolist()}: {result1}, 이유: {reason1}\")\n",
    "print(f\"후보 2 {basis_candidate_2.tolist()}: {result2}, 이유: {reason2}\")\n",
    "print(f\"후보 3 {basis_candidate_3.tolist()}: {result3}, 이유: {reason3}\")\n",
    "print(f\"후보 4 {basis_candidate_4.tolist()}: {result4}, 이유: {reason4}\")\n",
    "\n",
    "# 흔히 발생하는 실수: 기저는 유일하지 않음. 후보 1과 2 모두 R^2의 기저가 될 수 있음."
   ]
  },
  {
   "cell_type": "markdown",
   "metadata": {},
   "source": [
    "---"
   ]
  },
  {
   "cell_type": "code",
   "execution_count": null,
   "metadata": {},
   "outputs": [],
   "source": [
    "# 최종 요약\n",
    "print(\"\\n요약: 기저는 벡터 공간을 표현하는 데 필요한 최소 개수의 선형 독립 벡터 집합임.\")"
   ]
  }
 ],
 "metadata": {
  "kernelspec": {
   "display_name": "venv (3.11.9)",
   "language": "python",
   "name": "python3"
  },
  "language_info": {
   "codemirror_mode": {
    "name": "ipython",
    "version": 3
   },
   "file_extension": ".py",
   "mimetype": "text/x-python",
   "name": "python",
   "nbconvert_exporter": "python",
   "pygments_lexer": "ipython3",
   "version": "3.11.9"
  }
 },
 "nbformat": 4,
 "nbformat_minor": 4
}

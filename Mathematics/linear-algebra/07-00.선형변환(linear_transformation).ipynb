{
 "cells": [
  {
   "cell_type": "markdown",
   "metadata": {},
   "source": [
    "## 선형대수학의 동적 표현: 선형 변환(Linear Transformation)"
   ]
  },
  {
   "cell_type": "markdown",
   "metadata": {},
   "source": [
    "선형 변환은 하나의 벡터 공간에 있는 벡터를 다른 벡터 공간의 벡터로 옮기는 '함수' 또는 '규칙'이다. 이 변환은 공간을 회전, 확대/축소, 전단(shear)시킬 수는 있지만, **선형성(Linearity)**을 반드시 유지해야 한다. 즉, 벡터의 덧셈과 스칼라 곱셈 연산 관계가 변환 후에도 그대로 보존되어야 하며, 이 덕분에 모든 선형 변환은 행렬 곱셈으로 표현될 수 있다."
   ]
  },
  {
   "cell_type": "markdown",
   "metadata": {},
   "source": [
    "### 선형 변환의 조건 (선형성)\n",
    "\n",
    "변환 T가 선형 변환이려면 다음 두 조건을 만족해야 한다.\n",
    "\n",
    "1.  **가산성(Additivity)**: `T(u + v) = T(u) + T(v)`\n",
    "2.  **동차성(Homogeneity)**: `T(c * u) = c * T(u)`\n",
    "\n",
    "이 조건들 때문에 기하학적으로 **격자선은 변환 후에도 평행하고 등간격을 유지**하며, **원점은 항상 원점으로** 이동한다."
   ]
  },
  {
   "cell_type": "markdown",
   "metadata": {},
   "source": [
    "### 행렬과 선형 변환\n",
    "\n",
    "모든 선형 변환은 행렬로 표현할 수 있다. 어떤 벡터 `v`를 선형 변환하는 것은, 그 변환에 해당하는 행렬 `A`를 벡터 `v`에 곱하는 것과 같다. `T(v) = A * v`\n",
    "\n",
    "변환 행렬 `A`를 찾는 방법은 간단하다. 행렬의 각 열은 **표준 기저 벡터(Standard Basis Vectors)**가 변환을 통해 어디로 이동하는지를 보여준다.\n",
    "- 2차원 변환 행렬 `A`의 첫 번째 열 = `T([1, 0])`\n",
    "- 2차원 변환 행렬 `A`의 두 번째 열 = `T([0, 1])`"
   ]
  },
  {
   "cell_type": "markdown",
   "metadata": {},
   "source": [
    "### 파이썬으로 선형 변환 시각화하기\n",
    "\n",
    "공간을 반시계 방향으로 90도 회전시키고, y축 방향으로 전단(shear)시키는 선형 변환을 예로 들어본다."
   ]
  },
  {
   "cell_type": "code",
   "execution_count": 4,
   "metadata": {},
   "outputs": [
    {
     "name": "stdout",
     "output_type": "stream",
     "text": [
      "변환 행렬 A:\n",
      "[[ 0 -1]\n",
      " [ 1  1]]\n",
      "\n",
      "변환 전 벡터 v: [2 1]\n"
     ]
    }
   ],
   "source": [
    "import numpy as np\n",
    "import matplotlib.pyplot as plt\n",
    "\n",
    "# 시각화를 위한 설정\n",
    "plt.style.use('seaborn-v0_8-whitegrid')\n",
    "plt.rcParams['font.family'] = 'Malgun Gothic' # 한글 폰트 설정\n",
    "plt.rcParams['axes.unicode_minus'] = False # 마이너스 부호 깨짐 방지\n",
    "\n",
    "# 변환 전 표준 기저 벡터\n",
    "i_hat = np.array([1, 0])\n",
    "j_hat = np.array([0, 1])\n",
    "\n",
    "# 변환 후 기저 벡터의 위치 결정\n",
    "# i_hat([1,0])은 [0,1]로 이동 (90도 회전)\n",
    "# j_hat([0,1])은 [-1,1]로 이동 (90도 회전 후 전단)\n",
    "transformed_i = np.array([0, 1])\n",
    "transformed_j = np.array([-1, 1])\n",
    "\n",
    "# 변환 행렬 A 구성\n",
    "A = np.array([transformed_i, transformed_j]).T\n",
    "\n",
    "# 변환할 벡터 v 정의\n",
    "v = np.array([2, 1])\n",
    "\n",
    "print(f\"변환 행렬 A:\\n{A}\")\n",
    "print(f\"\\n변환 전 벡터 v: {v}\")"
   ]
  },
  {
   "cell_type": "markdown",
   "metadata": {},
   "source": [
    "#### 변환 계산"
   ]
  },
  {
   "cell_type": "code",
   "execution_count": 6,
   "metadata": {},
   "outputs": [
    {
     "name": "stdout",
     "output_type": "stream",
     "text": [
      "변환 후 벡터 v': [-1  3]\n"
     ]
    }
   ],
   "source": [
    "# 행렬-벡터 곱으로 선형 변환 적용\n",
    "v_transformed = A @ v\n",
    "\n",
    "print(f\"변환 후 벡터 v': {v_transformed}\")"
   ]
  },
  {
   "cell_type": "code",
   "execution_count": 5,
   "metadata": {},
   "outputs": [
    {
     "name": "stdout",
     "output_type": "stream",
     "text": [
      "변환 후 벡터 v': [-1  3]\n"
     ]
    },
    {
     "ename": "ValueError",
     "evalue": "At least one value in the dash list must be positive",
     "output_type": "error",
     "traceback": [
      "\u001b[31m---------------------------------------------------------------------------\u001b[39m",
      "\u001b[31mValueError\u001b[39m                                Traceback (most recent call last)",
      "\u001b[36mFile \u001b[39m\u001b[32mc:\\Users\\brigh\\Documents\\GitHub\\AI-Lab\\venv\\Lib\\site-packages\\IPython\\core\\formatters.py:402\u001b[39m, in \u001b[36mBaseFormatter.__call__\u001b[39m\u001b[34m(self, obj)\u001b[39m\n\u001b[32m    400\u001b[39m     \u001b[38;5;28;01mpass\u001b[39;00m\n\u001b[32m    401\u001b[39m \u001b[38;5;28;01melse\u001b[39;00m:\n\u001b[32m--> \u001b[39m\u001b[32m402\u001b[39m     \u001b[38;5;28;01mreturn\u001b[39;00m \u001b[43mprinter\u001b[49m\u001b[43m(\u001b[49m\u001b[43mobj\u001b[49m\u001b[43m)\u001b[49m\n\u001b[32m    403\u001b[39m \u001b[38;5;66;03m# Finally look for special method names\u001b[39;00m\n\u001b[32m    404\u001b[39m method = get_real_method(obj, \u001b[38;5;28mself\u001b[39m.print_method)\n",
      "\u001b[36mFile \u001b[39m\u001b[32mc:\\Users\\brigh\\Documents\\GitHub\\AI-Lab\\venv\\Lib\\site-packages\\IPython\\core\\pylabtools.py:170\u001b[39m, in \u001b[36mprint_figure\u001b[39m\u001b[34m(fig, fmt, bbox_inches, base64, **kwargs)\u001b[39m\n\u001b[32m    167\u001b[39m     \u001b[38;5;28;01mfrom\u001b[39;00m\u001b[38;5;250m \u001b[39m\u001b[34;01mmatplotlib\u001b[39;00m\u001b[34;01m.\u001b[39;00m\u001b[34;01mbackend_bases\u001b[39;00m\u001b[38;5;250m \u001b[39m\u001b[38;5;28;01mimport\u001b[39;00m FigureCanvasBase\n\u001b[32m    168\u001b[39m     FigureCanvasBase(fig)\n\u001b[32m--> \u001b[39m\u001b[32m170\u001b[39m \u001b[43mfig\u001b[49m\u001b[43m.\u001b[49m\u001b[43mcanvas\u001b[49m\u001b[43m.\u001b[49m\u001b[43mprint_figure\u001b[49m\u001b[43m(\u001b[49m\u001b[43mbytes_io\u001b[49m\u001b[43m,\u001b[49m\u001b[43m \u001b[49m\u001b[43m*\u001b[49m\u001b[43m*\u001b[49m\u001b[43mkw\u001b[49m\u001b[43m)\u001b[49m\n\u001b[32m    171\u001b[39m data = bytes_io.getvalue()\n\u001b[32m    172\u001b[39m \u001b[38;5;28;01mif\u001b[39;00m fmt == \u001b[33m'\u001b[39m\u001b[33msvg\u001b[39m\u001b[33m'\u001b[39m:\n",
      "\u001b[36mFile \u001b[39m\u001b[32mc:\\Users\\brigh\\Documents\\GitHub\\AI-Lab\\venv\\Lib\\site-packages\\matplotlib\\backend_bases.py:2157\u001b[39m, in \u001b[36mFigureCanvasBase.print_figure\u001b[39m\u001b[34m(self, filename, dpi, facecolor, edgecolor, orientation, format, bbox_inches, pad_inches, bbox_extra_artists, backend, **kwargs)\u001b[39m\n\u001b[32m   2154\u001b[39m     \u001b[38;5;66;03m# we do this instead of `self.figure.draw_without_rendering`\u001b[39;00m\n\u001b[32m   2155\u001b[39m     \u001b[38;5;66;03m# so that we can inject the orientation\u001b[39;00m\n\u001b[32m   2156\u001b[39m     \u001b[38;5;28;01mwith\u001b[39;00m \u001b[38;5;28mgetattr\u001b[39m(renderer, \u001b[33m\"\u001b[39m\u001b[33m_draw_disabled\u001b[39m\u001b[33m\"\u001b[39m, nullcontext)():\n\u001b[32m-> \u001b[39m\u001b[32m2157\u001b[39m         \u001b[38;5;28;43mself\u001b[39;49m\u001b[43m.\u001b[49m\u001b[43mfigure\u001b[49m\u001b[43m.\u001b[49m\u001b[43mdraw\u001b[49m\u001b[43m(\u001b[49m\u001b[43mrenderer\u001b[49m\u001b[43m)\u001b[49m\n\u001b[32m   2158\u001b[39m \u001b[38;5;28;01mif\u001b[39;00m bbox_inches:\n\u001b[32m   2159\u001b[39m     \u001b[38;5;28;01mif\u001b[39;00m bbox_inches == \u001b[33m\"\u001b[39m\u001b[33mtight\u001b[39m\u001b[33m\"\u001b[39m:\n",
      "\u001b[36mFile \u001b[39m\u001b[32mc:\\Users\\brigh\\Documents\\GitHub\\AI-Lab\\venv\\Lib\\site-packages\\matplotlib\\artist.py:94\u001b[39m, in \u001b[36m_finalize_rasterization.<locals>.draw_wrapper\u001b[39m\u001b[34m(artist, renderer, *args, **kwargs)\u001b[39m\n\u001b[32m     92\u001b[39m \u001b[38;5;129m@wraps\u001b[39m(draw)\n\u001b[32m     93\u001b[39m \u001b[38;5;28;01mdef\u001b[39;00m\u001b[38;5;250m \u001b[39m\u001b[34mdraw_wrapper\u001b[39m(artist, renderer, *args, **kwargs):\n\u001b[32m---> \u001b[39m\u001b[32m94\u001b[39m     result = \u001b[43mdraw\u001b[49m\u001b[43m(\u001b[49m\u001b[43martist\u001b[49m\u001b[43m,\u001b[49m\u001b[43m \u001b[49m\u001b[43mrenderer\u001b[49m\u001b[43m,\u001b[49m\u001b[43m \u001b[49m\u001b[43m*\u001b[49m\u001b[43margs\u001b[49m\u001b[43m,\u001b[49m\u001b[43m \u001b[49m\u001b[43m*\u001b[49m\u001b[43m*\u001b[49m\u001b[43mkwargs\u001b[49m\u001b[43m)\u001b[49m\n\u001b[32m     95\u001b[39m     \u001b[38;5;28;01mif\u001b[39;00m renderer._rasterizing:\n\u001b[32m     96\u001b[39m         renderer.stop_rasterizing()\n",
      "\u001b[36mFile \u001b[39m\u001b[32mc:\\Users\\brigh\\Documents\\GitHub\\AI-Lab\\venv\\Lib\\site-packages\\matplotlib\\artist.py:71\u001b[39m, in \u001b[36mallow_rasterization.<locals>.draw_wrapper\u001b[39m\u001b[34m(artist, renderer)\u001b[39m\n\u001b[32m     68\u001b[39m     \u001b[38;5;28;01mif\u001b[39;00m artist.get_agg_filter() \u001b[38;5;129;01mis\u001b[39;00m \u001b[38;5;129;01mnot\u001b[39;00m \u001b[38;5;28;01mNone\u001b[39;00m:\n\u001b[32m     69\u001b[39m         renderer.start_filter()\n\u001b[32m---> \u001b[39m\u001b[32m71\u001b[39m     \u001b[38;5;28;01mreturn\u001b[39;00m \u001b[43mdraw\u001b[49m\u001b[43m(\u001b[49m\u001b[43martist\u001b[49m\u001b[43m,\u001b[49m\u001b[43m \u001b[49m\u001b[43mrenderer\u001b[49m\u001b[43m)\u001b[49m\n\u001b[32m     72\u001b[39m \u001b[38;5;28;01mfinally\u001b[39;00m:\n\u001b[32m     73\u001b[39m     \u001b[38;5;28;01mif\u001b[39;00m artist.get_agg_filter() \u001b[38;5;129;01mis\u001b[39;00m \u001b[38;5;129;01mnot\u001b[39;00m \u001b[38;5;28;01mNone\u001b[39;00m:\n",
      "\u001b[36mFile \u001b[39m\u001b[32mc:\\Users\\brigh\\Documents\\GitHub\\AI-Lab\\venv\\Lib\\site-packages\\matplotlib\\figure.py:3257\u001b[39m, in \u001b[36mFigure.draw\u001b[39m\u001b[34m(self, renderer)\u001b[39m\n\u001b[32m   3254\u001b[39m             \u001b[38;5;66;03m# ValueError can occur when resizing a window.\u001b[39;00m\n\u001b[32m   3256\u001b[39m     \u001b[38;5;28mself\u001b[39m.patch.draw(renderer)\n\u001b[32m-> \u001b[39m\u001b[32m3257\u001b[39m     \u001b[43mmimage\u001b[49m\u001b[43m.\u001b[49m\u001b[43m_draw_list_compositing_images\u001b[49m\u001b[43m(\u001b[49m\n\u001b[32m   3258\u001b[39m \u001b[43m        \u001b[49m\u001b[43mrenderer\u001b[49m\u001b[43m,\u001b[49m\u001b[43m \u001b[49m\u001b[38;5;28;43mself\u001b[39;49m\u001b[43m,\u001b[49m\u001b[43m \u001b[49m\u001b[43martists\u001b[49m\u001b[43m,\u001b[49m\u001b[43m \u001b[49m\u001b[38;5;28;43mself\u001b[39;49m\u001b[43m.\u001b[49m\u001b[43msuppressComposite\u001b[49m\u001b[43m)\u001b[49m\n\u001b[32m   3260\u001b[39m     renderer.close_group(\u001b[33m'\u001b[39m\u001b[33mfigure\u001b[39m\u001b[33m'\u001b[39m)\n\u001b[32m   3261\u001b[39m \u001b[38;5;28;01mfinally\u001b[39;00m:\n",
      "\u001b[36mFile \u001b[39m\u001b[32mc:\\Users\\brigh\\Documents\\GitHub\\AI-Lab\\venv\\Lib\\site-packages\\matplotlib\\image.py:134\u001b[39m, in \u001b[36m_draw_list_compositing_images\u001b[39m\u001b[34m(renderer, parent, artists, suppress_composite)\u001b[39m\n\u001b[32m    132\u001b[39m \u001b[38;5;28;01mif\u001b[39;00m not_composite \u001b[38;5;129;01mor\u001b[39;00m \u001b[38;5;129;01mnot\u001b[39;00m has_images:\n\u001b[32m    133\u001b[39m     \u001b[38;5;28;01mfor\u001b[39;00m a \u001b[38;5;129;01min\u001b[39;00m artists:\n\u001b[32m--> \u001b[39m\u001b[32m134\u001b[39m         \u001b[43ma\u001b[49m\u001b[43m.\u001b[49m\u001b[43mdraw\u001b[49m\u001b[43m(\u001b[49m\u001b[43mrenderer\u001b[49m\u001b[43m)\u001b[49m\n\u001b[32m    135\u001b[39m \u001b[38;5;28;01melse\u001b[39;00m:\n\u001b[32m    136\u001b[39m     \u001b[38;5;66;03m# Composite any adjacent images together\u001b[39;00m\n\u001b[32m    137\u001b[39m     image_group = []\n",
      "\u001b[36mFile \u001b[39m\u001b[32mc:\\Users\\brigh\\Documents\\GitHub\\AI-Lab\\venv\\Lib\\site-packages\\matplotlib\\artist.py:71\u001b[39m, in \u001b[36mallow_rasterization.<locals>.draw_wrapper\u001b[39m\u001b[34m(artist, renderer)\u001b[39m\n\u001b[32m     68\u001b[39m     \u001b[38;5;28;01mif\u001b[39;00m artist.get_agg_filter() \u001b[38;5;129;01mis\u001b[39;00m \u001b[38;5;129;01mnot\u001b[39;00m \u001b[38;5;28;01mNone\u001b[39;00m:\n\u001b[32m     69\u001b[39m         renderer.start_filter()\n\u001b[32m---> \u001b[39m\u001b[32m71\u001b[39m     \u001b[38;5;28;01mreturn\u001b[39;00m \u001b[43mdraw\u001b[49m\u001b[43m(\u001b[49m\u001b[43martist\u001b[49m\u001b[43m,\u001b[49m\u001b[43m \u001b[49m\u001b[43mrenderer\u001b[49m\u001b[43m)\u001b[49m\n\u001b[32m     72\u001b[39m \u001b[38;5;28;01mfinally\u001b[39;00m:\n\u001b[32m     73\u001b[39m     \u001b[38;5;28;01mif\u001b[39;00m artist.get_agg_filter() \u001b[38;5;129;01mis\u001b[39;00m \u001b[38;5;129;01mnot\u001b[39;00m \u001b[38;5;28;01mNone\u001b[39;00m:\n",
      "\u001b[36mFile \u001b[39m\u001b[32mc:\\Users\\brigh\\Documents\\GitHub\\AI-Lab\\venv\\Lib\\site-packages\\matplotlib\\axes\\_base.py:3226\u001b[39m, in \u001b[36m_AxesBase.draw\u001b[39m\u001b[34m(self, renderer)\u001b[39m\n\u001b[32m   3223\u001b[39m \u001b[38;5;28;01mif\u001b[39;00m artists_rasterized:\n\u001b[32m   3224\u001b[39m     _draw_rasterized(\u001b[38;5;28mself\u001b[39m.get_figure(root=\u001b[38;5;28;01mTrue\u001b[39;00m), artists_rasterized, renderer)\n\u001b[32m-> \u001b[39m\u001b[32m3226\u001b[39m \u001b[43mmimage\u001b[49m\u001b[43m.\u001b[49m\u001b[43m_draw_list_compositing_images\u001b[49m\u001b[43m(\u001b[49m\n\u001b[32m   3227\u001b[39m \u001b[43m    \u001b[49m\u001b[43mrenderer\u001b[49m\u001b[43m,\u001b[49m\u001b[43m \u001b[49m\u001b[38;5;28;43mself\u001b[39;49m\u001b[43m,\u001b[49m\u001b[43m \u001b[49m\u001b[43martists\u001b[49m\u001b[43m,\u001b[49m\u001b[43m \u001b[49m\u001b[38;5;28;43mself\u001b[39;49m\u001b[43m.\u001b[49m\u001b[43mget_figure\u001b[49m\u001b[43m(\u001b[49m\u001b[43mroot\u001b[49m\u001b[43m=\u001b[49m\u001b[38;5;28;43;01mTrue\u001b[39;49;00m\u001b[43m)\u001b[49m\u001b[43m.\u001b[49m\u001b[43msuppressComposite\u001b[49m\u001b[43m)\u001b[49m\n\u001b[32m   3229\u001b[39m renderer.close_group(\u001b[33m'\u001b[39m\u001b[33maxes\u001b[39m\u001b[33m'\u001b[39m)\n\u001b[32m   3230\u001b[39m \u001b[38;5;28mself\u001b[39m.stale = \u001b[38;5;28;01mFalse\u001b[39;00m\n",
      "\u001b[36mFile \u001b[39m\u001b[32mc:\\Users\\brigh\\Documents\\GitHub\\AI-Lab\\venv\\Lib\\site-packages\\matplotlib\\image.py:134\u001b[39m, in \u001b[36m_draw_list_compositing_images\u001b[39m\u001b[34m(renderer, parent, artists, suppress_composite)\u001b[39m\n\u001b[32m    132\u001b[39m \u001b[38;5;28;01mif\u001b[39;00m not_composite \u001b[38;5;129;01mor\u001b[39;00m \u001b[38;5;129;01mnot\u001b[39;00m has_images:\n\u001b[32m    133\u001b[39m     \u001b[38;5;28;01mfor\u001b[39;00m a \u001b[38;5;129;01min\u001b[39;00m artists:\n\u001b[32m--> \u001b[39m\u001b[32m134\u001b[39m         \u001b[43ma\u001b[49m\u001b[43m.\u001b[49m\u001b[43mdraw\u001b[49m\u001b[43m(\u001b[49m\u001b[43mrenderer\u001b[49m\u001b[43m)\u001b[49m\n\u001b[32m    135\u001b[39m \u001b[38;5;28;01melse\u001b[39;00m:\n\u001b[32m    136\u001b[39m     \u001b[38;5;66;03m# Composite any adjacent images together\u001b[39;00m\n\u001b[32m    137\u001b[39m     image_group = []\n",
      "\u001b[36mFile \u001b[39m\u001b[32mc:\\Users\\brigh\\Documents\\GitHub\\AI-Lab\\venv\\Lib\\site-packages\\matplotlib\\artist.py:71\u001b[39m, in \u001b[36mallow_rasterization.<locals>.draw_wrapper\u001b[39m\u001b[34m(artist, renderer)\u001b[39m\n\u001b[32m     68\u001b[39m     \u001b[38;5;28;01mif\u001b[39;00m artist.get_agg_filter() \u001b[38;5;129;01mis\u001b[39;00m \u001b[38;5;129;01mnot\u001b[39;00m \u001b[38;5;28;01mNone\u001b[39;00m:\n\u001b[32m     69\u001b[39m         renderer.start_filter()\n\u001b[32m---> \u001b[39m\u001b[32m71\u001b[39m     \u001b[38;5;28;01mreturn\u001b[39;00m \u001b[43mdraw\u001b[49m\u001b[43m(\u001b[49m\u001b[43martist\u001b[49m\u001b[43m,\u001b[49m\u001b[43m \u001b[49m\u001b[43mrenderer\u001b[49m\u001b[43m)\u001b[49m\n\u001b[32m     72\u001b[39m \u001b[38;5;28;01mfinally\u001b[39;00m:\n\u001b[32m     73\u001b[39m     \u001b[38;5;28;01mif\u001b[39;00m artist.get_agg_filter() \u001b[38;5;129;01mis\u001b[39;00m \u001b[38;5;129;01mnot\u001b[39;00m \u001b[38;5;28;01mNone\u001b[39;00m:\n",
      "\u001b[36mFile \u001b[39m\u001b[32mc:\\Users\\brigh\\Documents\\GitHub\\AI-Lab\\venv\\Lib\\site-packages\\matplotlib\\legend.py:764\u001b[39m, in \u001b[36mLegend.draw\u001b[39m\u001b[34m(self, renderer)\u001b[39m\n\u001b[32m    761\u001b[39m     Shadow(\u001b[38;5;28mself\u001b[39m.legendPatch, **\u001b[38;5;28mself\u001b[39m._shadow_props).draw(renderer)\n\u001b[32m    763\u001b[39m \u001b[38;5;28mself\u001b[39m.legendPatch.draw(renderer)\n\u001b[32m--> \u001b[39m\u001b[32m764\u001b[39m \u001b[38;5;28;43mself\u001b[39;49m\u001b[43m.\u001b[49m\u001b[43m_legend_box\u001b[49m\u001b[43m.\u001b[49m\u001b[43mdraw\u001b[49m\u001b[43m(\u001b[49m\u001b[43mrenderer\u001b[49m\u001b[43m)\u001b[49m\n\u001b[32m    766\u001b[39m renderer.close_group(\u001b[33m'\u001b[39m\u001b[33mlegend\u001b[39m\u001b[33m'\u001b[39m)\n\u001b[32m    767\u001b[39m \u001b[38;5;28mself\u001b[39m.stale = \u001b[38;5;28;01mFalse\u001b[39;00m\n",
      "\u001b[36mFile \u001b[39m\u001b[32mc:\\Users\\brigh\\Documents\\GitHub\\AI-Lab\\venv\\Lib\\site-packages\\matplotlib\\artist.py:38\u001b[39m, in \u001b[36m_prevent_rasterization.<locals>.draw_wrapper\u001b[39m\u001b[34m(artist, renderer, *args, **kwargs)\u001b[39m\n\u001b[32m     35\u001b[39m     renderer.stop_rasterizing()\n\u001b[32m     36\u001b[39m     renderer._rasterizing = \u001b[38;5;28;01mFalse\u001b[39;00m\n\u001b[32m---> \u001b[39m\u001b[32m38\u001b[39m \u001b[38;5;28;01mreturn\u001b[39;00m \u001b[43mdraw\u001b[49m\u001b[43m(\u001b[49m\u001b[43martist\u001b[49m\u001b[43m,\u001b[49m\u001b[43m \u001b[49m\u001b[43mrenderer\u001b[49m\u001b[43m,\u001b[49m\u001b[43m \u001b[49m\u001b[43m*\u001b[49m\u001b[43margs\u001b[49m\u001b[43m,\u001b[49m\u001b[43m \u001b[49m\u001b[43m*\u001b[49m\u001b[43m*\u001b[49m\u001b[43mkwargs\u001b[49m\u001b[43m)\u001b[49m\n",
      "\u001b[36mFile \u001b[39m\u001b[32mc:\\Users\\brigh\\Documents\\GitHub\\AI-Lab\\venv\\Lib\\site-packages\\matplotlib\\offsetbox.py:383\u001b[39m, in \u001b[36mOffsetBox.draw\u001b[39m\u001b[34m(self, renderer)\u001b[39m\n\u001b[32m    381\u001b[39m \u001b[38;5;28;01mfor\u001b[39;00m c, (ox, oy) \u001b[38;5;129;01min\u001b[39;00m \u001b[38;5;28mzip\u001b[39m(\u001b[38;5;28mself\u001b[39m.get_visible_children(), offsets):\n\u001b[32m    382\u001b[39m     c.set_offset((px + ox, py + oy))\n\u001b[32m--> \u001b[39m\u001b[32m383\u001b[39m     \u001b[43mc\u001b[49m\u001b[43m.\u001b[49m\u001b[43mdraw\u001b[49m\u001b[43m(\u001b[49m\u001b[43mrenderer\u001b[49m\u001b[43m)\u001b[49m\n\u001b[32m    384\u001b[39m _bbox_artist(\u001b[38;5;28mself\u001b[39m, renderer, fill=\u001b[38;5;28;01mFalse\u001b[39;00m, props=\u001b[38;5;28mdict\u001b[39m(pad=\u001b[32m0.\u001b[39m))\n\u001b[32m    385\u001b[39m \u001b[38;5;28mself\u001b[39m.stale = \u001b[38;5;28;01mFalse\u001b[39;00m\n",
      "\u001b[36mFile \u001b[39m\u001b[32mc:\\Users\\brigh\\Documents\\GitHub\\AI-Lab\\venv\\Lib\\site-packages\\matplotlib\\artist.py:38\u001b[39m, in \u001b[36m_prevent_rasterization.<locals>.draw_wrapper\u001b[39m\u001b[34m(artist, renderer, *args, **kwargs)\u001b[39m\n\u001b[32m     35\u001b[39m     renderer.stop_rasterizing()\n\u001b[32m     36\u001b[39m     renderer._rasterizing = \u001b[38;5;28;01mFalse\u001b[39;00m\n\u001b[32m---> \u001b[39m\u001b[32m38\u001b[39m \u001b[38;5;28;01mreturn\u001b[39;00m \u001b[43mdraw\u001b[49m\u001b[43m(\u001b[49m\u001b[43martist\u001b[49m\u001b[43m,\u001b[49m\u001b[43m \u001b[49m\u001b[43mrenderer\u001b[49m\u001b[43m,\u001b[49m\u001b[43m \u001b[49m\u001b[43m*\u001b[49m\u001b[43margs\u001b[49m\u001b[43m,\u001b[49m\u001b[43m \u001b[49m\u001b[43m*\u001b[49m\u001b[43m*\u001b[49m\u001b[43mkwargs\u001b[49m\u001b[43m)\u001b[49m\n",
      "\u001b[36mFile \u001b[39m\u001b[32mc:\\Users\\brigh\\Documents\\GitHub\\AI-Lab\\venv\\Lib\\site-packages\\matplotlib\\offsetbox.py:383\u001b[39m, in \u001b[36mOffsetBox.draw\u001b[39m\u001b[34m(self, renderer)\u001b[39m\n\u001b[32m    381\u001b[39m \u001b[38;5;28;01mfor\u001b[39;00m c, (ox, oy) \u001b[38;5;129;01min\u001b[39;00m \u001b[38;5;28mzip\u001b[39m(\u001b[38;5;28mself\u001b[39m.get_visible_children(), offsets):\n\u001b[32m    382\u001b[39m     c.set_offset((px + ox, py + oy))\n\u001b[32m--> \u001b[39m\u001b[32m383\u001b[39m     \u001b[43mc\u001b[49m\u001b[43m.\u001b[49m\u001b[43mdraw\u001b[49m\u001b[43m(\u001b[49m\u001b[43mrenderer\u001b[49m\u001b[43m)\u001b[49m\n\u001b[32m    384\u001b[39m _bbox_artist(\u001b[38;5;28mself\u001b[39m, renderer, fill=\u001b[38;5;28;01mFalse\u001b[39;00m, props=\u001b[38;5;28mdict\u001b[39m(pad=\u001b[32m0.\u001b[39m))\n\u001b[32m    385\u001b[39m \u001b[38;5;28mself\u001b[39m.stale = \u001b[38;5;28;01mFalse\u001b[39;00m\n",
      "    \u001b[31m[... skipping similar frames: _prevent_rasterization.<locals>.draw_wrapper at line 38 (2 times), OffsetBox.draw at line 383 (1 times)]\u001b[39m\n",
      "\u001b[36mFile \u001b[39m\u001b[32mc:\\Users\\brigh\\Documents\\GitHub\\AI-Lab\\venv\\Lib\\site-packages\\matplotlib\\offsetbox.py:383\u001b[39m, in \u001b[36mOffsetBox.draw\u001b[39m\u001b[34m(self, renderer)\u001b[39m\n\u001b[32m    381\u001b[39m \u001b[38;5;28;01mfor\u001b[39;00m c, (ox, oy) \u001b[38;5;129;01min\u001b[39;00m \u001b[38;5;28mzip\u001b[39m(\u001b[38;5;28mself\u001b[39m.get_visible_children(), offsets):\n\u001b[32m    382\u001b[39m     c.set_offset((px + ox, py + oy))\n\u001b[32m--> \u001b[39m\u001b[32m383\u001b[39m     \u001b[43mc\u001b[49m\u001b[43m.\u001b[49m\u001b[43mdraw\u001b[49m\u001b[43m(\u001b[49m\u001b[43mrenderer\u001b[49m\u001b[43m)\u001b[49m\n\u001b[32m    384\u001b[39m _bbox_artist(\u001b[38;5;28mself\u001b[39m, renderer, fill=\u001b[38;5;28;01mFalse\u001b[39;00m, props=\u001b[38;5;28mdict\u001b[39m(pad=\u001b[32m0.\u001b[39m))\n\u001b[32m    385\u001b[39m \u001b[38;5;28mself\u001b[39m.stale = \u001b[38;5;28;01mFalse\u001b[39;00m\n",
      "\u001b[36mFile \u001b[39m\u001b[32mc:\\Users\\brigh\\Documents\\GitHub\\AI-Lab\\venv\\Lib\\site-packages\\matplotlib\\artist.py:38\u001b[39m, in \u001b[36m_prevent_rasterization.<locals>.draw_wrapper\u001b[39m\u001b[34m(artist, renderer, *args, **kwargs)\u001b[39m\n\u001b[32m     35\u001b[39m     renderer.stop_rasterizing()\n\u001b[32m     36\u001b[39m     renderer._rasterizing = \u001b[38;5;28;01mFalse\u001b[39;00m\n\u001b[32m---> \u001b[39m\u001b[32m38\u001b[39m \u001b[38;5;28;01mreturn\u001b[39;00m \u001b[43mdraw\u001b[49m\u001b[43m(\u001b[49m\u001b[43martist\u001b[49m\u001b[43m,\u001b[49m\u001b[43m \u001b[49m\u001b[43mrenderer\u001b[49m\u001b[43m,\u001b[49m\u001b[43m \u001b[49m\u001b[43m*\u001b[49m\u001b[43margs\u001b[49m\u001b[43m,\u001b[49m\u001b[43m \u001b[49m\u001b[43m*\u001b[49m\u001b[43m*\u001b[49m\u001b[43mkwargs\u001b[49m\u001b[43m)\u001b[49m\n",
      "\u001b[36mFile \u001b[39m\u001b[32mc:\\Users\\brigh\\Documents\\GitHub\\AI-Lab\\venv\\Lib\\site-packages\\matplotlib\\offsetbox.py:703\u001b[39m, in \u001b[36mDrawingArea.draw\u001b[39m\u001b[34m(self, renderer)\u001b[39m\n\u001b[32m    701\u001b[39m     \u001b[38;5;28;01mif\u001b[39;00m \u001b[38;5;28mself\u001b[39m._clip_children \u001b[38;5;129;01mand\u001b[39;00m \u001b[38;5;129;01mnot\u001b[39;00m (c.clipbox \u001b[38;5;129;01mor\u001b[39;00m c._clippath):\n\u001b[32m    702\u001b[39m         c.set_clip_path(tpath)\n\u001b[32m--> \u001b[39m\u001b[32m703\u001b[39m     \u001b[43mc\u001b[49m\u001b[43m.\u001b[49m\u001b[43mdraw\u001b[49m\u001b[43m(\u001b[49m\u001b[43mrenderer\u001b[49m\u001b[43m)\u001b[49m\n\u001b[32m    705\u001b[39m _bbox_artist(\u001b[38;5;28mself\u001b[39m, renderer, fill=\u001b[38;5;28;01mFalse\u001b[39;00m, props=\u001b[38;5;28mdict\u001b[39m(pad=\u001b[32m0.\u001b[39m))\n\u001b[32m    706\u001b[39m \u001b[38;5;28mself\u001b[39m.stale = \u001b[38;5;28;01mFalse\u001b[39;00m\n",
      "\u001b[36mFile \u001b[39m\u001b[32mc:\\Users\\brigh\\Documents\\GitHub\\AI-Lab\\venv\\Lib\\site-packages\\matplotlib\\artist.py:71\u001b[39m, in \u001b[36mallow_rasterization.<locals>.draw_wrapper\u001b[39m\u001b[34m(artist, renderer)\u001b[39m\n\u001b[32m     68\u001b[39m     \u001b[38;5;28;01mif\u001b[39;00m artist.get_agg_filter() \u001b[38;5;129;01mis\u001b[39;00m \u001b[38;5;129;01mnot\u001b[39;00m \u001b[38;5;28;01mNone\u001b[39;00m:\n\u001b[32m     69\u001b[39m         renderer.start_filter()\n\u001b[32m---> \u001b[39m\u001b[32m71\u001b[39m     \u001b[38;5;28;01mreturn\u001b[39;00m \u001b[43mdraw\u001b[49m\u001b[43m(\u001b[49m\u001b[43martist\u001b[49m\u001b[43m,\u001b[49m\u001b[43m \u001b[49m\u001b[43mrenderer\u001b[49m\u001b[43m)\u001b[49m\n\u001b[32m     72\u001b[39m \u001b[38;5;28;01mfinally\u001b[39;00m:\n\u001b[32m     73\u001b[39m     \u001b[38;5;28;01mif\u001b[39;00m artist.get_agg_filter() \u001b[38;5;129;01mis\u001b[39;00m \u001b[38;5;129;01mnot\u001b[39;00m \u001b[38;5;28;01mNone\u001b[39;00m:\n",
      "\u001b[36mFile \u001b[39m\u001b[32mc:\\Users\\brigh\\Documents\\GitHub\\AI-Lab\\venv\\Lib\\site-packages\\matplotlib\\patches.py:642\u001b[39m, in \u001b[36mPatch.draw\u001b[39m\u001b[34m(self, renderer)\u001b[39m\n\u001b[32m    640\u001b[39m tpath = transform.transform_path_non_affine(path)\n\u001b[32m    641\u001b[39m affine = transform.get_affine()\n\u001b[32m--> \u001b[39m\u001b[32m642\u001b[39m \u001b[38;5;28;43mself\u001b[39;49m\u001b[43m.\u001b[49m\u001b[43m_draw_paths_with_artist_properties\u001b[49m\u001b[43m(\u001b[49m\n\u001b[32m    643\u001b[39m \u001b[43m    \u001b[49m\u001b[43mrenderer\u001b[49m\u001b[43m,\u001b[49m\n\u001b[32m    644\u001b[39m \u001b[43m    \u001b[49m\u001b[43m[\u001b[49m\u001b[43m(\u001b[49m\u001b[43mtpath\u001b[49m\u001b[43m,\u001b[49m\u001b[43m \u001b[49m\u001b[43maffine\u001b[49m\u001b[43m,\u001b[49m\n\u001b[32m    645\u001b[39m \u001b[43m      \u001b[49m\u001b[38;5;66;43;03m# Work around a bug in the PDF and SVG renderers, which\u001b[39;49;00m\n\u001b[32m    646\u001b[39m \u001b[43m      \u001b[49m\u001b[38;5;66;43;03m# do not draw the hatches if the facecolor is fully\u001b[39;49;00m\n\u001b[32m    647\u001b[39m \u001b[43m      \u001b[49m\u001b[38;5;66;43;03m# transparent, but do if it is None.\u001b[39;49;00m\n\u001b[32m    648\u001b[39m \u001b[43m      \u001b[49m\u001b[38;5;28;43mself\u001b[39;49m\u001b[43m.\u001b[49m\u001b[43m_facecolor\u001b[49m\u001b[43m \u001b[49m\u001b[38;5;28;43;01mif\u001b[39;49;00m\u001b[43m \u001b[49m\u001b[38;5;28;43mself\u001b[39;49m\u001b[43m.\u001b[49m\u001b[43m_facecolor\u001b[49m\u001b[43m[\u001b[49m\u001b[32;43m3\u001b[39;49m\u001b[43m]\u001b[49m\u001b[43m \u001b[49m\u001b[38;5;28;43;01melse\u001b[39;49;00m\u001b[43m \u001b[49m\u001b[38;5;28;43;01mNone\u001b[39;49;00m\u001b[43m)\u001b[49m\u001b[43m]\u001b[49m\u001b[43m)\u001b[49m\n",
      "\u001b[36mFile \u001b[39m\u001b[32mc:\\Users\\brigh\\Documents\\GitHub\\AI-Lab\\venv\\Lib\\site-packages\\matplotlib\\patches.py:603\u001b[39m, in \u001b[36mPatch._draw_paths_with_artist_properties\u001b[39m\u001b[34m(self, renderer, draw_path_args_list)\u001b[39m\n\u001b[32m    601\u001b[39m     lw = \u001b[32m0\u001b[39m\n\u001b[32m    602\u001b[39m gc.set_linewidth(lw)\n\u001b[32m--> \u001b[39m\u001b[32m603\u001b[39m \u001b[43mgc\u001b[49m\u001b[43m.\u001b[49m\u001b[43mset_dashes\u001b[49m\u001b[43m(\u001b[49m\u001b[43m*\u001b[49m\u001b[38;5;28;43mself\u001b[39;49m\u001b[43m.\u001b[49m\u001b[43m_dash_pattern\u001b[49m\u001b[43m)\u001b[49m\n\u001b[32m    604\u001b[39m gc.set_capstyle(\u001b[38;5;28mself\u001b[39m._capstyle)\n\u001b[32m    605\u001b[39m gc.set_joinstyle(\u001b[38;5;28mself\u001b[39m._joinstyle)\n",
      "\u001b[36mFile \u001b[39m\u001b[32mc:\\Users\\brigh\\Documents\\GitHub\\AI-Lab\\venv\\Lib\\site-packages\\matplotlib\\backend_bases.py:879\u001b[39m, in \u001b[36mGraphicsContextBase.set_dashes\u001b[39m\u001b[34m(self, dash_offset, dash_list)\u001b[39m\n\u001b[32m    876\u001b[39m         \u001b[38;5;28;01mraise\u001b[39;00m \u001b[38;5;167;01mValueError\u001b[39;00m(\n\u001b[32m    877\u001b[39m             \u001b[33m\"\u001b[39m\u001b[33mAll values in the dash list must be non-negative\u001b[39m\u001b[33m\"\u001b[39m)\n\u001b[32m    878\u001b[39m     \u001b[38;5;28;01mif\u001b[39;00m dl.size \u001b[38;5;129;01mand\u001b[39;00m \u001b[38;5;129;01mnot\u001b[39;00m np.any(dl > \u001b[32m0.0\u001b[39m):\n\u001b[32m--> \u001b[39m\u001b[32m879\u001b[39m         \u001b[38;5;28;01mraise\u001b[39;00m \u001b[38;5;167;01mValueError\u001b[39;00m(\n\u001b[32m    880\u001b[39m             \u001b[33m'\u001b[39m\u001b[33mAt least one value in the dash list must be positive\u001b[39m\u001b[33m'\u001b[39m)\n\u001b[32m    881\u001b[39m \u001b[38;5;28mself\u001b[39m._dashes = dash_offset, dash_list\n",
      "\u001b[31mValueError\u001b[39m: At least one value in the dash list must be positive"
     ]
    },
    {
     "data": {
      "text/plain": [
       "<Figure size 800x800 with 1 Axes>"
      ]
     },
     "metadata": {},
     "output_type": "display_data"
    }
   ],
   "source": [
    "\n",
    "\n",
    "# 시각화\n",
    "plt.figure(figsize=(8, 8))\n",
    "\n",
    "# 원점에서 시작하는 벡터들을 화살표로 표시\n",
    "# 변환 전 벡터 (v와 기저 벡터)\n",
    "plt.quiver(0, 0, i_hat[0], i_hat[1], angles='xy', scale_units='xy', scale=1, color='gray', linestyle='--', label='변환 전 i_hat')\n",
    "plt.quiver(0, 0, j_hat[0], j_hat[1], angles='xy', scale_units='xy', scale=1, color='gray', linestyle='--', label='변환 전 j_hat')\n",
    "plt.quiver(0, 0, v[0], v[1], angles='xy', scale_units='xy', scale=1, color='blue', label='변환 전 벡터 v')\n",
    "\n",
    "# 변환 후 벡터 (v'와 변환된 기저 벡터)\n",
    "plt.quiver(0, 0, transformed_i[0], transformed_i[1], angles='xy', scale_units='xy', scale=1, color='red', label='변환 후 i_hat')\n",
    "plt.quiver(0, 0, transformed_j[0], transformed_j[1], angles='xy', scale_units='xy', scale=1, color='green', label='변환 후 j_hat')\n",
    "plt.quiver(0, 0, v_transformed[0], v_transformed[1], angles='xy', scale_units='xy', scale=1, color='purple', label=\"변환 후 벡터 v\")\n",
    "\n",
    "# 그래프 설정\n",
    "limit = 4\n",
    "plt.xlim(-limit, limit)\n",
    "plt.ylim(-limit, limit)\n",
    "plt.axhline(0, color='black', linewidth=0.5)\n",
    "plt.axvline(0, color='black', linewidth=0.5)\n",
    "plt.title('선형 변환의 시각화')\n",
    "plt.xlabel('x축')\n",
    "plt.ylabel('y축')\n",
    "plt.legend()\n",
    "plt.grid(True)\n",
    "plt.gca().set_aspect('equal', adjustable='box')\n",
    "plt.show()"
   ]
  },
  {
   "cell_type": "markdown",
   "metadata": {},
   "source": [
    "위 그래프는 변환 전의 벡터 `v` (파란색)가 변환 행렬 `A`에 의해 어떻게 변환 후의 벡터 `v'` (보라색)로 옮겨지는지를 보여준다. 중요한 점은, `v`가 원래 기저 `i_hat`, `j_hat`의 선형 결합(`v = 2*i_hat + 1*j_hat`)으로 표현되었던 것처럼, 변환된 벡터 `v'` 역시 **변환된 기저**의 동일한 선형 결합(`v' = 2*(변환된 i_hat) + 1*(변환된 j_hat)`)으로 표현된다는 것이다."
   ]
  },
  {
   "cell_type": "markdown",
   "metadata": {},
   "source": [
    "#### 요약"
   ]
  },
  {
   "cell_type": "markdown",
   "metadata": {},
   "source": [
    "선형 변환은 행렬을 통해 벡터 공간을 기하학적으로 변형시키는, 선형성을 만족하는 함수이다."
   ]
  }
 ],
 "metadata": {
  "kernelspec": {
   "display_name": "venv (3.11.9)",
   "language": "python",
   "name": "python3"
  },
  "language_info": {
   "codemirror_mode": {
    "name": "ipython",
    "version": 3
   },
   "file_extension": ".py",
   "mimetype": "text/x-python",
   "name": "python",
   "nbconvert_exporter": "python",
   "pygments_lexer": "ipython3",
   "version": "3.11.9"
  }
 },
 "nbformat": 4,
 "nbformat_minor": 4
}

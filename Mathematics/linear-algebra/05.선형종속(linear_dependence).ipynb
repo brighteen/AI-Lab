{
 "cells": [
  {
   "cell_type": "markdown",
   "metadata": {},
   "source": [
    "## 선형대수학의 중복과 비효율성: 선형 종속(Linear Dependence)"
   ]
  },
  {
   "cell_type": "markdown",
   "metadata": {},
   "source": [
    "선형 종속은 어떤 벡터들의 집합에서 최소한 하나의 벡터가 다른 벡터들의 선형 결합으로 표현될 수 있는 상태를 의미한다. 즉, 그 집합 안에는 '없어도 되는' 중복되거나 불필요한 벡터가 포함되어 있다는 뜻이다. 이러한 벡터 집합은 주어진 차원을 효율적으로 생성(Span)하지 못한다."
   ]
  },
  {
   "cell_type": "markdown",
   "metadata": {},
   "source": [
    "### 선형 종속의 정의\n",
    "\n",
    "벡터 집합 ${v_1, v_2, \\dots, v_n}$이 선형 종속이라는 것은, **모두 0은 아닌** 스칼라 $c_1, c_2, \\dots, c_n$이 존재하여 다음 방정식을 만족시킨다는 의미이다.\n",
    "\n",
    "$c_1v_1 + c_2v_2 + \\dots + c_nv_n = \\mathbf{0}$ (영벡터)\n",
    "\n",
    "이는 벡터들의 '자명하지 않은(non-trivial)' 조합으로 영벡터를 만들 수 있다는 뜻이며, 이는 곧 어떤 벡터 하나를 다른 벡터들의 조합으로 나타낼 수 있다는 말과 같다."
   ]
  },
  {
   "cell_type": "markdown",
   "metadata": {},
   "source": [
    "### 파이썬으로 선형 종속 확인하기\n",
    "\n",
    "2차원 공간에서 세 개의 벡터를 사용하여 선형 종속 관계를 확인해본다. 2차원 공간에서는 두 개의 선형 독립인 벡터만으로도 평면 전체를 표현할 수 있으므로, 세 번째 벡터는 필연적으로 앞의 두 벡터의 조합으로 표현될 수밖에 없다."
   ]
  },
  {
   "cell_type": "code",
   "execution_count": 1,
   "metadata": {},
   "outputs": [
    {
     "name": "stdout",
     "output_type": "stream",
     "text": [
      "벡터 v1: [1 2]\n",
      "벡터 v2: [3 1]\n",
      "벡터 v3: [5 5] (v3는 2*v1 + v2로 계산됨)\n",
      "----------------------------------------\n"
     ]
    }
   ],
   "source": [
    "import numpy as np\n",
    "\n",
    "# 2차원 공간의 세 벡터 정의\n",
    "# v3는 v1과 v2의 선형 결합으로 만들 수 있도록 설정 (v3 = 2*v1 + v2)\n",
    "v1 = np.array([1, 2])\n",
    "v2 = np.array([3, 1])\n",
    "v3 = 2 * v1 + v2 # v3 = 2*[1, 2] + [3, 1] = [2, 4] + [3, 1] = [5, 5]\n",
    "\n",
    "print(f\"벡터 v1: {v1}\")\n",
    "print(f\"벡터 v2: {v2}\")\n",
    "print(f\"벡터 v3: {v3} (v3는 2*v1 + v2로 계산됨)\")\n",
    "print(\"-\" * 40)"
   ]
  },
  {
   "cell_type": "markdown",
   "metadata": {},
   "source": [
    "#### 선형 종속 관계 확인"
   ]
  },
  {
   "cell_type": "code",
   "execution_count": 2,
   "metadata": {},
   "outputs": [
    {
     "name": "stdout",
     "output_type": "stream",
     "text": [
      "2*v1 + 1*v2 = [5 5]\n",
      "계산 결과는 v3와 동일한가? True\n",
      "\n",
      "따라서, 벡터 v3는 v1과 v2에 선형적으로 종속되어 있다.\n"
     ]
    }
   ],
   "source": [
    "# v3가 v1과 v2의 선형 결합으로 표현되는지 확인\n",
    "c1 = 2\n",
    "c2 = 1\n",
    "reconstructed_v3 = c1 * v1 + c2 * v2\n",
    "\n",
    "print(f\"{c1}*v1 + {c2}*v2 = {reconstructed_v3}\")\n",
    "print(f\"계산 결과는 v3와 동일한가? {np.array_equal(v3, reconstructed_v3)}\")\n",
    "print(\"\\n따라서, 벡터 v3는 v1과 v2에 선형적으로 종속되어 있다.\")"
   ]
  },
  {
   "cell_type": "markdown",
   "metadata": {},
   "source": [
    "#### 선형 종속과 행렬식(Determinant)\n",
    "\n",
    "정방행렬을 구성하는 열벡터(또는 행벡터)들이 선형 종속 관계에 있으면, 그 행렬의 행렬식(Determinant)은 0이 된다. 이는 행렬이 나타내는 변환이 공간을 낮은 차원으로 '납작하게' 만든다는 의미이며, 역행렬이 존재하지 않는다는 뜻이기도 하다.\n",
    "\n",
    "예를 들어, 두 2차원 벡터 `v1 = [1, 2]` 와 `v_dependent = [2, 4]` 는 선형 종속이다 (`v_dependent = 2 * v1`). 이 두 벡터로 행렬을 만들면 행렬식은 0이 된다."
   ]
  },
  {
   "cell_type": "code",
   "execution_count": 3,
   "metadata": {},
   "outputs": [
    {
     "name": "stdout",
     "output_type": "stream",
     "text": [
      "선형 종속 벡터로 만든 행렬:\n",
      "[[1 2]\n",
      " [2 4]]\n",
      "\n",
      "행렬식 값: 0.0\n",
      "\n",
      "행렬식의 값이 0이므로, 행렬의 열벡터들은 선형 종속이다.\n"
     ]
    }
   ],
   "source": [
    "# 선형 종속인 두 벡터로 구성된 행렬\n",
    "v_dependent = np.array([2, 4]) # v1의 2배인 벡터\n",
    "matrix = np.array([v1, v_dependent])\n",
    "\n",
    "# 행렬식 계산\n",
    "determinant = np.linalg.det(matrix)\n",
    "\n",
    "print(f\"선형 종속 벡터로 만든 행렬:\\n{matrix}\")\n",
    "print(f\"\\n행렬식 값: {determinant:.1f}\")\n",
    "print(\"\\n행렬식의 값이 0이므로, 행렬의 열벡터들은 선형 종속이다.\")"
   ]
  },
  {
   "cell_type": "markdown",
   "metadata": {},
   "source": [
    "#### 요약"
   ]
  },
  {
   "cell_type": "markdown",
   "metadata": {},
   "source": [
    "선형 종속은 벡터 집합 내에 다른 벡터들의 조합으로 대체 가능한 중복 벡터가 포함되어 있음을 의미하는 상태이다."
   ]
  }
 ],
 "metadata": {
  "kernelspec": {
   "display_name": "venv (3.11.9)",
   "language": "python",
   "name": "python3"
  },
  "language_info": {
   "codemirror_mode": {
    "name": "ipython",
    "version": 3
   },
   "file_extension": ".py",
   "mimetype": "text/x-python",
   "name": "python",
   "nbconvert_exporter": "python",
   "pygments_lexer": "ipython3",
   "version": "3.11.9"
  }
 },
 "nbformat": 4,
 "nbformat_minor": 4
}

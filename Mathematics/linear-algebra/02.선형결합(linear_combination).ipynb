{
 "cells": [
  {
   "cell_type": "markdown",
   "metadata": {},
   "source": [
    "## 선형대수학의 조합 예술: 선형 결합(Linear Combination)"
   ]
  },
  {
   "cell_type": "markdown",
   "metadata": {},
   "source": [
    "선형 결합은 선형대수학에서 가장 기본적이면서도 강력한 개념 중 하나이다. 이는 주어진 벡터들에 각각 스칼라(상수)를 곱한 뒤, 그 결과들을 모두 더하여 새로운 벡터를 만드는 과정을 의미한다. 이 간단한 연산을 통해 벡터 공간 안의 모든 점을 표현하거나, 여러 벡터들의 관계를 설명할 수 있다."
   ]
  },
  {
   "cell_type": "markdown",
   "metadata": {},
   "source": [
    "### 선형 결합의 정의\n",
    "\n",
    "벡터 $v_1, v_2, \\dots, v_n$ 와 스칼라 $c_1, c_2, \\dots, c_n$ 가 주어졌을 때, 이들의 선형 결합으로 만들어진 벡터 **w**는 다음과 같이 정의된다.\n",
    "\n",
    "**w** = $c_1v_1 + c_2v_2 + \\dots + c_nv_n$\n",
    "\n",
    "여기서 $c_1, c_2, \\dots$ 는 각 벡터의 크기와 방향에 영향을 주는 '가중치' 역할을 한다."
   ]
  },
  {
   "cell_type": "markdown",
   "metadata": {},
   "source": [
    "### 파이썬으로 선형 결합 계산하기\n",
    "\n",
    "두 개의 2차원 벡터를 이용해 선형 결합을 직접 계산해본다."
   ]
  },
  {
   "cell_type": "code",
   "execution_count": 4,
   "metadata": {},
   "outputs": [
    {
     "name": "stdout",
     "output_type": "stream",
     "text": [
      "벡터 v1: [1 2]\n",
      "벡터 v2: [ 3 -1]\n",
      "스칼라 c1: 2\n",
      "스칼라 c2: -3\n",
      "--------------------\n"
     ]
    }
   ],
   "source": [
    "import numpy as np\n",
    "\n",
    "# 두 개의 벡터와 두 개의 스칼라 정의\n",
    "v1 = np.array([1, 2])\n",
    "v2 = np.array([3, -1])\n",
    "\n",
    "c1 = 2\n",
    "c2 = -3\n",
    "\n",
    "print(f\"벡터 v1: {v1}\")\n",
    "print(f\"벡터 v2: {v2}\")\n",
    "print(f\"스칼라 c1: {c1}\")\n",
    "print(f\"스칼라 c2: {c2}\")\n",
    "print(\"-\" * 20)"
   ]
  },
  {
   "cell_type": "markdown",
   "metadata": {},
   "source": [
    "#### 선형 결합 계산"
   ]
  },
  {
   "cell_type": "code",
   "execution_count": 5,
   "metadata": {},
   "outputs": [
    {
     "name": "stdout",
     "output_type": "stream",
     "text": [
      "c1*v1 = 2 * [1 2] = [2 4]\n",
      "c2*v2 = -3 * [ 3 -1] = [-9  3]\n",
      "w = [2 4] + [-9  3] = [-7  7]\n",
      "\n",
      "선형 결합 결과 벡터 w: [-7  7]\n"
     ]
    }
   ],
   "source": [
    "# 선형 결합 w = c1*v1 + c2*v2 계산\n",
    "w = c1 * v1 + c2 * v2\n",
    "\n",
    "print(f\"c1*v1 = {c1} * {v1} = {c1*v1}\")\n",
    "print(f\"c2*v2 = {c2} * {v2} = {c2*v2}\")\n",
    "print(f\"w = {c1*v1} + {c2*v2} = {w}\")\n",
    "\n",
    "print(f\"\\n선형 결합 결과 벡터 w: {w}\")"
   ]
  },
  {
   "cell_type": "markdown",
   "metadata": {},
   "source": [
    "### 기하학적 의미와 생성(Span)\n",
    "\n",
    "선형 결합은 기하학적으로 벡터들을 늘리거나 줄이고(스칼라 곱), 그 벡터들을 평행사변형 법칙에 따라 더하는 것과 같다. \n",
    "\n",
    "주어진 벡터들의 **모든 가능한** 선형 결합의 집합을 **생성(Span)**이라고 한다. 예를 들어, 서로 다른 방향을 가진 두 2차원 벡터의 Span은 2차원 평면 전체가 된다. 이는 두 벡터와 어떤 스칼라 값이든 조합하여 평면 위의 모든 점(벡터)을 만들어 낼 수 있음을 의미한다."
   ]
  },
  {
   "cell_type": "markdown",
   "metadata": {},
   "source": [
    "#### 예시: 표준 기저 벡터(Standard Basis Vectors)의 선형 결합\n",
    "2차원 평면의 표준 기저 벡터 $\\hat{i} = [1, 0]$ 와 $\\hat{j} = [0, 1]$ 를 사용하면, 평면 위의 모든 벡터를 이 둘의 선형 결합으로 표현할 수 있다."
   ]
  },
  {
   "cell_type": "code",
   "execution_count": 6,
   "metadata": {},
   "outputs": [
    {
     "name": "stdout",
     "output_type": "stream",
     "text": [
      "목표 벡터: [5 3]\n",
      "5*[1 0] + 3*[0 1] = [5 3]\n",
      "\n",
      "두 벡터가 일치하는가? True\n"
     ]
    }
   ],
   "source": [
    "# 표준 기저 벡터\n",
    "i_hat = np.array([1, 0])\n",
    "j_hat = np.array([0, 1])\n",
    "\n",
    "# 목표 벡터\n",
    "target_vector = np.array([5, 3])\n",
    "\n",
    "# 목표 벡터에 맞는 스칼라 값(계수) 설정\n",
    "c_i = 5\n",
    "c_j = 3\n",
    "\n",
    "# 표준 기저 벡터의 선형 결합으로 목표 벡터 표현\n",
    "reconstructed_vector = c_i * i_hat + c_j * j_hat\n",
    "\n",
    "print(f\"목표 벡터: {target_vector}\")\n",
    "print(f\"{c_i}*{i_hat} + {c_j}*{j_hat} = {reconstructed_vector}\")\n",
    "print(f\"\\n두 벡터가 일치하는가? {np.array_equal(target_vector, reconstructed_vector)}\")"
   ]
  },
  {
   "cell_type": "markdown",
   "metadata": {},
   "source": [
    "#### 요약"
   ]
  },
  {
   "cell_type": "markdown",
   "metadata": {},
   "source": [
    "선형 결합은 주어진 벡터들을 스칼라 배하여 더함으로써 새로운 벡터를 만들어내는 기본적인 벡터 조합 방법이다."
   ]
  }
 ],
 "metadata": {
  "kernelspec": {
   "display_name": "venv (3.11.9)",
   "language": "python",
   "name": "python3"
  },
  "language_info": {
   "codemirror_mode": {
    "name": "ipython",
    "version": 3
   },
   "file_extension": ".py",
   "mimetype": "text/x-python",
   "name": "python",
   "nbconvert_exporter": "python",
   "pygments_lexer": "ipython3",
   "version": "3.11.9"
  }
 },
 "nbformat": 4,
 "nbformat_minor": 4
}

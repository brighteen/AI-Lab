{
 "cells": [
  {
   "cell_type": "markdown",
   "metadata": {},
   "source": [
    "## 선형대수학에서의 선형(Linear)이란?\n",
    "\n",
    "선형(Linear) 또는 선형성(Linearity)은 어떤 변환(Transformation)이 벡터 공간의 구조를 보존하는 성질을 의미함. 즉, 직선을 직선으로, 원점을 원점으로 유지하는 변환임.\n",
    "\n",
    "이 성질은 다음 두 가지 조건으로 정의됨:\n",
    "\n",
    "1.  **가산성 (Additivity)**: `T(v + w) = T(v) + T(w)`\n",
    "    - 두 벡터의 합을 변환한 결과는 각 벡터를 변환한 후 더한 결과와 같음.\n",
    "2.  **동차성 (Homogeneity)**: `T(c * v) = c * T(v)`\n",
    "    - 벡터에 스칼라(상수)를 곱한 후 변환한 결과는 벡터를 변환한 후 스칼라를 곱한 결과와 같음."
   ]
  },
  {
   "cell_type": "code",
   "execution_count": null,
   "metadata": {},
   "outputs": [],
   "source": [
    "# 선형 변환(Linear Transformation)의 예시 코드\n",
    "# 선형 변환은 벡터의 덧셈과 스칼라 곱셈 연산을 보존함.\n",
    "# 이 예제에서는 2차원 벡터를 입력받아 특정 행렬을 곱해 변환하는 함수를 통해 선형성의 두 조건을 확인.\n",
    "\n",
    "import numpy as np\n",
    "\n",
    "# 선형 변환 함수 정의 (예: 행렬 곱)\n",
    "# T(v) = A * v\n",
    "A = np.array([[2, 0],\n",
    "              [0, 3]])\n",
    "def linear_transformation(v):\n",
    "    # 입력 벡터 v와 행렬 A의 곱을 반환\n",
    "    return A @ v\n",
    "\n",
    "# 테스트를 위한 두 벡터와 스칼라 값 정의\n",
    "v1 = np.array([1, 2])\n",
    "v2 = np.array([3, -1])\n",
    "c = 5 # 스칼라\n",
    "\n",
    "print(f\"벡터 v1: {v1}\")\n",
    "print(f\"벡터 v2: {v2}\")\n",
    "print(f\"스칼라 c: {c}\\n\")\n",
    "\n",
    "# 1. 가산성(Additivity) 확인: T(v1 + v2) == T(v1) + T(v2)\n",
    "print(\"--- 1. 가산성 확인 ---\")\n",
    "# 먼저 두 벡터를 더하고 변환 적용\n",
    "result_add_first = linear_transformation(v1 + v2)\n",
    "print(f\"T(v1 + v2) 결과: {result_add_first}\")\n",
    "\n",
    "# 각 벡터를 변환한 후 더함\n",
    "result_transform_first = linear_transformation(v1) + linear_transformation(v2)\n",
    "print(f\"T(v1) + T(v2) 결과: {result_transform_first}\")\n",
    "\n",
    "# 두 결과가 같은지 비교\n",
    "print(f\"가산성 만족 여부: {np.array_equal(result_add_first, result_transform_first)}\\n\")\n",
    "\n",
    "# 2. 동차성(Homogeneity) 확인: T(c * v1) == c * T(v1)\n",
    "print(\"--- 2. 동차성 확인 ---\")\n",
    "# 벡터에 스칼라를 곱하고 변환 적용\n",
    "result_scale_first = linear_transformation(c * v1)\n",
    "print(f\"T(c * v1) 결과: {result_scale_first}\")\n",
    "\n",
    "# 벡터를 변환하고 스칼라를 곱함\n",
    "result_transform_first_scale = c * linear_transformation(v1)\n",
    "print(f\"c * T(v1) 결과: {result_transform_first_scale}\")\n",
    "\n",
    "# 두 결과가 같은지 비교\n",
    "print(f\"동차성 만족 여부: {np.array_equal(result_scale_first, result_transform_first_scale)}\")"
   ]
  },
  {
   "cell_type": "markdown",
   "metadata": {},
   "source": [
    "### 비선형 변환(Non-linear Transformation)의 예시\n",
    "\n",
    "반면, 비선형 변환은 위의 두 조건 중 하나라도 만족하지 않음. 예를 들어, 벡터의 각 원소를 제곱하는 변환은 비선형임. \n",
    "\n",
    "이러한 변환은 직선을 곡선으로 바꾸는 등 벡터 공간의 구조를 왜곡시킴."
   ]
  },
  {
   "cell_type": "code",
   "execution_count": null,
   "metadata": {},
   "outputs": [],
   "source": [
    "# 비선형 변환 함수 정의 (예: 각 원소 제곱)\n",
    "def nonlinear_transformation(v):\n",
    "    # 입력 벡터 v의 각 원소를 제곱하여 반환\n",
    "    return v ** 2\n",
    "\n",
    "# 가산성(Additivity) 확인: T(v1 + v2) == T(v1) + T(v2)\n",
    "print(\"--- 비선형 변환의 가산성 확인 ---\")\n",
    "# 먼저 두 벡터를 더하고 변환 적용\n",
    "result_add_first_nl = nonlinear_transformation(v1 + v2)\n",
    "print(f\"T(v1 + v2) 결과: {result_add_first_nl}\")\n",
    "\n",
    "# 각 벡터를 변환한 후 더함\n",
    "result_transform_first_nl = nonlinear_transformation(v1) + nonlinear_transformation(v2)\n",
    "print(f\"T(v1) + T(v2) 결과: {result_transform_first_nl}\")\n",
    "\n",
    "# 두 결과가 다른 것을 확인 (가산성 불만족)\n",
    "print(f\"가산성 만족 여부: {np.array_equal(result_add_first_nl, result_transform_first_nl)}\\n\")\n",
    "\n",
    "# 흔히 발생하는 실수: T(0) != 0 이면 비선형임\n",
    "# 선형 변환은 항상 원점(영벡터)을 원점으로 보내야 함: T(0) = 0\n",
    "# 예를 들어, 벡터에 상수를 더하는 변환 T(v) = v + b (b != 0)는 비선형임.\n",
    "b = np.array([1, 1])\n",
    "def affine_transformation(v):\n",
    "    return v + b\n",
    "\n",
    "zero_vector = np.array([0, 0])\n",
    "print(f\"T(0) = {affine_transformation(zero_vector)}, 따라서 원점을 이동시키므로 비선형임.\")"
   ]
  },
  {
   "cell_type": "code",
   "execution_count": null,
   "metadata": {},
   "outputs": [],
   "source": [
    "print(\"요약: 선형성이란 함수의 입력에 대한 덧셈과 스칼라 곱셈 연산이 함수 외부에서도 동일하게 유지되는 성질임.\")"
   ]
  }
 ],
 "metadata": {
  "kernelspec": {
   "display_name": "Python 3",
   "language": "python",
   "name": "python3"
  },
  "language_info": {
   "codemirror_mode": {
    "name": "ipython",
    "version": 3
   },
   "file_extension": ".py",
   "mimetype": "text/x-python",
   "name": "python",
   "nbconvert_exporter": "python",
   "pygments_lexer": "ipython3",
   "version": "3.9.7"
  }
 },
 "nbformat": 4,
 "nbformat_minor": 2
}

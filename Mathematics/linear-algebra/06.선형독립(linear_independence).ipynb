{
 "cells": [
  {
   "cell_type": "markdown",
   "metadata": {},
   "source": [
    "## 벡터 공간의 효율성: 선형 독립(Linear Independence)"
   ]
  },
  {
   "cell_type": "markdown",
   "metadata": {},
   "source": [
    "선형 독립은 어떤 벡터 집합에 속한 그 어떤 벡터도 나머지 다른 벡터들의 선형 결합으로 표현될 수 없는 상태를 의미한다. 이는 집합의 모든 벡터가 고유한 방향 정보를 제공하며, 불필요하거나 중복되는 벡터가 하나도 없다는 뜻이다. 선형 독립은 벡터 공간의 기저(Basis)가 되기 위한 필수적인 조건이다."
   ]
  },
  {
   "cell_type": "markdown",
   "metadata": {},
   "source": [
    "### 선형 독립의 정의\n",
    "\n",
    "벡터 집합 ${v_1, v_2, \\dots, v_n}$이 선형 독립이라는 것은, 다음 방정식을 만족시키는 스칼라 $c_1, c_2, \\dots, c_n$이 **오직 $c_1 = c_2 = \\dots = c_n = 0$ 뿐일 때**를 의미한다.\n",
    "\n",
    "$c_1v_1 + c_2v_2 + \\dots + c_nv_n = \\mathbf{0}$ (영벡터)\n",
    "\n",
    "이는 영벡터를 만들기 위한 유일한 방법이 모든 벡터에 0을 곱하는 '자명한 해(trivial solution)'밖에 없다는 의미이다. 즉, 어떤 벡터 하나를 다른 벡터들의 조합으로 표현하는 것이 불가능하다는 뜻이다."
   ]
  },
  {
   "cell_type": "markdown",
   "metadata": {},
   "source": [
    "### 파이썬으로 선형 독립 확인하기\n",
    "\n",
    "정방행렬을 구성하는 벡터들이 선형 독립인지 확인하는 가장 간단한 방법 중 하나는 행렬식(Determinant)을 계산하는 것이다.\n",
    "- **행렬식 ≠ 0**: 벡터들은 선형 독립이다. (역행렬이 존재하며, 공간을 찌그러뜨리지 않음)\n",
    "- **행렬식 = 0**: 벡터들은 선형 종속이다."
   ]
  },
  {
   "cell_type": "code",
   "execution_count": 1,
   "metadata": {},
   "outputs": [
    {
     "name": "stdout",
     "output_type": "stream",
     "text": [
      "벡터 v1: [2 1]\n",
      "벡터 v2: [1 3]\n",
      "--------------------\n"
     ]
    }
   ],
   "source": [
    "import numpy as np\n",
    "\n",
    "# 2차원 공간의 두 벡터 정의\n",
    "v1 = np.array([2, 1])\n",
    "v2 = np.array([1, 3]) # v1과 다른 방향을 가리키는 벡터\n",
    "\n",
    "print(f\"벡터 v1: {v1}\")\n",
    "print(f\"벡터 v2: {v2}\")\n",
    "print(\"-\" * 20)"
   ]
  },
  {
   "cell_type": "markdown",
   "metadata": {},
   "source": [
    "#### 행렬식을 이용한 선형 독립 확인"
   ]
  },
  {
   "cell_type": "code",
   "execution_count": 2,
   "metadata": {},
   "outputs": [
    {
     "name": "stdout",
     "output_type": "stream",
     "text": [
      "벡터들로 구성한 행렬:\n",
      "[[2 1]\n",
      " [1 3]]\n",
      "\n",
      "행렬식 값: 5.0\n",
      "\n",
      "행렬식이 0이 아니므로, 벡터 v1과 v2는 선형 독립이다.\n"
     ]
    }
   ],
   "source": [
    "# 두 벡터를 열벡터로 하는 행렬 생성\n",
    "# np.array([v1, v2]).T 는 v1과 v2를 열로 쌓는다.\n",
    "matrix = np.array([v1, v2]).T\n",
    "\n",
    "# 행렬식 계산\n",
    "determinant = np.linalg.det(matrix)\n",
    "\n",
    "print(f\"벡터들로 구성한 행렬:\\n{matrix}\")\n",
    "print(f\"\\n행렬식 값: {determinant:.1f}\")\n",
    "\n",
    "if determinant != 0:\n",
    "    print(\"\\n행렬식이 0이 아니므로, 벡터 v1과 v2는 선형 독립이다.\")\n",
    "else:\n",
    "    print(\"\\n행렬식이 0이므로, 벡터 v1과 v2는 선형 종속이다.\")"
   ]
  },
  {
   "cell_type": "markdown",
   "metadata": {},
   "source": [
    "### 선형 독립과 기저(Basis)\n",
    "\n",
    "선형 독립은 '기저'의 두 가지 조건 중 하나이다.\n",
    "\n",
    "1.  **선형 독립**: 기저 벡터들은 서로 중복되지 않아야 한다.\n",
    "2.  **생성(Span)**: 기저 벡터들은 공간 전체를 생성할 수 있어야 한다.\n",
    "\n",
    "N차원 공간에서, N개의 선형 독립인 벡터들은 항상 그 공간 전체를 생성하며, 따라서 그 공간의 기저가 된다. 위 예시의 `v1`과 `v2`는 2차원 평면의 기저가 될 수 있다."
   ]
  },
  {
   "cell_type": "markdown",
   "metadata": {},
   "source": [
    "#### 요약"
   ]
  },
  {
   "cell_type": "markdown",
   "metadata": {},
   "source": [
    "선형 독립은 벡터 집합의 모든 벡터가 서로 대체 불가능한 고유한 정보를 제공하는, 중복 없는 상태를 의미한다."
   ]
  }
 ],
 "metadata": {
  "kernelspec": {
   "display_name": "venv (3.11.9)",
   "language": "python",
   "name": "python3"
  },
  "language_info": {
   "codemirror_mode": {
    "name": "ipython",
    "version": 3
   },
   "file_extension": ".py",
   "mimetype": "text/x-python",
   "name": "python",
   "nbconvert_exporter": "python",
   "pygments_lexer": "ipython3",
   "version": "3.11.9"
  }
 },
 "nbformat": 4,
 "nbformat_minor": 4
}

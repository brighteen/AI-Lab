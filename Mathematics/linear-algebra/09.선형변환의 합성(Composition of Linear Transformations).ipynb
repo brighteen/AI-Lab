{
 "cells": [
  {
   "cell_type": "markdown",
   "metadata": {},
   "source": [
    "## 선형 변환의 연속 적용: 변환의 합성(Composition)"
   ]
  },
  {
   "cell_type": "markdown",
   "metadata": {},
   "source": [
    "선형 변환의 합성은 하나의 변환을 적용한 결과에 또 다른 변환을 연속해서 적용하는 과정을 의미한다. 여러 단계의 기하학적 변형을 하나의 통합된 변환으로 만들 수 있게 해준다. 이 합성된 변환 역시 또 다른 하나의 선형 변환이며, 이는 각 개별 변환에 해당하는 행렬들을 순서대로 곱한 것과 같다."
   ]
  },
  {
   "cell_type": "markdown",
   "metadata": {},
   "source": [
    "### 합성 변환과 행렬 곱셈\n",
    "\n",
    "벡터 `v`에 변환 T1을 적용하고, 그 결과에 변환 T2를 적용하는 합성 변환은 $T_2 \\circ T_1 = T_2(T_1(v))$ 로 표현된다.\n",
    "\n",
    "만약 변환 T1에 해당하는 행렬이 A1이고, T2에 해당하는 행렬이 A2라면, 합성 변환 $(T_2 \\circ T_1)$에 해당하는 행렬은 **A2 @ A1** 이다.\n",
    "\n",
    "**$T_2(T_1(v)) = (A_2 A_1) v$**\n",
    "\n",
    "**핵심**: 변환이 적용되는 순서(T1 먼저, T2 나중)와 행렬이 곱해지는 순서(A2가 왼쪽에, A1이 오른쪽에)는 반대이다. 이는 벡터 `v`에 가까운 행렬(A1)이 먼저 계산되기 때문이다."
   ]
  },
  {
   "cell_type": "markdown",
   "metadata": {},
   "source": [
    "### 파이썬으로 합성 변환 시각화하기\n",
    "\n",
    "다음 두 가지 변환을 순서대로 적용하는 합성을 시각화해본다.\n",
    "1.  **T1**: 공간을 반시계 방향으로 90도 회전시키는 변환.\n",
    "2.  **T2**: 수평 방향으로 전단(shear)하는 변환."
   ]
  },
  {
   "cell_type": "code",
   "execution_count": 1,
   "metadata": {},
   "outputs": [
    {
     "name": "stdout",
     "output_type": "stream",
     "text": [
      "회전 행렬 A1:\n",
      "[[ 0. -1.]\n",
      " [ 1.  0.]]\n",
      "\n",
      "전단 행렬 A2:\n",
      "[[1. 1.]\n",
      " [0. 1.]]\n"
     ]
    }
   ],
   "source": [
    "import numpy as np\n",
    "import matplotlib.pyplot as plt\n",
    "from matplotlib.patches import Polygon\n",
    "\n",
    "# 시각화를 위한 설정\n",
    "plt.style.use('seaborn-v0_8-whitegrid')\n",
    "plt.rcParams['font.family'] = 'Malgun Gothic' # 한글 폰트 설정\n",
    "plt.rcParams['axes.unicode_minus'] = False # 마이너스 부호 깨짐 방지\n",
    "\n",
    "# 변환할 사각형 정의\n",
    "square = np.array([[0,0], [1,0], [1,1], [0,1]])\n",
    "\n",
    "# 변환 1 (T1): 90도 회전 행렬 A1\n",
    "angle = np.pi / 2 # 90도\n",
    "A1_rotation = np.array([\n",
    "    [np.cos(angle), -np.sin(angle)],\n",
    "    [np.sin(angle), np.cos(angle)]\n",
    "])\n",
    "\n",
    "# 변환 2 (T2): 수평 전단 행렬 A2\n",
    "k = 1.0\n",
    "A2_shear = np.array([\n",
    "    [1, k],\n",
    "    [0, 1]\n",
    "])\n",
    "\n",
    "print(f\"회전 행렬 A1:\\n{np.round(A1_rotation)}\")\n",
    "print(f\"\\n전단 행렬 A2:\\n{A2_shear}\")"
   ]
  },
  {
   "cell_type": "markdown",
   "metadata": {},
   "source": [
    "#### 1. 변환을 순차적으로 적용"
   ]
  },
  {
   "cell_type": "code",
   "execution_count": 2,
   "metadata": {},
   "outputs": [],
   "source": [
    "# 단계 1: 회전 변환 적용\n",
    "rotated_square = (A1_rotation @ square.T).T\n",
    "\n",
    "# 단계 2: 회전된 결과에 전단 변환 적용\n",
    "final_square_sequential = (A2_shear @ rotated_square.T).T"
   ]
  },
  {
   "cell_type": "markdown",
   "metadata": {},
   "source": [
    "#### 2. 합성 행렬을 한 번에 적용"
   ]
  },
  {
   "cell_type": "code",
   "execution_count": 3,
   "metadata": {},
   "outputs": [
    {
     "name": "stdout",
     "output_type": "stream",
     "text": [
      "합성 행렬 (A2 @ A1):\n",
      "[[ 1. -1.]\n",
      " [ 1.  0.]]\n",
      "\n",
      "순차 적용 결과와 합성 행렬 적용 결과가 동일한가?\n",
      "True\n"
     ]
    }
   ],
   "source": [
    "# 합성 변환 행렬 계산 (A_composite = A2 @ A1)\n",
    "A_composite = A2_shear @ A1_rotation\n",
    "\n",
    "# 합성 행렬을 원본 사각형에 바로 적용\n",
    "final_square_composite = (A_composite @ square.T).T\n",
    "\n",
    "print(f\"합성 행렬 (A2 @ A1):\\n{np.round(A_composite)}\")\n",
    "print(\"\\n순차 적용 결과와 합성 행렬 적용 결과가 동일한가?\")\n",
    "print(np.allclose(final_square_sequential, final_square_composite))"
   ]
  },
  {
   "cell_type": "markdown",
   "metadata": {},
   "source": [
    "#### 시각화로 결과 비교"
   ]
  },
  {
   "cell_type": "code",
   "execution_count": 4,
   "metadata": {},
   "outputs": [
    {
     "data": {
      "image/png": "[encoded data removed]",
      "text/plain": [
       "<Figure size 1000x500 with 2 Axes>"
      ]
     },
     "metadata": {},
     "output_type": "display_data"
    }
   ],
   "source": [
    "plt.figure(figsize=(10, 5))\n",
    "\n",
    "# 1. 순차 변환 과정\n",
    "plt.subplot(1, 2, 1)\n",
    "plt.gca().add_patch(Polygon(square, fc='lightgray', ec='gray', label='원본'))\n",
    "plt.gca().add_patch(Polygon(rotated_square, fc='lightblue', ec='blue', label='1. 회전(T1)'))\n",
    "plt.gca().add_patch(Polygon(final_square_sequential, fc='lightcoral', ec='red', label='2. 전단(T2)'))\n",
    "plt.title('순차적으로 변환 적용')\n",
    "plt.grid(True)\n",
    "plt.legend()\n",
    "plt.gca().set_aspect('equal', adjustable='box')\n",
    "plt.xlim(-2, 2); plt.ylim(-1, 3)\n",
    "\n",
    "# 2. 합성 변환 결과\n",
    "plt.subplot(1, 2, 2)\n",
    "plt.gca().add_patch(Polygon(square, fc='lightgray', ec='gray', label='원본'))\n",
    "plt.gca().add_patch(Polygon(final_square_composite, fc='lightcoral', ec='red', label='합성 변환 (T2 o T1)'))\n",
    "plt.title('합성 행렬로 한번에 변환')\n",
    "plt.grid(True)\n",
    "plt.legend()\n",
    "plt.gca().set_aspect('equal', adjustable='box')\n",
    "plt.xlim(-2, 2); plt.ylim(-1, 3)\n",
    "\n",
    "plt.tight_layout()\n",
    "plt.show()"
   ]
  },
  {
   "cell_type": "markdown",
   "metadata": {},
   "source": [
    "왼쪽 그래프는 변환을 단계별로 보여주며, 오른쪽 그래프는 두 행렬을 곱하여 만든 단 하나의 '합성 행렬'로 동일한 최종 결과를 얻는 것을 보여준다. 이처럼 행렬 곱셈은 선형 변환의 합성을 표현하는 매우 효율적인 방법이다."
   ]
  },
  {
   "cell_type": "markdown",
   "metadata": {},
   "source": [
    "#### 요약"
   ]
  },
  {
   "cell_type": "markdown",
   "metadata": {},
   "source": [
    "선형 변환의 합성은 여러 변환을 연속적으로 적용하는 과정이며, 이는 각 변환 행렬의 곱으로 표현되는 단일 선형 변환과 같다."
   ]
  },
  {
   "cell_type": "markdown",
   "metadata": {},
   "source": [
    "선형 변환의 합성은 행렬곱과 동치"
   ]
  }
 ],
 "metadata": {
  "kernelspec": {
   "display_name": "venv (3.11.9)",
   "language": "python",
   "name": "python3"
  },
  "language_info": {
   "codemirror_mode": {
    "name": "ipython",
    "version": 3
   },
   "file_extension": ".py",
   "mimetype": "text/x-python",
   "name": "python",
   "nbconvert_exporter": "python",
   "pygments_lexer": "ipython3",
   "version": "3.11.9"
  }
 },
 "nbformat": 4,
 "nbformat_minor": 4
}

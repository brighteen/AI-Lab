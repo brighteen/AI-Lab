{
 "cells": [
  {
   "cell_type": "markdown",
   "metadata": {},
   "source": [
    "## 선형대수학의 기본 단위: 벡터(Vector)"
   ]
  },
  {
   "cell_type": "markdown",
   "metadata": {},
   "source": [
    "선형대수학에서 벡터는 크기와 방향을 가진 기하학적 객체일 뿐만 아니라, 숫자를 순서대로 나열한 리스트로 정의된다. 벡터는 공간에서의 한 점(Point) 또는 원점에서 그 점을 향하는 화살표로 시각화할 수 있다. 이러한 벡터들은 벡터 공간(Vector Space)이라는 집합의 원소가 되어, 선형대수학의 다양한 연산과 변환의 기본 단위로 사용된다."
   ]
  },
  {
   "cell_type": "markdown",
   "metadata": {},
   "source": [
    "### 벡터의 표현과 기본 연산\n",
    "\n",
    "벡터는 보통 굵은 글씨체( **v** )나 위에 화살표를 붙여( $\\vec{v}$ ) 표현한다. 파이썬에서는 리스트나 NumPy 배열을 사용해 벡터를 나타낼 수 있다.\n",
    "\n",
    "1.  **벡터 덧셈**: 두 벡터의 각 성분(element)을 더한다. 기하학적으로는 한 벡터의 끝에 다른 벡터를 이어 붙인 것과 같다(평행사변형 법칙).\n",
    "    - `v + w = [v1+w1, v2+w2, ...]`\n",
    "2.  **스칼라 곱셈**: 벡터의 각 성분에 스칼라(상수)를 곱한다. 벡터의 방향은 그대로이거나 반대가 되고, 크기가 스칼라 배만큼 변한다.\n",
    "    - `c * v = [c*v1, c*v2, ...]`"
   ]
  },
  {
   "cell_type": "markdown",
   "metadata": {},
   "source": [
    "### 파이썬으로 벡터 연산하기\n",
    "\n",
    "NumPy 라이브러리를 사용하면 벡터 연산을 매우 직관적으로 수행할 수 있다."
   ]
  },
  {
   "cell_type": "code",
   "execution_count": 1,
   "metadata": {},
   "outputs": [
    {
     "name": "stdout",
     "output_type": "stream",
     "text": [
      "벡터 v: [1 2]\n",
      "벡터 w: [3 1]\n",
      "스칼라 c: 3\n",
      "--------------------\n"
     ]
    }
   ],
   "source": [
    "import numpy as np\n",
    "\n",
    "# 2차원 벡터 정의\n",
    "v = np.array([1, 2])\n",
    "w = np.array([3, 1])\n",
    "\n",
    "# 스칼라 값 정의\n",
    "c = 3\n",
    "\n",
    "print(f\"벡터 v: {v}\")\n",
    "print(f\"벡터 w: {w}\")\n",
    "print(f\"스칼라 c: {c}\")\n",
    "print(\"-\" * 20)"
   ]
  },
  {
   "cell_type": "markdown",
   "metadata": {},
   "source": [
    "#### 벡터 덧셈"
   ]
  },
  {
   "cell_type": "code",
   "execution_count": 2,
   "metadata": {},
   "outputs": [
    {
     "name": "stdout",
     "output_type": "stream",
     "text": [
      "v + w = [1 2] + [3 1] = [4 3]\n"
     ]
    }
   ],
   "source": [
    "# 벡터 덧셈 연산\n",
    "vector_add = v + w\n",
    "\n",
    "print(f\"v + w = {v} + {w} = {vector_add}\")"
   ]
  },
  {
   "cell_type": "markdown",
   "metadata": {},
   "source": [
    "#### 스칼라 곱셈"
   ]
  },
  {
   "cell_type": "code",
   "execution_count": 3,
   "metadata": {},
   "outputs": [
    {
     "name": "stdout",
     "output_type": "stream",
     "text": [
      "c * v = 3 * [1 2] = [3 6]\n"
     ]
    }
   ],
   "source": [
    "# 스칼라 곱셈 연산\n",
    "scalar_multiply = c * v\n",
    "\n",
    "print(f\"c * v = {c} * {v} = {scalar_multiply}\")"
   ]
  },
  {
   "cell_type": "markdown",
   "metadata": {},
   "source": [
    "### 벡터의 내적(Dot Product)과 노름(Norm)\n",
    "\n",
    "- **내적(Dot Product)**: 두 벡터가 얼마나 '같은 방향을 향하는지'를 나타내는 값. 각 성분의 곱을 모두 더해 계산한다. 결과는 스칼라 값이다.\n",
    "    - `v · w = v1*w1 + v2*w2 + ...`\n",
    "- **노름(Norm)**: 벡터의 크기 또는 길이를 의미한다. L2 노름(유클리드 거리)이 가장 흔하게 사용된다.\n",
    "    - `||v|| = sqrt(v1^2 + v2^2 + ...)`"
   ]
  },
  {
   "cell_type": "code",
   "execution_count": 4,
   "metadata": {},
   "outputs": [
    {
     "name": "stdout",
     "output_type": "stream",
     "text": [
      "v · w (내적): 5\n",
      "||v|| (노름): 2.2361\n"
     ]
    }
   ],
   "source": [
    "# 벡터 내적 계산\n",
    "dot_product = np.dot(v, w)\n",
    "\n",
    "# 벡터 v의 L2 노름(크기) 계산\n",
    "norm_v = np.linalg.norm(v)\n",
    "\n",
    "print(f\"v · w (내적): {dot_product}\")\n",
    "print(f\"||v|| (노름): {norm_v:.4f}\") # 소수점 4자리까지 표현"
   ]
  },
  {
   "cell_type": "markdown",
   "metadata": {},
   "source": [
    "#### 흔히 하는 실수\n",
    "파이썬의 일반 리스트는 벡터 연산을 지원하지 않는다. `[1, 2] + [3, 1]`은 `[1, 2, 3, 1]`이라는 리스트 연결을 수행하므로, 수학적 벡터 연산을 위해서는 NumPy 배열을 사용하는 것이 필수적이다."
   ]
  },
  {
   "cell_type": "markdown",
   "metadata": {},
   "source": [
    "#### 요약"
   ]
  },
  {
   "cell_type": "markdown",
   "metadata": {},
   "source": [
    "벡터는 숫자를 순서대로 나열한 것으로, 선형대수학의 연산이 정의되는 가장 기본적인 대상이다."
   ]
  }
 ],
 "metadata": {
  "kernelspec": {
   "display_name": "venv (3.11.9)",
   "language": "python",
   "name": "python3"
  },
  "language_info": {
   "codemirror_mode": {
    "name": "ipython",
    "version": 3
   },
   "file_extension": ".py",
   "mimetype": "text/x-python",
   "name": "python",
   "nbconvert_exporter": "python",
   "pygments_lexer": "ipython3",
   "version": "3.11.9"
  }
 },
 "nbformat": 4,
 "nbformat_minor": 4
}

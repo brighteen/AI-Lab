{
 "cells": [
  {
   "cell_type": "markdown",
   "metadata": {},
   "source": [
    "## 선형대수학의 핵심: 선형성(Linearity)"
   ]
  },
  {
   "cell_type": "markdown",
   "metadata": {},
   "source": [
    "선형성(Linearity)은 입력값을 변화시켰을 때 출력이 예측 가능하게 변하는 성질을 의미한다. 선형대수학의 함수나 변환이 이 성질을 만족하기 위해서는 **가산성(Additivity)**과 **동차성(Homogeneity)**이라는 두 가지 조건을 반드시 만족해야 한다. 이 두 조건 덕분에 복잡한 문제를 작은 문제로 나누어 해결하고, 다시 합쳐 원래 문제의 답을 구할 수 있다."
   ]
  },
  {
   "cell_type": "markdown",
   "metadata": {},
   "source": [
    "### 선형성의 두 가지 조건\n",
    "\n",
    "1.  **가산성(Additivity)**: 두 입력의 합에 대한 출력이, 각 입력에 대한 출력의 합과 같다.\n",
    "    - `f(x + y) = f(x) + f(y)`\n",
    "\n",
    "2.  **동차성(Homogeneity, 비례성)**: 입력에 스칼라(상수)를 곱한 후의 출력이, 원래 출력에 그 스칼라를 곱한 것과 같다.\n",
    "    - `f(c * x) = c * f(x)`"
   ]
  },
  {
   "cell_type": "markdown",
   "metadata": {},
   "source": [
    "### 파이썬으로 선형성 확인하기\n",
    "\n",
    "이제 파이썬 코드를 통해 어떤 함수가 선형성을 만족하고, 어떤 함수가 만족하지 않는지 직접 확인해본다."
   ]
  },
  {
   "cell_type": "markdown",
   "metadata": {},
   "source": [
    "#### 예시 1: 선형 함수 `f(x) = 2x`"
   ]
  },
  {
   "cell_type": "code",
   "execution_count": 20,
   "metadata": {},
   "outputs": [
    {
     "name": "stdout",
     "output_type": "stream",
     "text": [
      "함수 f(x) = 2x\n",
      "------------------------------\n",
      "1. 가산성 테스트: f(x+y) = 16, f(x)+f(y) = 16\n",
      "   결과: 만족\n",
      "\n",
      "\n",
      "2. 동차성 테스트: f(c*x) = 24, c*f(x) = 24\n",
      "   결과: 만족\n"
     ]
    }
   ],
   "source": [
    "# 선형 함수 정의\n",
    "def linear_function(x):\n",
    "    return 2 * x\n",
    "\n",
    "# 테스트를 위한 입력값과 스칼라 설정\n",
    "x = 3\n",
    "y = 5\n",
    "c = 4 # 스칼라\n",
    "\n",
    "# 1. 가산성(Additivity) 테스트\n",
    "additivity_left = linear_function(x + y)\n",
    "additivity_right = linear_function(x) + linear_function(y)\n",
    "\n",
    "# 2. 동차성(Homogeneity) 테스트\n",
    "homogeneity_left = linear_function(c * x)\n",
    "homogeneity_right = c * linear_function(x)\n",
    "\n",
    "print(f\"함수 f(x) = 2x\")\n",
    "print(\"-\" * 30)\n",
    "print(f\"1. 가산성 테스트: f(x+y) = {additivity_left}, f(x)+f(y) = {additivity_right}\")\n",
    "print(f\"   결과: {'만족' if additivity_left == additivity_right else '불만족'}\")\n",
    "print(\"\\n\")\n",
    "print(f\"2. 동차성 테스트: f(c*x) = {homogeneity_left}, c*f(x) = {homogeneity_right}\")\n",
    "print(f\"   결과: {'만족' if homogeneity_left == homogeneity_right else '불만족'}\")"
   ]
  },
  {
   "cell_type": "markdown",
   "metadata": {},
   "source": [
    "함수 `f(x) = 2x`는 가산성과 동차성을 모두 만족하므로 선형 함수이다."
   ]
  },
  {
   "cell_type": "markdown",
   "metadata": {},
   "source": [
    "#### 예시 2: 선형이 아닌 함수 `g(x) = x + 1`\n",
    "\n",
    "언뜻 보기에 직선의 방정식(`y = x + 1`)이므로 선형 함수처럼 보일 수 있다. 하지만 선형대수학의 엄격한 정의에 따르면 이 함수는 선형이 아니다. 원점을 지나지 않는 직선은 선형 변환이 아니다."
   ]
  },
  {
   "cell_type": "code",
   "execution_count": 21,
   "metadata": {},
   "outputs": [
    {
     "name": "stdout",
     "output_type": "stream",
     "text": [
      "함수 g(x) = x + 1\n",
      "------------------------------\n",
      "1. 가산성 테스트: g(x+y) = 9, g(x)+g(y) = 10\n",
      "   결과: 불만족\n",
      "\n",
      "\n",
      "2. 동차성 테스트: g(c*x) = 13, c*g(x) = 16\n",
      "   결과: 불만족\n"
     ]
    }
   ],
   "source": [
    "# 비선형 함수 정의\n",
    "def non_linear_function(x):\n",
    "    return x + 1\n",
    "\n",
    "# 동일한 입력값과 스칼라로 테스트\n",
    "x = 3\n",
    "y = 5\n",
    "c = 4\n",
    "\n",
    "# 1. 가산성(Additivity) 테스트\n",
    "additivity_left = non_linear_function(x + y) # g(3+5) = g(8) = 9\n",
    "additivity_right = non_linear_function(x) + non_linear_function(y) # g(3)+g(5) = (3+1)+(5+1) = 10\n",
    "\n",
    "# 2. 동차성(Homogeneity) 테스트\n",
    "homogeneity_left = non_linear_function(c * x) # g(4*3) = g(12) = 13\n",
    "homogeneity_right = c * non_linear_function(x) # 4*g(3) = 4*(3+1) = 16\n",
    "\n",
    "print(f\"함수 g(x) = x + 1\")\n",
    "print(\"-\" * 30)\n",
    "print(f\"1. 가산성 테스트: g(x+y) = {additivity_left}, g(x)+g(y) = {additivity_right}\")\n",
    "print(f\"   결과: {'만족' if additivity_left == additivity_right else '불만족'}\")\n",
    "print(\"\\n\")\n",
    "print(f\"2. 동차성 테스트: g(c*x) = {homogeneity_left}, c*g(x) = {homogeneity_right}\")\n",
    "print(f\"   결과: {'만족' if homogeneity_left == homogeneity_right else '불만족'}\")"
   ]
  },
  {
   "cell_type": "markdown",
   "metadata": {},
   "source": [
    "함수 `g(x) = x + 1`은 가산성과 동차성 중 어느 것도 만족하지 않으므로 선형 함수가 아니다. 이처럼 상수항이 더해지는 간단한 형태도 선형성의 정의는 위반할 수 있다."
   ]
  },
  {
   "cell_type": "markdown",
   "metadata": {},
   "source": [
    "#### 요약"
   ]
  },
  {
   "cell_type": "markdown",
   "metadata": {},
   "source": [
    "선형성이란 함수의 입력에 가해지는 연산(덧셈, 스칼라 곱)이 출력에도 그대로 보존되는 성질이다."
   ]
  }
 ],
 "metadata": {
  "kernelspec": {
   "display_name": "Python 3",
   "language": "python",
   "name": "python3"
  },
  "language_info": {
   "codemirror_mode": {
    "name": "ipython",
    "version": 3
   },
   "file_extension": ".py",
   "mimetype": "text/x-python",
   "name": "python",
   "nbconvert_exporter": "python",
   "pygments_lexer": "ipython3",
   "version": "3.9.7"
  }
 },
 "nbformat": 4,
 "nbformat_minor": 4
}

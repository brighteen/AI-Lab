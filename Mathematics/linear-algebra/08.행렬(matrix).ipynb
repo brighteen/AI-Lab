{
 "cells": [
  {
   "cell_type": "markdown",
   "metadata": {},
   "source": [
    "## 선형대수학의 데이터 컨테이너: 행렬(Matrix)"
   ]
  },
  {
   "cell_type": "markdown",
   "metadata": {},
   "source": [
    "행렬은 숫자나 변수를 직사각형 격자 형태로 배열한 것이다. 선형대수학에서 행렬은 데이터를 정리하고, 연립방정식 시스템을 표현하며, 특히 벡터를 다른 벡터로 옮기는 선형 변환(Linear Transformation)을 나타내는 가장 핵심적인 도구로 사용된다. 모든 선형 변환은 행렬 곱셈으로 표현될 수 있다."
   ]
  },
  {
   "cell_type": "markdown",
   "metadata": {},
   "source": [
    "### 행렬의 구조와 표기\n",
    "\n",
    "- **m x n 행렬**: m개의 행(row)과 n개의 열(column)으로 구성된다.\n",
    "- **성분(Element)**: 행렬의 각 위치에 있는 값. i번째 행, j번째 열에 있는 성분은 $A_{ij}$로 표기한다.\n",
    "- **정방 행렬(Square Matrix)**: 행과 열의 수가 같은 행렬 (n x n).\n",
    "- **단위 행렬(Identity Matrix)**: 주대각선 성분이 모두 1이고 나머지 성분은 0인 정방 행렬. 곱셈의 항등원 역할을 한다. (`I`로 표기)\n",
    "- **전치 행렬(Transpose Matrix)**: 행과 열을 서로 바꾼 행렬. $A^T$로 표기한다."
   ]
  },
  {
   "cell_type": "markdown",
   "metadata": {},
   "source": [
    "### 파이썬으로 행렬 다루기\n",
    "\n",
    "NumPy 라이브러리는 행렬을 생성하고 다양한 연산을 수행하는 데 매우 효과적이다."
   ]
  },
  {
   "cell_type": "code",
   "execution_count": 1,
   "metadata": {},
   "outputs": [
    {
     "name": "stdout",
     "output_type": "stream",
     "text": [
      "행렬 A (shape: (2, 3)):\n",
      "[[1 2 3]\n",
      " [4 5 6]]\n",
      "\n",
      "행렬 B (shape: (3, 2)):\n",
      "[[ 7  8]\n",
      " [ 9 10]\n",
      " [11 12]]\n"
     ]
    }
   ],
   "source": [
    "import numpy as np\n",
    "\n",
    "# 2x3 행렬 A 정의\n",
    "A = np.array([[1, 2, 3],\n",
    "              [4, 5, 6]])\n",
    "\n",
    "# 3x2 행렬 B 정의\n",
    "B = np.array([[7, 8],\n",
    "              [9, 10],\n",
    "              [11, 12]])\n",
    "\n",
    "print(f\"행렬 A (shape: {A.shape}):\\n{A}\")\n",
    "print(f\"\\n행렬 B (shape: {B.shape}):\\n{B}\")"
   ]
  },
  {
   "cell_type": "markdown",
   "metadata": {},
   "source": [
    "### 행렬의 주요 연산"
   ]
  },
  {
   "cell_type": "markdown",
   "metadata": {},
   "source": [
    "#### 1. 덧셈, 뺄셈, 스칼라 곱셈\n",
    "같은 크기의 행렬끼리 각 성분을 더하거나 빼고, 모든 성분에 스칼라를 곱하는 연산이다."
   ]
  },
  {
   "cell_type": "code",
   "execution_count": 2,
   "metadata": {},
   "outputs": [
    {
     "name": "stdout",
     "output_type": "stream",
     "text": [
      "행렬 덧셈 (A1 + A2):\n",
      "[[ 6  8]\n",
      " [10 12]]\n",
      "\n",
      "스칼라 곱셈 (c * A1):\n",
      "[[ 3  6]\n",
      " [ 9 12]]\n"
     ]
    }
   ],
   "source": [
    "A1 = np.array([[1, 2], [3, 4]])\n",
    "A2 = np.array([[5, 6], [7, 8]])\n",
    "c = 3 # 스칼라\n",
    "\n",
    "add_matrix = A1 + A2\n",
    "scalar_mul_matrix = c * A1\n",
    "\n",
    "print(f\"행렬 덧셈 (A1 + A2):\\n{add_matrix}\")\n",
    "print(f\"\\n스칼라 곱셈 (c * A1):\\n{scalar_mul_matrix}\")"
   ]
  },
  {
   "cell_type": "markdown",
   "metadata": {},
   "source": [
    "#### 2. 행렬 곱셈 (Matrix Multiplication)\n",
    "행렬 곱셈은 선형 변환의 합성을 의미하며, 가장 중요하고 독특한 연산이다. `A @ B`는 변환 B를 적용한 후, 변환 A를 적용하는 것과 같다. 곱셈이 정의되려면 앞 행렬의 열(column) 수와 뒤 행렬의 행(row) 수가 같아야 한다."
   ]
  },
  {
   "cell_type": "code",
   "execution_count": 3,
   "metadata": {},
   "outputs": [
    {
     "name": "stdout",
     "output_type": "stream",
     "text": [
      "행렬 A (2x3):\n",
      "[[1 2 3]\n",
      " [4 5 6]]\n",
      "\n",
      "행렬 B (3x2):\n",
      "[[ 7  8]\n",
      " [ 9 10]\n",
      " [11 12]]\n",
      "\n",
      "행렬 곱셈 결과 C (2x2):\n",
      "[[ 58  64]\n",
      " [139 154]]\n"
     ]
    }
   ],
   "source": [
    "# (2x3) 행렬 A와 (3x2) 행렬 B의 곱셈\n",
    "# A의 열(3)과 B의 행(3)이 같으므로 곱셈 가능\n",
    "C = A @ B\n",
    "\n",
    "print(f\"행렬 A (2x3):\\n{A}\")\n",
    "print(f\"\\n행렬 B (3x2):\\n{B}\")\n",
    "print(f\"\\n행렬 곱셈 결과 C (2x2):\\n{C}\")"
   ]
  },
  {
   "cell_type": "markdown",
   "metadata": {},
   "source": [
    "#### 흔히 발생하는 실수\n",
    "행렬 곱셈은 교환 법칙이 성립하지 않는다. 즉, 대부분의 경우 `A @ B ≠ B @ A` 이다. 연산의 순서가 결과에 직접적인 영향을 미친다."
   ]
  },
  {
   "cell_type": "markdown",
   "metadata": {},
   "source": [
    "### 역행렬(Inverse Matrix)\n",
    "정방 행렬 `A`에 대해, 곱했을 때 단위 행렬 `I`가 나오는 행렬을 `A`의 역행렬이라 하고 $A^{-1}$로 표기한다. `A @ A⁻¹ = A⁻¹ @ A = I` 이다. 역행렬은 어떤 선형 변환을 '되돌리는' 변환에 해당한다. 행렬식이 0인 행렬(특이 행렬, Singular Matrix)은 역행렬을 갖지 않는다."
   ]
  },
  {
   "cell_type": "code",
   "execution_count": 4,
   "metadata": {},
   "outputs": [
    {
     "name": "stdout",
     "output_type": "stream",
     "text": [
      "행렬 M:\n",
      "[[2 1]\n",
      " [4 3]]\n",
      "\n",
      "M의 역행렬 M⁻¹:\n",
      "[[ 1.5 -0.5]\n",
      " [-2.   1. ]]\n",
      "\n",
      "M @ M⁻¹ (결과는 단위 행렬에 가까움):\n",
      "[[1. 0.]\n",
      " [0. 1.]]\n"
     ]
    }
   ],
   "source": [
    "# 역행렬 계산\n",
    "M = np.array([[2, 1],\n",
    "              [4, 3]])\n",
    "\n",
    "# M의 역행렬 계산\n",
    "try:\n",
    "    M_inv = np.linalg.inv(M)\n",
    "    identity = M @ M_inv\n",
    "\n",
    "    print(f\"행렬 M:\\n{M}\")\n",
    "    print(f\"\\nM의 역행렬 M⁻¹:\\n{M_inv}\")\n",
    "    print(f\"\\nM @ M⁻¹ (결과는 단위 행렬에 가까움):\\n{np.round(identity)}\") # 부동소수점 오차 반올림\n",
    "except np.linalg.LinAlgError as e:\n",
    "    print(f\"역행렬을 계산할 수 없음: {e}\")"
   ]
  },
  {
   "cell_type": "markdown",
   "metadata": {},
   "source": [
    "#### 요약"
   ]
  },
  {
   "cell_type": "markdown",
   "metadata": {},
   "source": [
    "행렬은 데이터를 담는 격자이자, 벡터 공간을 변환하는 연산자(operator) 역할을 수행하는 선형대수학의 핵심 도구이다."
   ]
  }
 ],
 "metadata": {
  "kernelspec": {
   "display_name": "venv (3.11.9)",
   "language": "python",
   "name": "python3"
  },
  "language_info": {
   "codemirror_mode": {
    "name": "ipython",
    "version": 3
   },
   "file_extension": ".py",
   "mimetype": "text/x-python",
   "name": "python",
   "nbconvert_exporter": "python",
   "pygments_lexer": "ipython3",
   "version": "3.11.9"
  }
 },
 "nbformat": 4,
 "nbformat_minor": 4
}

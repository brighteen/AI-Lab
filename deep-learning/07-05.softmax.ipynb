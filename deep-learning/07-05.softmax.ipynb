{
 "cells": [
  {
   "cell_type": "markdown",
   "metadata": {},
   "source": [
    "# 소프트맥스 함수 (Softmax Function)"
   ]
  },
  {
   "cell_type": "markdown",
   "metadata": {},
   "source": [
    "### 개념 요약\n",
    "소프트맥스 함수는 다중 클래스 분류(multi-class classification) 문제에서 모델의 출력값을 확률 분포로 변환하는 활성화 함수임. 입력으로 들어온 여러 개의 실수 값(로짓, logits)을 0과 1 사이의 값으로 변환하며, 변환된 모든 값의 총합은 항상 1이 됨.\n",
    "\n",
    "이러한 특성 덕분에, 각 클래스에 대한 예측 확률을 나타내는 데 매우 적합함. 예를 들어, [개, 고양이, 새]를 분류하는 모델의 출력 로짓이 `[2.0, 1.0, 0.1]`이라면, 소프트맥스는 이를 `[0.65, 0.24, 0.11]`과 같이 각 클래스일 확률로 변환해줌."
   ]
  },
  {
   "cell_type": "markdown",
   "metadata": {},
   "source": [
    "### 📐 수학적 배경\n",
    "소프트맥스 함수 $S(y_i)$는 입력 벡터 $\\mathbf{y}$의 각 요소 $y_i$에 대해 다음과 같이 정의됨.\n",
    "\n",
    "$$ S(y_i) = \\frac{e^{y_i}}{\\sum_{j=1}^{C} e^{y_j}} \\quad \\text{for } i=1, ..., C $$\n",
    "\n",
    "* $y_i$: 입력 벡터의 $i$번째 요소 (클래스 $i$에 대한 로짓)\n",
    "* $e^{y_i}$: $y_i$에 대한 지수 함수 값\n",
    "* $\\sum_{j=1}^{C} e^{y_j}$: 모든 입력 요소의 지수 함수 값의 총합 (정규화 항)\n",
    "* $C$: 전체 클래스의 개수\n",
    "\n",
    "**수치 안정성(Numerical Stability) 문제**: 입력값 $y_i$가 매우 크면 $e^{y_i}$가 오버플로우(overflow)를 일으킬 수 있음. 이를 해결하기 위해 입력 벡터의 최댓값을 각 요소에서 빼주는 트릭을 사용함. 이 트릭은 최종 결과에 영향을 주지 않으면서 계산을 안정적으로 만듦.\n",
    "$$ S(y_i) = \\frac{e^{y_i - c}}{\\sum_{j=1}^{C} e^{y_j - c}} \\quad \\text{where } c = \\max(\\mathbf{y}) $$"
   ]
  },
  {
   "cell_type": "markdown",
   "metadata": {},
   "source": [
    "### 라이브러리 임포트 (Setup)"
   ]
  },
  {
   "cell_type": "code",
   "execution_count": 1,
   "metadata": {},
   "outputs": [],
   "source": [
    "# !pip install numpy matplotlib\n",
    "\n",
    "import numpy as np\n",
    "import matplotlib.pyplot as plt"
   ]
  },
  {
   "cell_type": "markdown",
   "metadata": {},
   "source": [
    "### 예제 데이터 준비 (Data Preparation)\n",
    "신경망의 마지막 레이어에서 나온 출력 점수(로짓)를 가정하여 예제 데이터를 생성함. 3개의 클래스를 분류하는 상황을 가정."
   ]
  },
  {
   "cell_type": "code",
   "execution_count": 2,
   "metadata": {},
   "outputs": [
    {
     "name": "stdout",
     "output_type": "stream",
     "text": [
      "입력 로짓 (logits): [2.  1.  0.1]\n"
     ]
    }
   ],
   "source": [
    "# 클래스 3개에 대한 모델의 출력 로짓(logits)이라고 가정\n",
    "logits = np.array([2.0, 1.0, 0.1])\n",
    "print(f\"입력 로짓 (logits): {logits}\")"
   ]
  },
  {
   "cell_type": "markdown",
   "metadata": {},
   "source": [
    "### 핵심 로직 구현 (Code Implementation)\n",
    "수치적으로 안정화된(numerically stable) 소프트맥스 함수를 구현함."
   ]
  },
  {
   "cell_type": "code",
   "execution_count": 3,
   "metadata": {},
   "outputs": [
    {
     "name": "stdout",
     "output_type": "stream",
     "text": [
      "안정화된 로짓 (x - max(x)): [ 0.  -1.  -1.9]\n",
      "지수 적용 결과 (exp(x)): [1.     0.3679 0.1496]\n",
      "지수 결과의 합 (sum(exp(x))): 1.5174\n",
      "--- 최종 결과 ---\n",
      "소프트맥스 확률: [0.659  0.2424 0.0986]\n",
      "확률의 총합: 1.0000\n"
     ]
    }
   ],
   "source": [
    "def softmax(x):\n",
    "    \"\"\"수치적으로 안정적인 소프트맥스 함수를 계산함\"\"\"\n",
    "    # 1. 오버플로우 방지를 위해 입력값에서 최댓값을 빼줌\n",
    "    c = np.max(x)\n",
    "    stable_x = x - c\n",
    "    print(f\"안정화된 로짓 (x - max(x)): {stable_x}\")\n",
    "    \n",
    "    # 2. 각 요소에 지수 함수 적용\n",
    "    exp_x = np.exp(stable_x)\n",
    "    print(f\"지수 적용 결과 (exp(x)): {np.round(exp_x, 4)}\")\n",
    "    \n",
    "    # 3. 지수 함수의 합 계산 (정규화 항)\n",
    "    sum_exp_x = np.sum(exp_x)\n",
    "    print(f\"지수 결과의 합 (sum(exp(x))): {sum_exp_x:.4f}\")\n",
    "    \n",
    "    # 4. 각 요소를 합으로 나누어 확률 계산\n",
    "    probabilities = exp_x / sum_exp_x\n",
    "    return probabilities\n",
    "\n",
    "# 소프트맥스 함수 적용\n",
    "probabilities = softmax(logits)\n",
    "\n",
    "print(\"--- 최종 결과 ---\")\n",
    "print(f\"소프트맥스 확률: {np.round(probabilities, 4)}\")\n",
    "print(f\"확률의 총합: {np.sum(probabilities):.4f}\")"
   ]
  },
  {
   "cell_type": "markdown",
   "metadata": {},
   "source": [
    "### 📊 결과 확인 및 시각화 (Results & Visualization)\n",
    "소프트맥스 함수를 통해 변환된 로짓 값을 확률 분포로 시각화하여 결과를 직관적으로 확인함. 가장 높은 로짓 값을 가졌던 클래스가 가장 높은 확률을 갖게 됨."
   ]
  },
  {
   "cell_type": "code",
   "execution_count": 4,
   "metadata": {},
   "outputs": [
    {
     "data": {
      "image/png": "[encoded data removed]",
      "text/plain": [
       "<Figure size 800x500 with 1 Axes>"
      ]
     },
     "metadata": {},
     "output_type": "display_data"
    }
   ],
   "source": [
    "class_names = ['Class A', 'Class B', 'Class C']\n",
    "\n",
    "plt.figure(figsize=(8, 5))\n",
    "bars = plt.bar(class_names, probabilities, color=['skyblue', 'lightgreen', 'salmon'])\n",
    "\n",
    "plt.title('Softmax Probabilities per Class', fontsize=16)\n",
    "plt.xlabel('Class')\n",
    "plt.ylabel('Probability')\n",
    "plt.ylim(0, 1.0)\n",
    "\n",
    "# 각 막대 위에 확률 값 표시\n",
    "for bar in bars:\n",
    "    yval = bar.get_height()\n",
    "    plt.text(bar.get_x() + bar.get_width()/2.0, yval, f'{yval:.2%}', va='bottom', ha='center')\n",
    "\n",
    "plt.show()"
   ]
  },
  {
   "cell_type": "markdown",
   "metadata": {},
   "source": [
    "### 고려사항 (Considerations)\n",
    "\n",
    "* **크로스 엔트로피 손실 함수와의 결합**: 소프트맥스 함수는 다중 클래스 분류 모델의 학습 시, 크로스 엔트로피(Cross-Entropy) 손실 함수와 거의 항상 함께 사용됨. 이 조합은 모델이 정답 클래스의 확률은 높이고 오답 클래스의 확률은 낮추도록 효과적으로 학습시킴.\n",
    "* **시그모이드(Sigmoid)와의 차이점**: 시그모이드는 각 출력이 독립적인 이진 분류(binary classification)나 다중 레이블 분류(multi-label classification, 예: 하나의 이미지에 개와 고양이가 모두 있음)에 사용됨. 반면, 소프트맥스는 여러 클래스 중 단 하나만 정답인 상호 배타적인 다중 클래스 분류(multi-class classification)에 사용됨."
   ]
  },
  {
   "cell_type": "markdown",
   "metadata": {},
   "source": [
    "### 최종 요약 (Conclusion)\n",
    "소프트맥스 함수는 신경망의 로짓(raw scores)을 다중 클래스 분류 문제에 적합한 확률 분포로 변환하는 핵심적인 요소임. 입력값의 상대적인 크기를 보존하면서 그 총합이 1이 되도록 정규화하여, 모델의 예측을 직관적으로 해석 가능한 확률로 만들어 줌.\n",
    "\n",
    "구현 시에는 지수 함수의 특성으로 인한 오버플로우를 방지하기 위해 입력값에서 최댓값을 빼주는 **수치 안정화 기법**을 적용하는 것이 매우 중요함."
   ]
  }
 ],
 "metadata": {
  "kernelspec": {
   "display_name": "venv (3.11.9)",
   "language": "python",
   "name": "python3"
  },
  "language_info": {
   "codemirror_mode": {
    "name": "ipython",
    "version": 3
   },
   "file_extension": ".py",
   "mimetype": "text/x-python",
   "name": "python",
   "nbconvert_exporter": "python",
   "pygments_lexer": "ipython3",
   "version": "3.11.9"
  }
 },
 "nbformat": 4,
 "nbformat_minor": 4
}

{
 "cells": [
  {
   "cell_type": "markdown",
   "metadata": {},
   "source": [
    "## SGD (Stochastic Gradient Descent) 옵티마이저\n",
    "\n",
    "SGD는 손실 함수의 기울기(gradient)를 사용하여 모델 파라미터를 점진적으로 업데이트하는 최적화 알고리즘이다. 전체 데이터셋이 아닌, 랜덤하게 선택된 **하나의 데이터 샘플**에 대한 기울기를 계산하여 파라미터를 업데이트하기 때문에 계산 효율이 높고 대규모 데이터셋 학습에 특히 효과적이다."
   ]
  },
  {
   "cell_type": "markdown",
   "metadata": {},
   "source": [
    "### 기본 설정\n",
    "예시에 필요한 `numpy` 라이브러리를 임포트."
   ]
  },
  {
   "cell_type": "code",
   "execution_count": 1,
   "metadata": {},
   "outputs": [],
   "source": [
    "import numpy as np"
   ]
  },
  {
   "cell_type": "markdown",
   "metadata": {},
   "source": [
    "### 예시 데이터 준비\n",
    "간단한 선형 관계를 갖는 데이터를 생성. `y = 2x + 1` 관계에 약간의 노이즈(noise)를 추가하여 현실적인 데이터 흉내."
   ]
  },
  {
   "cell_type": "code",
   "execution_count": 2,
   "metadata": {},
   "outputs": [
    {
     "name": "stdout",
     "output_type": "stream",
     "text": [
      "X (입력) 샘플:\n",
      " [[0.8356285 ]\n",
      " [0.44955233]\n",
      " [0.42660979]\n",
      " [1.87747808]\n",
      " [0.22317669]]\n",
      "y (정답) 샘플:\n",
      " [[1.93521611]\n",
      " [1.60521491]\n",
      " [1.86927665]\n",
      " [3.73384817]\n",
      " [1.44616265]]\n"
     ]
    }
   ],
   "source": [
    "# 데이터 생성\n",
    "X = 2 * np.random.rand(100, 1)\n",
    "y = 1 + 2 * X + np.random.randn(100, 1) # y = 1 + 2x + noise\n",
    "\n",
    "# 데이터 확인 (첫 5개)\n",
    "print(\"X (입력) 샘플:\\n\", X[:5])\n",
    "print(\"y (정답) 샘플:\\n\", y[:5])"
   ]
  },
  {
   "cell_type": "markdown",
   "metadata": {},
   "source": [
    "### SGD 구현 및 모델 학습\n",
    "\n",
    "SGD 알고리즘을 직접 구현하여 모델의 최적 파라미터(가중치 `w`와 편향 `b`)를 찾아가는 과정.\n",
    "\n",
    "1. `w`와 `b`를 임의의 값으로 초기화.\n",
    "2. 각 epoch(전체 데이터셋 반복 횟수)마다 **데이터 순서를 섞음**.\n",
    "3. 데이터 샘플 **하나씩** 반복하면서 예측값과 실제값의 오차를 계산.\n",
    "4. 오차에 대한 기울기를 계산하여 `w`와 `b`를 업데이트 (경사 하강).\n",
    "5. 이 과정을 모든 epoch 동안 반복."
   ]
  },
  {
   "cell_type": "code",
   "execution_count": 3,
   "metadata": {},
   "outputs": [
    {
     "name": "stdout",
     "output_type": "stream",
     "text": [
      "초기 가중치 w: 0.8666, 초기 편향 b: -0.5179\n",
      "Epoch 10: w = 2.0766, b = 1.0939\n",
      "Epoch 20: w = 2.0806, b = 1.0962\n",
      "Epoch 30: w = 2.0611, b = 1.0818\n",
      "Epoch 40: w = 1.9392, b = 0.9822\n",
      "Epoch 50: w = 2.0866, b = 1.1167\n"
     ]
    }
   ],
   "source": [
    "# 하이퍼파라미터 설정\n",
    "learning_rate = 0.01 # 학습률\n",
    "n_epochs = 50       # 에포크 수\n",
    "\n",
    "# 모델 파라미터(가중치, 편향) 초기화\n",
    "w = np.random.randn(1, 1) # 가중치\n",
    "b = np.random.randn(1, 1) # 편향\n",
    "\n",
    "# 데이터 개수\n",
    "m = len(X)\n",
    "\n",
    "print(f\"초기 가중치 w: {w[0][0]:.4f}, 초기 편향 b: {b[0][0]:.4f}\")\n",
    "\n",
    "# 학습 과정\n",
    "for epoch in range(n_epochs):\n",
    "    # 매 에포크마다 데이터 순서를 섞어줌 (Stochastic의 핵심)\n",
    "    indices = np.random.permutation(m)\n",
    "    X_shuffled = X[indices]\n",
    "    y_shuffled = y[indices]\n",
    "    \n",
    "    for i in range(m):\n",
    "        # 데이터 샘플 하나 선택\n",
    "        xi = X_shuffled[i:i+1]\n",
    "        yi = y_shuffled[i:i+1]\n",
    "        \n",
    "        # 예측 (y_hat = w*x + b)\n",
    "        y_pred = np.dot(xi, w) + b\n",
    "        \n",
    "        # 오차 계산\n",
    "        error = y_pred - yi\n",
    "        \n",
    "        # 기울기(gradient) 계산\n",
    "        # 손실 함수(MSE)를 w, b에 대해 각각 편미분한 결과\n",
    "        gradient_w = 2 * xi.T.dot(error)\n",
    "        gradient_b = 2 * np.sum(error)\n",
    "        \n",
    "        # 파라미터 업데이트\n",
    "        w = w - learning_rate * gradient_w\n",
    "        b = b - learning_rate * gradient_b\n",
    "        \n",
    "    if (epoch + 1) % 10 == 0:\n",
    "        print(f\"Epoch {epoch+1:2d}: w = {w[0][0]:.4f}, b = {b[0][0]:.4f}\")"
   ]
  },
  {
   "cell_type": "markdown",
   "metadata": {},
   "source": [
    "### 학습 결과 확인\n",
    "\n",
    "학습이 완료된 후의 최종 가중치 `w`와 편향 `b`를 확인. 우리가 생성한 데이터의 실제 값(`w=2`, `b=1`)에 근사하는지 비교."
   ]
  },
  {
   "cell_type": "code",
   "execution_count": 4,
   "metadata": {},
   "outputs": [
    {
     "name": "stdout",
     "output_type": "stream",
     "text": [
      "===== 학습 완료 ====\n",
      "최종 가중치 w: 2.0866\n",
      "최종 편향 b: 1.1167\n",
      "실제 값: w=2, b=1\n"
     ]
    }
   ],
   "source": [
    "print(\"===== 학습 완료 ====\")\n",
    "print(f\"최종 가중치 w: {w[0][0]:.4f}\")\n",
    "print(f\"최종 편향 b: {b[0][0]:.4f}\")\n",
    "print(\"실제 값: w=2, b=1\")"
   ]
  },
  {
   "cell_type": "markdown",
   "metadata": {},
   "source": [
    "### 학습된 모델 시각화\n",
    "\n",
    "원본 데이터와 SGD를 통해 학습된 선형 회귀 직선을 함께 그려서 결과 확인."
   ]
  },
  {
   "cell_type": "code",
   "execution_count": 5,
   "metadata": {},
   "outputs": [
    {
     "data": {
      "image/png": "[encoded data removed]",
      "text/plain": [
       "<Figure size 640x480 with 1 Axes>"
      ]
     },
     "metadata": {},
     "output_type": "display_data"
    }
   ],
   "source": [
    "import matplotlib.pyplot as plt\n",
    "\n",
    "# 산점도로 원본 데이터 시각화\n",
    "plt.scatter(X, y, label='Original Data')\n",
    "\n",
    "# 학습된 선형 회귀선 시각화\n",
    "y_pred_line = w * X + b\n",
    "plt.plot(X, y_pred_line, color='red', linewidth=2, label='Learned Line (SGD)')\n",
    "\n",
    "plt.xlabel('X')\n",
    "plt.ylabel('y')\n",
    "plt.title('SGD Linear Regression')\n",
    "plt.legend()\n",
    "plt.grid(True)\n",
    "plt.show()"
   ]
  },
  {
   "cell_type": "markdown",
   "metadata": {},
   "source": [
    "### 흔히 발생하는 문제 및 고려사항\n",
    "\n",
    "- **불안정한 손실 값(Noisy Updates)**: 매 업데이트마다 단일 샘플만 사용하므로, 손실 값이 부드럽게 감소하지 않고 불안정하게 변동할 수 있다. 하지만 이러한 노이즈가 지역 최솟값(local minima)을 탈출하는 데 도움을 주기도 한다.\n",
    "- **학습률(Learning Rate) 선택의 중요성**: 학습률이 너무 크면 최적점을 지나쳐 발산할 수 있고, 너무 작으면 학습 속도가 매우 느려지거나 지역 최솟값에 갇히기 쉽다. 따라서 적절한 학습률을 선택하는 것이 매우 중요하다."
   ]
  },
  {
   "cell_type": "markdown",
   "metadata": {},
   "source": [
    "### 한 문장 요약\n",
    "\n",
    "SGD는 데이터 샘플 하나씩의 기울기를 이용해 모델을 점진적으로 최적화하는 빠르고 효율적인 알고리즘이다."
   ]
  }
 ],
 "metadata": {
  "kernelspec": {
   "display_name": "venv (3.11.9)",
   "language": "python",
   "name": "python3"
  },
  "language_info": {
   "codemirror_mode": {
    "name": "ipython",
    "version": 3
   },
   "file_extension": ".py",
   "mimetype": "text/x-python",
   "name": "python",
   "nbconvert_exporter": "python",
   "pygments_lexer": "ipython3",
   "version": "3.11.9"
  }
 },
 "nbformat": 4,
 "nbformat_minor": 4
}
